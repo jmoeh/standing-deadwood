{
 "cells": [
  {
   "cell_type": "code",
   "execution_count": 1,
   "metadata": {},
   "outputs": [],
   "source": [
    "import logging\n",
    "import wandb\n",
    "import torch\n",
    "import torch.nn as nn\n",
    "import torch.nn.functional as F\n",
    "from torch.utils.data import DataLoader, random_split, Subset\n",
    "from tqdm import tqdm\n",
    "import numpy as np\n",
    "\n",
    "from unet.dataset import DeadwoodDataset\n",
    "from unet.dice_score import dice_loss\n",
    "from unet.unet_model import UNet\n",
    "from unet.evaluate import evaluate"
   ]
  },
  {
   "cell_type": "code",
   "execution_count": 2,
   "metadata": {},
   "outputs": [],
   "source": [
    "dataset = DeadwoodDataset(\n",
    "    \"/net/scratch/jmoehring/tiles/images\",\n",
    "    \"/net/scratch/jmoehring/tiles/masks\",\n",
    ")"
   ]
  },
  {
   "cell_type": "code",
   "execution_count": 3,
   "metadata": {},
   "outputs": [],
   "source": [
    "# model params\n",
    "epochs: int = 5\n",
    "batch_size: int = 10\n",
    "learning_rate: float = 1e-5\n",
    "val_percent: float = 0.1\n",
    "save_checkpoint: bool = True\n",
    "img_scale: float = 0.5\n",
    "amp: bool = False\n",
    "weight_decay: float = 1e-8\n",
    "momentum: float = 0.999\n",
    "gradient_clipping: float = 1.0"
   ]
  },
  {
   "cell_type": "code",
   "execution_count": 4,
   "metadata": {},
   "outputs": [],
   "source": [
    "subset_sel = [i for i in range(1000)]"
   ]
  },
  {
   "cell_type": "code",
   "execution_count": 5,
   "metadata": {},
   "outputs": [],
   "source": [
    "sub_dataset = Subset(dataset, subset_sel)"
   ]
  },
  {
   "cell_type": "code",
   "execution_count": 6,
   "metadata": {},
   "outputs": [],
   "source": [
    "n_val = int(len(sub_dataset) * val_percent)\n",
    "n_train = len(sub_dataset) - n_val\n",
    "train_set, val_set = random_split(\n",
    "    sub_dataset,\n",
    "    [n_train, n_val],\n",
    "    generator=torch.Generator().manual_seed(0),\n",
    ")"
   ]
  },
  {
   "cell_type": "code",
   "execution_count": 7,
   "metadata": {},
   "outputs": [],
   "source": [
    "loader_args = dict(batch_size=batch_size, num_workers=2, pin_memory=True)\n",
    "train_loader = DataLoader(\n",
    "    train_set, shuffle=True, batch_size=batch_size, num_workers=2, pin_memory=True\n",
    ")\n",
    "val_loader = DataLoader(\n",
    "    val_set, shuffle=True, batch_size=batch_size, num_workers=2, pin_memory=True\n",
    ")"
   ]
  },
  {
   "cell_type": "code",
   "execution_count": 8,
   "metadata": {},
   "outputs": [
    {
     "name": "stderr",
     "output_type": "stream",
     "text": [
      "INFO: Using device cuda\n"
     ]
    }
   ],
   "source": [
    "logging.basicConfig(level=logging.INFO, format=\"%(levelname)s: %(message)s\")\n",
    "device = torch.device(\"cuda\" if torch.cuda.is_available() else \"cpu\")\n",
    "logging.info(f\"Using device {device}\")\n",
    "\n",
    "# model with three input channels (RGB)\n",
    "model = UNet(n_channels=3, n_classes=1, bilinear=True)\n",
    "model = model.to(memory_format=torch.channels_last)\n",
    "model.to(device=device)\n",
    "\n",
    "# loss function (binary cross entropy)\n",
    "criterion = nn.BCEWithLogitsLoss()\n",
    "\n",
    "# optimizer\n",
    "optimizer = torch.optim.RMSprop(\n",
    "    model.parameters(), lr=learning_rate, weight_decay=weight_decay, momentum=momentum\n",
    ")\n",
    "scheduler = torch.optim.lr_scheduler.ReduceLROnPlateau(optimizer, \"max\", patience=5)\n",
    "grad_scaler = torch.cuda.amp.grad_scaler.GradScaler(enabled=amp)"
   ]
  },
  {
   "cell_type": "code",
   "execution_count": 9,
   "metadata": {},
   "outputs": [
    {
     "name": "stderr",
     "output_type": "stream",
     "text": [
      "ERROR: Failed to detect the name of this notebook, you can set it manually with the WANDB_NOTEBOOK_NAME environment variable to enable code saving.\n",
      "\u001b[34m\u001b[1mwandb\u001b[0m: Currently logged in as: \u001b[33mjmoehring\u001b[0m. Use \u001b[1m`wandb login --relogin`\u001b[0m to force relogin\n"
     ]
    },
    {
     "data": {
      "text/html": [
       "wandb version 0.16.1 is available!  To upgrade, please run:\n",
       " $ pip install wandb --upgrade"
      ],
      "text/plain": [
       "<IPython.core.display.HTML object>"
      ]
     },
     "metadata": {},
     "output_type": "display_data"
    },
    {
     "data": {
      "text/html": [
       "Tracking run with wandb version 0.13.5"
      ],
      "text/plain": [
       "<IPython.core.display.HTML object>"
      ]
     },
     "metadata": {},
     "output_type": "display_data"
    },
    {
     "data": {
      "text/html": [
       "Run data is saved locally in <code>/net/home/jmoehring/standing-deadwood/wandb/run-20231218_142425-30n2emk9</code>"
      ],
      "text/plain": [
       "<IPython.core.display.HTML object>"
      ]
     },
     "metadata": {},
     "output_type": "display_data"
    },
    {
     "data": {
      "text/html": [
       "Syncing run <strong><a href=\"https://wandb.ai/jmoehring/standing-deadwood-unet/runs/30n2emk9\" target=\"_blank\">balmy-darkness-9</a></strong> to <a href=\"https://wandb.ai/jmoehring/standing-deadwood-unet\" target=\"_blank\">Weights & Biases</a> (<a href=\"https://wandb.me/run\" target=\"_blank\">docs</a>)<br/>"
      ],
      "text/plain": [
       "<IPython.core.display.HTML object>"
      ]
     },
     "metadata": {},
     "output_type": "display_data"
    }
   ],
   "source": [
    "experiment = wandb.init(\n",
    "    project=\"standing-deadwood-unet\", resume=\"allow\", anonymous=\"must\"\n",
    ")\n",
    "experiment.config.update(\n",
    "    dict(\n",
    "        epochs=epochs,\n",
    "        batch_size=batch_size,\n",
    "        learning_rate=learning_rate,\n",
    "        val_percent=val_percent,\n",
    "        save_checkpoint=save_checkpoint,\n",
    "        img_scale=img_scale,\n",
    "        amp=amp,\n",
    "    )\n",
    ")"
   ]
  },
  {
   "cell_type": "code",
   "execution_count": 10,
   "metadata": {},
   "outputs": [
    {
     "name": "stderr",
     "output_type": "stream",
     "text": [
      "Epoch 1/5:  20%|██        | 180/900 [00:07<00:26, 26.97img/s, loss (batch)=1.21]INFO: Validation Dice score: 0.00022963497031014413\n",
      "Epoch 1/5:  40%|████      | 360/900 [00:16<00:20, 26.74img/s, loss (batch)=1.16]INFO: Validation Dice score: 0.949999988079071\n",
      "Epoch 1/5:  60%|██████    | 540/900 [00:24<00:13, 26.67img/s, loss (batch)=1.09]INFO: Validation Dice score: 0.949999988079071\n",
      "Epoch 1/5:  80%|████████  | 720/900 [00:33<00:06, 26.78img/s, loss (batch)=1.02] INFO: Validation Dice score: 0.7800460457801819\n",
      "Epoch 1/5: 100%|██████████| 900/900 [00:42<00:00, 26.66img/s, loss (batch)=0.713]INFO: Validation Dice score: 0.4724428355693817\n",
      "Epoch 1/5: 100%|██████████| 900/900 [00:44<00:00, 20.40img/s, loss (batch)=0.713]\n",
      "Epoch 2/5:  20%|██        | 180/900 [00:06<00:26, 26.71img/s, loss (batch)=0.811]INFO: Validation Dice score: 0.8201643228530884\n",
      "Epoch 2/5:  40%|████      | 360/900 [00:15<00:20, 26.57img/s, loss (batch)=1.03] INFO: Validation Dice score: 0.949999988079071\n",
      "Epoch 2/5:  60%|██████    | 540/900 [00:24<00:13, 26.49img/s, loss (batch)=1.04] INFO: Validation Dice score: 0.949999988079071\n",
      "Epoch 2/5:  80%|████████  | 720/900 [00:32<00:06, 26.47img/s, loss (batch)=0.889]INFO: Validation Dice score: 0.949999988079071\n",
      "Epoch 2/5: 100%|██████████| 900/900 [00:41<00:00, 26.43img/s, loss (batch)=1]    INFO: Validation Dice score: 0.949999988079071\n",
      "Epoch 2/5: 100%|██████████| 900/900 [00:43<00:00, 20.70img/s, loss (batch)=1]\n",
      "Epoch 3/5:  20%|██        | 180/900 [00:06<00:27, 26.45img/s, loss (batch)=1.01] INFO: Validation Dice score: 0.9500001072883606\n",
      "Epoch 3/5:  40%|████      | 360/900 [00:15<00:20, 26.41img/s, loss (batch)=1.32] INFO: Validation Dice score: 0.949999988079071\n",
      "Epoch 3/5:  60%|██████    | 540/900 [00:24<00:13, 26.34img/s, loss (batch)=1.22] INFO: Validation Dice score: 0.949999988079071\n",
      "Epoch 3/5:  80%|████████  | 720/900 [00:33<00:06, 26.30img/s, loss (batch)=1]    INFO: Validation Dice score: 0.9499999284744263\n",
      "Epoch 3/5: 100%|██████████| 900/900 [00:41<00:00, 26.32img/s, loss (batch)=1]    INFO: Validation Dice score: 0.949999988079071\n",
      "Epoch 3/5: 100%|██████████| 900/900 [00:43<00:00, 20.60img/s, loss (batch)=1]\n",
      "Epoch 4/5:  20%|██        | 180/900 [00:06<00:27, 26.37img/s, loss (batch)=0.917]INFO: Validation Dice score: 0.949999988079071\n",
      "Epoch 4/5:  40%|████      | 360/900 [00:15<00:20, 26.26img/s, loss (batch)=1.38] INFO: Validation Dice score: 0.949999988079071\n",
      "Epoch 4/5:  60%|██████    | 540/900 [00:24<00:13, 26.26img/s, loss (batch)=1.19] INFO: Validation Dice score: 0.949999988079071\n",
      "Epoch 4/5:  80%|████████  | 720/900 [00:33<00:06, 26.25img/s, loss (batch)=1.23] INFO: Validation Dice score: 0.949999988079071\n",
      "Epoch 4/5: 100%|██████████| 900/900 [00:41<00:00, 26.26img/s, loss (batch)=1]    INFO: Validation Dice score: 0.949999988079071\n",
      "Epoch 4/5: 100%|██████████| 900/900 [00:43<00:00, 20.55img/s, loss (batch)=1]\n",
      "Epoch 5/5:  20%|██        | 180/900 [00:07<00:27, 26.33img/s, loss (batch)=1.68] INFO: Validation Dice score: 0.949999988079071\n",
      "Epoch 5/5:  40%|████      | 360/900 [00:15<00:20, 26.25img/s, loss (batch)=1.01] INFO: Validation Dice score: 0.949999988079071\n",
      "Epoch 5/5:  60%|██████    | 540/900 [00:24<00:13, 26.21img/s, loss (batch)=0.899]INFO: Validation Dice score: 0.949999988079071\n",
      "Epoch 5/5:  80%|████████  | 720/900 [00:33<00:06, 26.22img/s, loss (batch)=1]    INFO: Validation Dice score: 0.949999988079071\n",
      "Epoch 5/5: 100%|██████████| 900/900 [00:41<00:00, 26.24img/s, loss (batch)=1]    INFO: Validation Dice score: 0.949999988079071\n",
      "Epoch 5/5: 100%|██████████| 900/900 [00:43<00:00, 20.58img/s, loss (batch)=1]\n"
     ]
    }
   ],
   "source": [
    "global_step = 0\n",
    "for epoch in range(1, epochs + 1):\n",
    "    model.train()\n",
    "    epoch_loss = 0\n",
    "\n",
    "    with tqdm(total=n_train, desc=f\"Epoch {epoch}/{epochs}\", unit=\"img\") as pbar:\n",
    "        for images, masks_true in train_loader:\n",
    "            images = images.to(\n",
    "                device=device, dtype=torch.float32, memory_format=torch.channels_last\n",
    "            )\n",
    "            masks_true = masks_true.to(device=device, dtype=torch.long).squeeze(1)\n",
    "\n",
    "            with torch.amp.autocast(\n",
    "                device.type if device.type != \"mps\" else \"cpu\", enabled=amp\n",
    "            ):\n",
    "                masks_pred = model(images).squeeze(1)\n",
    "\n",
    "                loss = criterion(masks_pred.squeeze(1), masks_true.float())\n",
    "                loss += dice_loss(\n",
    "                    F.sigmoid(masks_pred.squeeze(1)),\n",
    "                    masks_true.float(),\n",
    "                    multiclass=False,\n",
    "                )\n",
    "                optimizer.zero_grad(set_to_none=True)\n",
    "                grad_scaler.scale(loss).backward()\n",
    "                torch.nn.utils.clip_grad.clip_grad_norm_(\n",
    "                    model.parameters(), gradient_clipping\n",
    "                )\n",
    "                grad_scaler.step(optimizer)\n",
    "                grad_scaler.update()\n",
    "\n",
    "                pbar.update(images.shape[0])\n",
    "                global_step += 1\n",
    "                epoch_loss += loss.item()\n",
    "                experiment.log(\n",
    "                    {\"train loss\": loss.item(), \"step\": global_step, \"epoch\": epoch}\n",
    "                )\n",
    "                pbar.set_postfix(**{\"loss (batch)\": loss.item()})\n",
    "\n",
    "                division_step = n_train // (5 * batch_size)\n",
    "                if division_step > 0:\n",
    "                    if global_step % division_step == 0:\n",
    "                        histograms = {}\n",
    "                        for tag, value in model.named_parameters():\n",
    "                            tag = tag.replace(\"/\", \".\")\n",
    "                            if not (torch.isinf(value) | torch.isnan(value)).any():\n",
    "                                histograms[\"Weights/\" + tag] = wandb.Histogram(\n",
    "                                    value.data.cpu()\n",
    "                                )\n",
    "                            if not (\n",
    "                                torch.isinf(value.grad) | torch.isnan(value.grad)\n",
    "                            ).any():\n",
    "                                histograms[\"Gradients/\" + tag] = wandb.Histogram(\n",
    "                                    value.grad.data.cpu()\n",
    "                                )\n",
    "\n",
    "                        val_score = evaluate(model, val_loader, device, amp)\n",
    "                        scheduler.step(val_score)\n",
    "\n",
    "                        logging.info(\"Validation Dice score: {}\".format(val_score))\n",
    "\n",
    "                        relevant_index = 0\n",
    "                        for index, mask_true in enumerate(masks_true):\n",
    "                            if 1 in mask_true:\n",
    "                                relevant_index = index\n",
    "                        experiment.log(\n",
    "                            {\n",
    "                                \"learning rate\": optimizer.param_groups[0][\"lr\"],\n",
    "                                \"validation Dice\": val_score,\n",
    "                                \"images\": wandb.Image(images[relevant_index].cpu()),\n",
    "                                \"masks\": {\n",
    "                                    \"true\": wandb.Image(\n",
    "                                        masks_true[relevant_index].float().cpu()\n",
    "                                    ),\n",
    "                                    \"pred\": wandb.Image(\n",
    "                                        F.sigmoid(\n",
    "                                            masks_pred[relevant_index].float().cpu()\n",
    "                                        )\n",
    "                                    ),\n",
    "                                },\n",
    "                                \"step\": global_step,\n",
    "                                \"epoch\": epoch,\n",
    "                                **histograms,\n",
    "                            }\n",
    "                        )"
   ]
  }
 ],
 "metadata": {
  "kernelspec": {
   "display_name": "venv",
   "language": "python",
   "name": "python3"
  },
  "language_info": {
   "codemirror_mode": {
    "name": "ipython",
    "version": 3
   },
   "file_extension": ".py",
   "mimetype": "text/x-python",
   "name": "python",
   "nbconvert_exporter": "python",
   "pygments_lexer": "ipython3",
   "version": "3.8.10"
  }
 },
 "nbformat": 4,
 "nbformat_minor": 2
}
