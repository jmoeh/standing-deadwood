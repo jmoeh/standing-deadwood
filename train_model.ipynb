{
 "cells": [
  {
   "cell_type": "code",
   "execution_count": null,
   "metadata": {},
   "outputs": [],
   "source": [
    "import torch\n",
    "import torch.nn as nn\n",
    "import torch.nn.functional as F\n",
    "from torch.utils.data import DataLoader, random_split\n",
    "from tqdm import tqdm\n",
    "\n",
    "from unet.dataset import DeadwoodDataset\n",
    "from unet.dice_score import dice_loss\n",
    "from unet.unet_model import UNet"
   ]
  },
  {
   "cell_type": "code",
   "execution_count": null,
   "metadata": {},
   "outputs": [],
   "source": [
    "dataset = DeadwoodDataset(\n",
    "    \"data/train_batch/images\",\n",
    "    \"data/train_batch/masks\",\n",
    ")"
   ]
  },
  {
   "cell_type": "code",
   "execution_count": null,
   "metadata": {},
   "outputs": [],
   "source": [
    "# model params\n",
    "epochs: int = 5\n",
    "batch_size: int = 10\n",
    "learning_rate: float = 1e-5\n",
    "val_percent: float = 0.1\n",
    "save_checkpoint: bool = True\n",
    "img_scale: float = 0.5\n",
    "amp: bool = False\n",
    "weight_decay: float = 1e-8\n",
    "momentum: float = 0.999\n",
    "gradient_clipping: float = 1.0"
   ]
  },
  {
   "cell_type": "code",
   "execution_count": null,
   "metadata": {},
   "outputs": [],
   "source": [
    "n_val = int(len(dataset) * val_percent)\n",
    "n_train = len(dataset) - n_val\n",
    "train_set, val_set = random_split(\n",
    "    dataset, [n_train, n_val], generator=torch.Generator().manual_seed(0)\n",
    ")"
   ]
  },
  {
   "cell_type": "code",
   "execution_count": null,
   "metadata": {},
   "outputs": [],
   "source": [
    "loader_args = dict(batch_size=batch_size, num_workers=2, pin_memory=True)\n",
    "train_loader = DataLoader(\n",
    "    dataset, shuffle=True, batch_size=batch_size, num_workers=2, pin_memory=True\n",
    ")\n",
    "val_loader = DataLoader(\n",
    "    val_set, shuffle=True, batch_size=batch_size, num_workers=2, pin_memory=True\n",
    ")"
   ]
  },
  {
   "cell_type": "code",
   "execution_count": null,
   "metadata": {},
   "outputs": [],
   "source": [
    "device = torch.device(\"cuda\" if torch.cuda.is_available() else \"cpu\")\n",
    "\n",
    "# model with three input channels (RGB)\n",
    "model = UNet(n_channels=3, n_classes=1, bilinear=True)\n",
    "\n",
    "# loss function (binary cross entropy)\n",
    "criterion = nn.BCEWithLogitsLoss()\n",
    "\n",
    "# optimizer\n",
    "optimizer = torch.optim.RMSprop(\n",
    "    model.parameters(), lr=learning_rate, weight_decay=weight_decay, momentum=momentum\n",
    ")\n",
    "scheduler = torch.optim.lr_scheduler.ReduceLROnPlateau(optimizer, \"max\", patience=5)\n",
    "grad_scaler = torch.cuda.amp.grad_scaler.GradScaler(enabled=amp)"
   ]
  },
  {
   "cell_type": "code",
   "execution_count": null,
   "metadata": {},
   "outputs": [],
   "source": [
    "global_step = 0\n",
    "for epoch in range(1, epochs + 1):\n",
    "    model.train()\n",
    "    epoch_loss = 0\n",
    "\n",
    "    with tqdm(total=n_train, desc=f\"Epoch {epoch}/{epochs}\", unit=\"img\") as pbar:\n",
    "        for images, masks_true in train_loader:\n",
    "            images = images.to(\n",
    "                device=device, dtype=torch.float32, memory_format=torch.channels_last\n",
    "            )\n",
    "            masks_true = masks_true.to(device=device, dtype=torch.long).squeeze(1)\n",
    "\n",
    "            with torch.amp.autocast(\n",
    "                device.type if device.type != \"mps\" else \"cpu\", enabled=amp\n",
    "            ):\n",
    "                masks_pred = model(images).squeeze(1)\n",
    "\n",
    "                loss = criterion(masks_pred.squeeze(1), masks_true.float())\n",
    "                loss += dice_loss(\n",
    "                    F.sigmoid(masks_pred.squeeze(1)),\n",
    "                    masks_true.float(),\n",
    "                    multiclass=False,\n",
    "                )\n",
    "                optimizer.zero_grad(set_to_none=True)\n",
    "                grad_scaler.scale(loss).backward()\n",
    "                torch.nn.utils.clip_grad.clip_grad_norm_(\n",
    "                    model.parameters(), gradient_clipping\n",
    "                )\n",
    "                grad_scaler.step(optimizer)\n",
    "                grad_scaler.update()\n",
    "\n",
    "                pbar.update(images.shape[0])\n",
    "                global_step += 1\n",
    "                epoch_loss += loss.item()\n",
    "                pbar.set_postfix(**{\"loss (batch)\": loss.item()})"
   ]
  }
 ],
 "metadata": {
  "kernelspec": {
   "display_name": "venv",
   "language": "python",
   "name": "python3"
  },
  "language_info": {
   "codemirror_mode": {
    "name": "ipython",
    "version": 3
   },
   "file_extension": ".py",
   "mimetype": "text/x-python",
   "name": "python",
   "nbconvert_exporter": "python",
   "pygments_lexer": "ipython3",
   "version": "3.8.18"
  }
 },
 "nbformat": 4,
 "nbformat_minor": 2
}
