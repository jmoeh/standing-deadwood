{
 "cells": [
  {
   "cell_type": "code",
   "execution_count": 1,
   "metadata": {},
   "outputs": [],
   "source": [
    "import logging\n",
    "import wandb\n",
    "import torch\n",
    "import torch.nn as nn\n",
    "import torch.nn.functional as F\n",
    "from torch.utils.data import DataLoader, random_split, Subset\n",
    "from tqdm import tqdm\n",
    "import numpy as np\n",
    "import random\n",
    "\n",
    "from unet.dataset import DeadwoodDataset\n",
    "from unet.dice_score import dice_loss\n",
    "from unet.unet_model import UNet\n",
    "from unet.evaluate import evaluate"
   ]
  },
  {
   "cell_type": "code",
   "execution_count": 2,
   "metadata": {},
   "outputs": [],
   "source": [
    "dataset = DeadwoodDataset(\n",
    "    \"/net/scratch/jmoehring/tiles/images\",\n",
    "    \"/net/scratch/jmoehring/tiles/masks\",\n",
    ")"
   ]
  },
  {
   "cell_type": "code",
   "execution_count": 3,
   "metadata": {},
   "outputs": [],
   "source": [
    "# model params\n",
    "epochs: int = 5\n",
    "batch_size: int = 5\n",
    "learning_rate: float = 1e-5\n",
    "val_percent: float = 0.1\n",
    "save_checkpoint: bool = True\n",
    "img_scale: float = 0.5\n",
    "amp: bool = False\n",
    "weight_decay: float = 1e-8\n",
    "momentum: float = 0.999\n",
    "gradient_clipping: float = 1.0"
   ]
  },
  {
   "cell_type": "code",
   "execution_count": 12,
   "metadata": {},
   "outputs": [],
   "source": [
    "random.seed(1)"
   ]
  },
  {
   "cell_type": "code",
   "execution_count": 13,
   "metadata": {},
   "outputs": [],
   "source": [
    "sub_dataset = Subset(dataset, subset_sel)"
   ]
  },
  {
   "cell_type": "code",
   "execution_count": 14,
   "metadata": {},
   "outputs": [],
   "source": [
    "n_val = int(len(sub_dataset) * val_percent)\n",
    "n_train = len(sub_dataset) - n_val\n",
    "train_set, val_set = random_split(\n",
    "    sub_dataset,\n",
    "    [n_train, n_val],\n",
    "    generator=torch.Generator().manual_seed(0),\n",
    ")"
   ]
  },
  {
   "cell_type": "code",
   "execution_count": 15,
   "metadata": {},
   "outputs": [],
   "source": [
    "loader_args = dict(batch_size=batch_size, num_workers=2, pin_memory=True)\n",
    "# train_loader = DataLoader(\n",
    "#     train_set, shuffle=True, batch_size=batch_size, num_workers=2, pin_memory=True\n",
    "# )\n",
    "val_loader = DataLoader(\n",
    "    val_set, shuffle=True, batch_size=batch_size, num_workers=2, pin_memory=True\n",
    ")"
   ]
  },
  {
   "cell_type": "code",
   "execution_count": 8,
   "metadata": {},
   "outputs": [],
   "source": [
    "device = torch.device(\"cuda\" if torch.cuda.is_available() else \"cpu\")"
   ]
  },
  {
   "cell_type": "code",
   "execution_count": null,
   "metadata": {},
   "outputs": [],
   "source": [
    "logging.basicConfig(level=logging.INFO, format=\"%(levelname)s: %(message)s\")\n",
    "logging.info(f\"Using device {device}\")\n",
    "\n",
    "# model with three input channels (RGB)\n",
    "model = UNet(n_channels=3, n_classes=1, bilinear=True)\n",
    "model = model.to(memory_format=torch.channels_last)\n",
    "model.to(device=device)\n",
    "\n",
    "# loss function (binary cross entropy)\n",
    "criterion = nn.BCEWithLogitsLoss()\n",
    "\n",
    "# optimizer\n",
    "optimizer = torch.optim.RMSprop(\n",
    "    model.parameters(), lr=learning_rate, weight_decay=weight_decay, momentum=momentum\n",
    ")\n",
    "scheduler = torch.optim.lr_scheduler.ReduceLROnPlateau(optimizer, \"max\", patience=5)\n",
    "grad_scaler = torch.cuda.amp.grad_scaler.GradScaler(enabled=amp)"
   ]
  },
  {
   "cell_type": "code",
   "execution_count": 16,
   "metadata": {},
   "outputs": [
    {
     "data": {
      "text/html": [
       "Finishing last run (ID:1ib0dlj7) before initializing another..."
      ],
      "text/plain": [
       "<IPython.core.display.HTML object>"
      ]
     },
     "metadata": {},
     "output_type": "display_data"
    },
    {
     "data": {
      "text/html": [
       "Waiting for W&B process to finish... <strong style=\"color:green\">(success).</strong>"
      ],
      "text/plain": [
       "<IPython.core.display.HTML object>"
      ]
     },
     "metadata": {},
     "output_type": "display_data"
    },
    {
     "data": {
      "text/html": [
       "Synced <strong style=\"color:#cdcd00\">eager-dragon-17</strong>: <a href=\"https://wandb.ai/jmoehring/standing-deadwood-unet/runs/1ib0dlj7\" target=\"_blank\">https://wandb.ai/jmoehring/standing-deadwood-unet/runs/1ib0dlj7</a><br/>Synced 5 W&B file(s), 15 media file(s), 0 artifact file(s) and 0 other file(s)"
      ],
      "text/plain": [
       "<IPython.core.display.HTML object>"
      ]
     },
     "metadata": {},
     "output_type": "display_data"
    },
    {
     "data": {
      "text/html": [
       "Find logs at: <code>./wandb/run-20231220_124858-1ib0dlj7/logs</code>"
      ],
      "text/plain": [
       "<IPython.core.display.HTML object>"
      ]
     },
     "metadata": {},
     "output_type": "display_data"
    },
    {
     "data": {
      "text/html": [
       "Successfully finished last run (ID:1ib0dlj7). Initializing new run:<br/>"
      ],
      "text/plain": [
       "<IPython.core.display.HTML object>"
      ]
     },
     "metadata": {},
     "output_type": "display_data"
    },
    {
     "data": {
      "text/html": [
       "wandb version 0.16.1 is available!  To upgrade, please run:\n",
       " $ pip install wandb --upgrade"
      ],
      "text/plain": [
       "<IPython.core.display.HTML object>"
      ]
     },
     "metadata": {},
     "output_type": "display_data"
    },
    {
     "data": {
      "text/html": [
       "Tracking run with wandb version 0.13.5"
      ],
      "text/plain": [
       "<IPython.core.display.HTML object>"
      ]
     },
     "metadata": {},
     "output_type": "display_data"
    },
    {
     "data": {
      "text/html": [
       "Run data is saved locally in <code>/net/home/jmoehring/standing-deadwood/wandb/run-20231220_125154-2paf3pjs</code>"
      ],
      "text/plain": [
       "<IPython.core.display.HTML object>"
      ]
     },
     "metadata": {},
     "output_type": "display_data"
    },
    {
     "data": {
      "text/html": [
       "Syncing run <strong><a href=\"https://wandb.ai/jmoehring/standing-deadwood-unet/runs/2paf3pjs\" target=\"_blank\">eager-surf-18</a></strong> to <a href=\"https://wandb.ai/jmoehring/standing-deadwood-unet\" target=\"_blank\">Weights & Biases</a> (<a href=\"https://wandb.me/run\" target=\"_blank\">docs</a>)<br/>"
      ],
      "text/plain": [
       "<IPython.core.display.HTML object>"
      ]
     },
     "metadata": {},
     "output_type": "display_data"
    }
   ],
   "source": [
    "experiment = wandb.init(\n",
    "    project=\"standing-deadwood-unet\", resume=\"allow\", anonymous=\"must\"\n",
    ")\n",
    "experiment.config.update(\n",
    "    dict(\n",
    "        epochs=epochs,\n",
    "        batch_size=batch_size,\n",
    "        learning_rate=learning_rate,\n",
    "        val_percent=val_percent,\n",
    "        save_checkpoint=save_checkpoint,\n",
    "        img_scale=img_scale,\n",
    "        amp=amp,\n",
    "    )\n",
    ")"
   ]
  },
  {
   "cell_type": "code",
   "execution_count": null,
   "metadata": {},
   "outputs": [],
   "source": [
    "global_step = 0\n",
    "for epoch in range(1, epochs + 1):\n",
    "    model.train()\n",
    "    epoch_loss = 0\n",
    "\n",
    "    with tqdm(total=n_train, desc=f\"Epoch {epoch}/{epochs}\", unit=\"img\") as pbar:\n",
    "        for images, masks_true in train_loader:\n",
    "            images = images.to(\n",
    "                device=device, dtype=torch.float32, memory_format=torch.channels_last\n",
    "            )\n",
    "            masks_true = masks_true.to(device=device, dtype=torch.long).squeeze(1)\n",
    "\n",
    "            with torch.amp.autocast(\n",
    "                device.type if device.type != \"mps\" else \"cpu\", enabled=amp\n",
    "            ):\n",
    "                masks_pred = model(images).squeeze(1)\n",
    "\n",
    "                loss = criterion(masks_pred.squeeze(1), masks_true.float())\n",
    "                loss += dice_loss(\n",
    "                    F.sigmoid(masks_pred.squeeze(1)),\n",
    "                    masks_true.float(),\n",
    "                    multiclass=False,\n",
    "                )\n",
    "                optimizer.zero_grad(set_to_none=True)\n",
    "                grad_scaler.scale(loss).backward()\n",
    "                torch.nn.utils.clip_grad.clip_grad_norm_(\n",
    "                    model.parameters(), gradient_clipping\n",
    "                )\n",
    "                grad_scaler.step(optimizer)\n",
    "                grad_scaler.update()\n",
    "\n",
    "                pbar.update(images.shape[0])\n",
    "                global_step += 1\n",
    "                epoch_loss += loss.item()\n",
    "                experiment.log(\n",
    "                    {\"train loss\": loss.item(), \"step\": global_step, \"epoch\": epoch}\n",
    "                )\n",
    "                pbar.set_postfix(**{\"loss (batch)\": loss.item()})\n",
    "\n",
    "                division_step = n_train // (5 * batch_size)\n",
    "                if division_step > 0:\n",
    "                    if global_step % division_step == 0:\n",
    "                        histograms = {}\n",
    "                        for tag, value in model.named_parameters():\n",
    "                            tag = tag.replace(\"/\", \".\")\n",
    "                            if not (torch.isinf(value) | torch.isnan(value)).any():\n",
    "                                histograms[\"Weights/\" + tag] = wandb.Histogram(\n",
    "                                    value.data.cpu()\n",
    "                                )\n",
    "                            if not (\n",
    "                                torch.isinf(value.grad) | torch.isnan(value.grad)\n",
    "                            ).any():\n",
    "                                histograms[\"Gradients/\" + tag] = wandb.Histogram(\n",
    "                                    value.grad.data.cpu()\n",
    "                                )\n",
    "\n",
    "                        val_score = evaluate(model, val_loader, device, amp)\n",
    "                        scheduler.step(val_score)\n",
    "\n",
    "                        logging.info(\"Validation Dice score: {}\".format(val_score))\n",
    "\n",
    "                        relevant_index = 0\n",
    "                        for index, mask_true in enumerate(masks_true):\n",
    "                            if 1 in mask_true:\n",
    "                                relevant_index = index\n",
    "                        experiment.log(\n",
    "                            {\n",
    "                                \"learning rate\": optimizer.param_groups[0][\"lr\"],\n",
    "                                \"validation Dice\": val_score,\n",
    "                                \"images\": wandb.Image(images[relevant_index].cpu()),\n",
    "                                \"masks\": {\n",
    "                                    \"true\": wandb.Image(\n",
    "                                        masks_true[relevant_index].float().cpu()\n",
    "                                    ),\n",
    "                                    \"pred\": wandb.Image(\n",
    "                                        F.sigmoid(\n",
    "                                            masks_pred[relevant_index].float().cpu()\n",
    "                                        )\n",
    "                                    ),\n",
    "                                },\n",
    "                                \"step\": global_step,\n",
    "                                \"epoch\": epoch,\n",
    "                                **histograms,\n",
    "                            }\n",
    "                        )"
   ]
  },
  {
   "cell_type": "code",
   "execution_count": null,
   "metadata": {},
   "outputs": [],
   "source": [
    "torch.save(model.state_dict(), \"data/models/unet_20122023\")"
   ]
  },
  {
   "cell_type": "code",
   "execution_count": 10,
   "metadata": {},
   "outputs": [
    {
     "data": {
      "text/plain": [
       "<All keys matched successfully>"
      ]
     },
     "execution_count": 10,
     "metadata": {},
     "output_type": "execute_result"
    }
   ],
   "source": [
    "inf_model = UNet(n_channels=3, n_classes=1, bilinear=True)\n",
    "inf_model = inf_model.to(memory_format=torch.channels_last)\n",
    "inf_model = inf_model.to(device=device)\n",
    "inf_model.load_state_dict(torch.load(\"data/models/unet_20122023\"))"
   ]
  },
  {
   "cell_type": "code",
   "execution_count": 20,
   "metadata": {},
   "outputs": [
    {
     "data": {
      "text/plain": [
       "<bound method Module.parameters of UNet(\n",
       "  (inc): DoubleConv(\n",
       "    (double_conv): Sequential(\n",
       "      (0): Conv2d(3, 64, kernel_size=(3, 3), stride=(1, 1), padding=(1, 1), bias=False)\n",
       "      (1): BatchNorm2d(64, eps=1e-05, momentum=0.1, affine=True, track_running_stats=True)\n",
       "      (2): ReLU(inplace=True)\n",
       "      (3): Conv2d(64, 64, kernel_size=(3, 3), stride=(1, 1), padding=(1, 1), bias=False)\n",
       "      (4): BatchNorm2d(64, eps=1e-05, momentum=0.1, affine=True, track_running_stats=True)\n",
       "      (5): ReLU(inplace=True)\n",
       "    )\n",
       "  )\n",
       "  (down1): Down(\n",
       "    (maxpool_conv): Sequential(\n",
       "      (0): MaxPool2d(kernel_size=2, stride=2, padding=0, dilation=1, ceil_mode=False)\n",
       "      (1): DoubleConv(\n",
       "        (double_conv): Sequential(\n",
       "          (0): Conv2d(64, 128, kernel_size=(3, 3), stride=(1, 1), padding=(1, 1), bias=False)\n",
       "          (1): BatchNorm2d(128, eps=1e-05, momentum=0.1, affine=True, track_running_stats=True)\n",
       "          (2): ReLU(inplace=True)\n",
       "          (3): Conv2d(128, 128, kernel_size=(3, 3), stride=(1, 1), padding=(1, 1), bias=False)\n",
       "          (4): BatchNorm2d(128, eps=1e-05, momentum=0.1, affine=True, track_running_stats=True)\n",
       "          (5): ReLU(inplace=True)\n",
       "        )\n",
       "      )\n",
       "    )\n",
       "  )\n",
       "  (down2): Down(\n",
       "    (maxpool_conv): Sequential(\n",
       "      (0): MaxPool2d(kernel_size=2, stride=2, padding=0, dilation=1, ceil_mode=False)\n",
       "      (1): DoubleConv(\n",
       "        (double_conv): Sequential(\n",
       "          (0): Conv2d(128, 256, kernel_size=(3, 3), stride=(1, 1), padding=(1, 1), bias=False)\n",
       "          (1): BatchNorm2d(256, eps=1e-05, momentum=0.1, affine=True, track_running_stats=True)\n",
       "          (2): ReLU(inplace=True)\n",
       "          (3): Conv2d(256, 256, kernel_size=(3, 3), stride=(1, 1), padding=(1, 1), bias=False)\n",
       "          (4): BatchNorm2d(256, eps=1e-05, momentum=0.1, affine=True, track_running_stats=True)\n",
       "          (5): ReLU(inplace=True)\n",
       "        )\n",
       "      )\n",
       "    )\n",
       "  )\n",
       "  (down3): Down(\n",
       "    (maxpool_conv): Sequential(\n",
       "      (0): MaxPool2d(kernel_size=2, stride=2, padding=0, dilation=1, ceil_mode=False)\n",
       "      (1): DoubleConv(\n",
       "        (double_conv): Sequential(\n",
       "          (0): Conv2d(256, 512, kernel_size=(3, 3), stride=(1, 1), padding=(1, 1), bias=False)\n",
       "          (1): BatchNorm2d(512, eps=1e-05, momentum=0.1, affine=True, track_running_stats=True)\n",
       "          (2): ReLU(inplace=True)\n",
       "          (3): Conv2d(512, 512, kernel_size=(3, 3), stride=(1, 1), padding=(1, 1), bias=False)\n",
       "          (4): BatchNorm2d(512, eps=1e-05, momentum=0.1, affine=True, track_running_stats=True)\n",
       "          (5): ReLU(inplace=True)\n",
       "        )\n",
       "      )\n",
       "    )\n",
       "  )\n",
       "  (down4): Down(\n",
       "    (maxpool_conv): Sequential(\n",
       "      (0): MaxPool2d(kernel_size=2, stride=2, padding=0, dilation=1, ceil_mode=False)\n",
       "      (1): DoubleConv(\n",
       "        (double_conv): Sequential(\n",
       "          (0): Conv2d(512, 512, kernel_size=(3, 3), stride=(1, 1), padding=(1, 1), bias=False)\n",
       "          (1): BatchNorm2d(512, eps=1e-05, momentum=0.1, affine=True, track_running_stats=True)\n",
       "          (2): ReLU(inplace=True)\n",
       "          (3): Conv2d(512, 512, kernel_size=(3, 3), stride=(1, 1), padding=(1, 1), bias=False)\n",
       "          (4): BatchNorm2d(512, eps=1e-05, momentum=0.1, affine=True, track_running_stats=True)\n",
       "          (5): ReLU(inplace=True)\n",
       "        )\n",
       "      )\n",
       "    )\n",
       "  )\n",
       "  (up1): Up(\n",
       "    (up): Upsample(scale_factor=2.0, mode='bilinear')\n",
       "    (conv): DoubleConv(\n",
       "      (double_conv): Sequential(\n",
       "        (0): Conv2d(1024, 512, kernel_size=(3, 3), stride=(1, 1), padding=(1, 1), bias=False)\n",
       "        (1): BatchNorm2d(512, eps=1e-05, momentum=0.1, affine=True, track_running_stats=True)\n",
       "        (2): ReLU(inplace=True)\n",
       "        (3): Conv2d(512, 256, kernel_size=(3, 3), stride=(1, 1), padding=(1, 1), bias=False)\n",
       "        (4): BatchNorm2d(256, eps=1e-05, momentum=0.1, affine=True, track_running_stats=True)\n",
       "        (5): ReLU(inplace=True)\n",
       "      )\n",
       "    )\n",
       "  )\n",
       "  (up2): Up(\n",
       "    (up): Upsample(scale_factor=2.0, mode='bilinear')\n",
       "    (conv): DoubleConv(\n",
       "      (double_conv): Sequential(\n",
       "        (0): Conv2d(512, 256, kernel_size=(3, 3), stride=(1, 1), padding=(1, 1), bias=False)\n",
       "        (1): BatchNorm2d(256, eps=1e-05, momentum=0.1, affine=True, track_running_stats=True)\n",
       "        (2): ReLU(inplace=True)\n",
       "        (3): Conv2d(256, 128, kernel_size=(3, 3), stride=(1, 1), padding=(1, 1), bias=False)\n",
       "        (4): BatchNorm2d(128, eps=1e-05, momentum=0.1, affine=True, track_running_stats=True)\n",
       "        (5): ReLU(inplace=True)\n",
       "      )\n",
       "    )\n",
       "  )\n",
       "  (up3): Up(\n",
       "    (up): Upsample(scale_factor=2.0, mode='bilinear')\n",
       "    (conv): DoubleConv(\n",
       "      (double_conv): Sequential(\n",
       "        (0): Conv2d(256, 128, kernel_size=(3, 3), stride=(1, 1), padding=(1, 1), bias=False)\n",
       "        (1): BatchNorm2d(128, eps=1e-05, momentum=0.1, affine=True, track_running_stats=True)\n",
       "        (2): ReLU(inplace=True)\n",
       "        (3): Conv2d(128, 64, kernel_size=(3, 3), stride=(1, 1), padding=(1, 1), bias=False)\n",
       "        (4): BatchNorm2d(64, eps=1e-05, momentum=0.1, affine=True, track_running_stats=True)\n",
       "        (5): ReLU(inplace=True)\n",
       "      )\n",
       "    )\n",
       "  )\n",
       "  (up4): Up(\n",
       "    (up): Upsample(scale_factor=2.0, mode='bilinear')\n",
       "    (conv): DoubleConv(\n",
       "      (double_conv): Sequential(\n",
       "        (0): Conv2d(128, 64, kernel_size=(3, 3), stride=(1, 1), padding=(1, 1), bias=False)\n",
       "        (1): BatchNorm2d(64, eps=1e-05, momentum=0.1, affine=True, track_running_stats=True)\n",
       "        (2): ReLU(inplace=True)\n",
       "        (3): Conv2d(64, 64, kernel_size=(3, 3), stride=(1, 1), padding=(1, 1), bias=False)\n",
       "        (4): BatchNorm2d(64, eps=1e-05, momentum=0.1, affine=True, track_running_stats=True)\n",
       "        (5): ReLU(inplace=True)\n",
       "      )\n",
       "    )\n",
       "  )\n",
       "  (outc): OutConv(\n",
       "    (conv): Conv2d(64, 1, kernel_size=(1, 1), stride=(1, 1))\n",
       "  )\n",
       ")>"
      ]
     },
     "execution_count": 20,
     "metadata": {},
     "output_type": "execute_result"
    }
   ],
   "source": [
    "inf_model.parameters"
   ]
  },
  {
   "cell_type": "code",
   "execution_count": 17,
   "metadata": {},
   "outputs": [],
   "source": [
    "for images, masks_true in val_loader:\n",
    "    images = images.to(\n",
    "        device=device, dtype=torch.float32, memory_format=torch.channels_last\n",
    "    )\n",
    "    masks_true = masks_true.to(device=device, dtype=torch.long).squeeze(1)\n",
    "    masks_pred = inf_model(images).squeeze(1)\n",
    "\n",
    "    for index, mask in enumerate(masks_true):\n",
    "        if 1 in mask:\n",
    "            experiment.log(\n",
    "                {\n",
    "                    \"true_image\": wandb.Image(images[index].cpu()),\n",
    "                    \"true_mask\": wandb.Image(masks_true[index].float().cpu()),\n",
    "                    \"pred_mask\": wandb.Image(\n",
    "                        (F.sigmoid(masks_pred[index]) > 0.5).float().cpu()\n",
    "                    ),\n",
    "                }\n",
    "            )\n",
    "    torch.cuda.empty_cache()"
   ]
  }
 ],
 "metadata": {
  "kernelspec": {
   "display_name": "venv",
   "language": "python",
   "name": "python3"
  },
  "language_info": {
   "codemirror_mode": {
    "name": "ipython",
    "version": 3
   },
   "file_extension": ".py",
   "mimetype": "text/x-python",
   "name": "python",
   "nbconvert_exporter": "python",
   "pygments_lexer": "ipython3",
   "version": "3.8.10"
  }
 },
 "nbformat": 4,
 "nbformat_minor": 2
}
