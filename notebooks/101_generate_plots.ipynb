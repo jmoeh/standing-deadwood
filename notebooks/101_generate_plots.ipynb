{
 "cells": [
  {
   "cell_type": "code",
   "execution_count": 11,
   "metadata": {},
   "outputs": [],
   "source": [
    "import os\n",
    "import pandas as pd\n",
    "import numpy as np\n",
    "from PIL import Image\n",
    "import seaborn as sns\n",
    "import matplotlib.pyplot as plt\n",
    "import rasterio\n",
    "from rasterio.plot import show\n",
    "import geopandas as gpd\n",
    "import matplotlib.pyplot as plt\n",
    "from matplotlib_scalebar.scalebar import ScaleBar\n",
    "from matplotlib.offsetbox import OffsetImage, AnnotationBbox\n",
    "from pathlib import Path\n",
    "from matplotlib.ticker import ScalarFormatter\n",
    "from shapely.geometry import Point"
   ]
  },
  {
   "cell_type": "code",
   "execution_count": 42,
   "metadata": {},
   "outputs": [],
   "source": [
    "a_df = pd.read_csv(\"/net/scratch/jmoehring/meta/GlobalAllometricDatabase.csv\", sep=\";\")"
   ]
  },
  {
   "cell_type": "code",
   "execution_count": 44,
   "metadata": {},
   "outputs": [
    {
     "name": "stdout",
     "output_type": "stream",
     "text": [
      "<class 'pandas.core.frame.DataFrame'>\n",
      "RangeIndex: 79334 entries, 0 to 79333\n",
      "Data columns (total 9 columns):\n",
      " #   Column              Non-Null Count  Dtype \n",
      "---  ------              --------------  ----- \n",
      " 0   Tree_id             79334 non-null  object\n",
      " 1   D                   79334 non-null  object\n",
      " 2   AGB                 2395 non-null   object\n",
      " 3   H                   79334 non-null  object\n",
      " 4   CD                  79334 non-null  object\n",
      " 5   Functional_type     79334 non-null  object\n",
      " 6   Biogeographic_zone  79334 non-null  object\n",
      " 7   Biome               79334 non-null  object\n",
      " 8   Reference           79334 non-null  int64 \n",
      "dtypes: int64(1), object(8)\n",
      "memory usage: 5.4+ MB\n"
     ]
    }
   ],
   "source": [
    "a_df.info()"
   ]
  },
  {
   "cell_type": "code",
   "execution_count": 46,
   "metadata": {},
   "outputs": [],
   "source": [
    "# conver CD to numeric\n",
    "a_df[\"CD\"] = pd.to_numeric(a_df[\"CD\"], errors=\"coerce\")"
   ]
  },
  {
   "cell_type": "code",
   "execution_count": 43,
   "metadata": {},
   "outputs": [
    {
     "data": {
      "text/plain": [
       "Biome\n",
       "Tropical forests                32251\n",
       "Temperate mixed forests         17041\n",
       "Temperate coniferous forests    12905\n",
       "Woodlands and savannas          11649\n",
       "Boreal forests                   5488\n",
       "Name: count, dtype: int64"
      ]
     },
     "execution_count": 43,
     "metadata": {},
     "output_type": "execute_result"
    }
   ],
   "source": [
    "a_df[\"Biome\"].value_counts()"
   ]
  },
  {
   "cell_type": "code",
   "execution_count": 54,
   "metadata": {},
   "outputs": [
    {
     "data": {
      "text/html": [
       "<div>\n",
       "<style scoped>\n",
       "    .dataframe tbody tr th:only-of-type {\n",
       "        vertical-align: middle;\n",
       "    }\n",
       "\n",
       "    .dataframe tbody tr th {\n",
       "        vertical-align: top;\n",
       "    }\n",
       "\n",
       "    .dataframe thead th {\n",
       "        text-align: right;\n",
       "    }\n",
       "</style>\n",
       "<table border=\"1\" class=\"dataframe\">\n",
       "  <thead>\n",
       "    <tr style=\"text-align: right;\">\n",
       "      <th></th>\n",
       "      <th>CD</th>\n",
       "    </tr>\n",
       "  </thead>\n",
       "  <tbody>\n",
       "    <tr>\n",
       "      <th>mean</th>\n",
       "      <td>5.15490</td>\n",
       "    </tr>\n",
       "    <tr>\n",
       "      <th>std</th>\n",
       "      <td>2.92513</td>\n",
       "    </tr>\n",
       "  </tbody>\n",
       "</table>\n",
       "</div>"
      ],
      "text/plain": [
       "           CD\n",
       "mean  5.15490\n",
       "std   2.92513"
      ]
     },
     "execution_count": 54,
     "metadata": {},
     "output_type": "execute_result"
    }
   ],
   "source": [
    "a_df[a_df[\"Biome\"] == \"Temperate mixed forests\"].agg({\"CD\": [\"mean\", \"std\"]})"
   ]
  },
  {
   "cell_type": "code",
   "execution_count": 12,
   "metadata": {},
   "outputs": [],
   "source": [
    "tallo_df = pd.read_csv(\"/net/scratch/jmoehring/meta/Tallo.csv\")\n",
    "ecoregion_gdf = gpd.read_file(\"/net/scratch/jmoehring/meta/wwf_terr_ecos.shp\")"
   ]
  },
  {
   "cell_type": "code",
   "execution_count": 13,
   "metadata": {},
   "outputs": [],
   "source": [
    "tallo_df_s = tallo_df.sample(1000)"
   ]
  },
  {
   "cell_type": "code",
   "execution_count": 14,
   "metadata": {},
   "outputs": [],
   "source": [
    "# find corresponding ecoregion for each image and add the biome value as new column\n",
    "def find_ecoregion(row):\n",
    "    point = Point(row[\"longitude\"], row[\"latitude\"])\n",
    "    ecoregions = ecoregion_gdf[ecoregion_gdf.geometry.contains(point)]\n",
    "\n",
    "    if len(ecoregions) == 1:\n",
    "        return ecoregions[\"BIOME\"].iloc[0]\n",
    "    elif len(ecoregions) == 0:\n",
    "        # Find the nearest ecoregion\n",
    "        distances = ecoregion_gdf.geometry.distance(point)\n",
    "        nearest_ecoregion_idx = distances.idxmin()\n",
    "        nearest_ecoregion = ecoregion_gdf.loc[nearest_ecoregion_idx]\n",
    "        return nearest_ecoregion[\"BIOME\"]\n",
    "    else:\n",
    "        raise ValueError(f\"Point {point} is in {len(ecoregions)} ecoregions\")"
   ]
  },
  {
   "cell_type": "code",
   "execution_count": 15,
   "metadata": {},
   "outputs": [],
   "source": [
    "biome_dict = {\n",
    "    1: \"Tropical and Subtropical Moist Broadleaf Forests\",\n",
    "    2: \"Tropical and Subtropical Dry Broadleaf Forests\",\n",
    "    3: \"Tropical and Subtropical Coniferous Forests\",\n",
    "    4: \"Temperate Broadleaf and Mixed Forests\",\n",
    "    5: \"Temperate Coniferous Forests\",\n",
    "    6: \"Boreal Forests/Taiga\",\n",
    "    7: \"Tropical and Subtropical Grasslands, Savannas, and Shrublands\",\n",
    "    8: \"Temperate Grasslands, Savannas, and Shrublands\",\n",
    "    9: \"Flooded Grasslands and Savannas\",\n",
    "    10: \"Montane Grasslands and Shrublands\",\n",
    "    11: \"Tundra\",\n",
    "    12: \"Mediterranean Forests, Woodlands, and Scrub\",\n",
    "    13: \"Deserts and Xeric Shrublands\",\n",
    "    14: \"Mangroves\",\n",
    "}"
   ]
  },
  {
   "cell_type": "code",
   "execution_count": 16,
   "metadata": {},
   "outputs": [],
   "source": [
    "tallo_df_s[\"biome\"] = tallo_df_s.apply(find_ecoregion, axis=1)\n",
    "tallo_df_s[\"biome_name\"] = tallo_df_s[\"biome\"].map(biome_dict)"
   ]
  },
  {
   "cell_type": "code",
   "execution_count": 17,
   "metadata": {},
   "outputs": [],
   "source": [
    "points_gdf = gpd.GeoDataFrame(\n",
    "    tallo_df,\n",
    "    geometry=gpd.points_from_xy(tallo_df[\"longitude\"], tallo_df[\"latitude\"]),\n",
    "    crs=ecoregion_gdf.crs,\n",
    ")\n",
    "\n",
    "# Step 2: Spatial join to find points inside ecoregions\n",
    "joined_gdf = gpd.sjoin(points_gdf, ecoregion_gdf, how=\"left\", predicate=\"within\")"
   ]
  },
  {
   "cell_type": "code",
   "execution_count": 19,
   "metadata": {},
   "outputs": [],
   "source": [
    "tallo_df[\"biome\"] = joined_gdf[\"BIOME\"]\n",
    "tallo_df[\"biome_name\"] = tallo_df[\"biome\"].map(biome_dict)"
   ]
  },
  {
   "cell_type": "code",
   "execution_count": 40,
   "metadata": {},
   "outputs": [
    {
     "data": {
      "text/html": [
       "<div>\n",
       "<style scoped>\n",
       "    .dataframe tbody tr th:only-of-type {\n",
       "        vertical-align: middle;\n",
       "    }\n",
       "\n",
       "    .dataframe tbody tr th {\n",
       "        vertical-align: top;\n",
       "    }\n",
       "\n",
       "    .dataframe thead th {\n",
       "        text-align: right;\n",
       "    }\n",
       "</style>\n",
       "<table border=\"1\" class=\"dataframe\">\n",
       "  <thead>\n",
       "    <tr style=\"text-align: right;\">\n",
       "      <th></th>\n",
       "      <th>crown_radius_m</th>\n",
       "    </tr>\n",
       "  </thead>\n",
       "  <tbody>\n",
       "    <tr>\n",
       "      <th>mean</th>\n",
       "      <td>3.091989</td>\n",
       "    </tr>\n",
       "    <tr>\n",
       "      <th>std</th>\n",
       "      <td>1.927954</td>\n",
       "    </tr>\n",
       "  </tbody>\n",
       "</table>\n",
       "</div>"
      ],
      "text/plain": [
       "      crown_radius_m\n",
       "mean        3.091989\n",
       "std         1.927954"
      ]
     },
     "execution_count": 40,
     "metadata": {},
     "output_type": "execute_result"
    }
   ],
   "source": [
    "tallo_df[(tallo_df[\"biome\"] == 10) & (tallo_df[\"crown_radius_outlier\"] == \"N\")].agg(\n",
    "    {\"crown_radius_m\": [\"mean\", \"std\"]}\n",
    ")"
   ]
  },
  {
   "cell_type": "code",
   "execution_count": null,
   "metadata": {},
   "outputs": [
    {
     "ename": "KeyboardInterrupt",
     "evalue": "",
     "output_type": "error",
     "traceback": [
      "\u001b[0;31m---------------------------------------------------------------------------\u001b[0m",
      "\u001b[0;31mKeyboardInterrupt\u001b[0m                         Traceback (most recent call last)",
      "Cell \u001b[0;32mIn[10], line 1\u001b[0m\n\u001b[0;32m----> 1\u001b[0m tallo_df[\u001b[38;5;124m\"\u001b[39m\u001b[38;5;124mbiome\u001b[39m\u001b[38;5;124m\"\u001b[39m] \u001b[38;5;241m=\u001b[39m tallo_df\u001b[38;5;241m.\u001b[39mapply(find_ecoregion, axis\u001b[38;5;241m=\u001b[39m\u001b[38;5;241m1\u001b[39m)\n\u001b[1;32m      2\u001b[0m tallo_df[\u001b[38;5;124m\"\u001b[39m\u001b[38;5;124mbiome_name\u001b[39m\u001b[38;5;124m\"\u001b[39m] \u001b[38;5;241m=\u001b[39m tallo_df[\u001b[38;5;124m\"\u001b[39m\u001b[38;5;124mbiome\u001b[39m\u001b[38;5;124m\"\u001b[39m]\u001b[38;5;241m.\u001b[39mmap(biome_dict)\n",
      "File \u001b[0;32m~/.conda/envs/sd-env-12/lib/python3.12/site-packages/pandas/core/frame.py:10374\u001b[0m, in \u001b[0;36mDataFrame.apply\u001b[0;34m(self, func, axis, raw, result_type, args, by_row, engine, engine_kwargs, **kwargs)\u001b[0m\n\u001b[1;32m  10360\u001b[0m \u001b[38;5;28;01mfrom\u001b[39;00m \u001b[38;5;21;01mpandas\u001b[39;00m\u001b[38;5;21;01m.\u001b[39;00m\u001b[38;5;21;01mcore\u001b[39;00m\u001b[38;5;21;01m.\u001b[39;00m\u001b[38;5;21;01mapply\u001b[39;00m \u001b[38;5;28;01mimport\u001b[39;00m frame_apply\n\u001b[1;32m  10362\u001b[0m op \u001b[38;5;241m=\u001b[39m frame_apply(\n\u001b[1;32m  10363\u001b[0m     \u001b[38;5;28mself\u001b[39m,\n\u001b[1;32m  10364\u001b[0m     func\u001b[38;5;241m=\u001b[39mfunc,\n\u001b[0;32m   (...)\u001b[0m\n\u001b[1;32m  10372\u001b[0m     kwargs\u001b[38;5;241m=\u001b[39mkwargs,\n\u001b[1;32m  10373\u001b[0m )\n\u001b[0;32m> 10374\u001b[0m \u001b[38;5;28;01mreturn\u001b[39;00m op\u001b[38;5;241m.\u001b[39mapply()\u001b[38;5;241m.\u001b[39m__finalize__(\u001b[38;5;28mself\u001b[39m, method\u001b[38;5;241m=\u001b[39m\u001b[38;5;124m\"\u001b[39m\u001b[38;5;124mapply\u001b[39m\u001b[38;5;124m\"\u001b[39m)\n",
      "File \u001b[0;32m~/.conda/envs/sd-env-12/lib/python3.12/site-packages/pandas/core/apply.py:916\u001b[0m, in \u001b[0;36mFrameApply.apply\u001b[0;34m(self)\u001b[0m\n\u001b[1;32m    913\u001b[0m \u001b[38;5;28;01melif\u001b[39;00m \u001b[38;5;28mself\u001b[39m\u001b[38;5;241m.\u001b[39mraw:\n\u001b[1;32m    914\u001b[0m     \u001b[38;5;28;01mreturn\u001b[39;00m \u001b[38;5;28mself\u001b[39m\u001b[38;5;241m.\u001b[39mapply_raw(engine\u001b[38;5;241m=\u001b[39m\u001b[38;5;28mself\u001b[39m\u001b[38;5;241m.\u001b[39mengine, engine_kwargs\u001b[38;5;241m=\u001b[39m\u001b[38;5;28mself\u001b[39m\u001b[38;5;241m.\u001b[39mengine_kwargs)\n\u001b[0;32m--> 916\u001b[0m \u001b[38;5;28;01mreturn\u001b[39;00m \u001b[38;5;28mself\u001b[39m\u001b[38;5;241m.\u001b[39mapply_standard()\n",
      "File \u001b[0;32m~/.conda/envs/sd-env-12/lib/python3.12/site-packages/pandas/core/apply.py:1063\u001b[0m, in \u001b[0;36mFrameApply.apply_standard\u001b[0;34m(self)\u001b[0m\n\u001b[1;32m   1061\u001b[0m \u001b[38;5;28;01mdef\u001b[39;00m \u001b[38;5;21mapply_standard\u001b[39m(\u001b[38;5;28mself\u001b[39m):\n\u001b[1;32m   1062\u001b[0m     \u001b[38;5;28;01mif\u001b[39;00m \u001b[38;5;28mself\u001b[39m\u001b[38;5;241m.\u001b[39mengine \u001b[38;5;241m==\u001b[39m \u001b[38;5;124m\"\u001b[39m\u001b[38;5;124mpython\u001b[39m\u001b[38;5;124m\"\u001b[39m:\n\u001b[0;32m-> 1063\u001b[0m         results, res_index \u001b[38;5;241m=\u001b[39m \u001b[38;5;28mself\u001b[39m\u001b[38;5;241m.\u001b[39mapply_series_generator()\n\u001b[1;32m   1064\u001b[0m     \u001b[38;5;28;01melse\u001b[39;00m:\n\u001b[1;32m   1065\u001b[0m         results, res_index \u001b[38;5;241m=\u001b[39m \u001b[38;5;28mself\u001b[39m\u001b[38;5;241m.\u001b[39mapply_series_numba()\n",
      "File \u001b[0;32m~/.conda/envs/sd-env-12/lib/python3.12/site-packages/pandas/core/apply.py:1081\u001b[0m, in \u001b[0;36mFrameApply.apply_series_generator\u001b[0;34m(self)\u001b[0m\n\u001b[1;32m   1078\u001b[0m \u001b[38;5;28;01mwith\u001b[39;00m option_context(\u001b[38;5;124m\"\u001b[39m\u001b[38;5;124mmode.chained_assignment\u001b[39m\u001b[38;5;124m\"\u001b[39m, \u001b[38;5;28;01mNone\u001b[39;00m):\n\u001b[1;32m   1079\u001b[0m     \u001b[38;5;28;01mfor\u001b[39;00m i, v \u001b[38;5;129;01min\u001b[39;00m \u001b[38;5;28menumerate\u001b[39m(series_gen):\n\u001b[1;32m   1080\u001b[0m         \u001b[38;5;66;03m# ignore SettingWithCopy here in case the user mutates\u001b[39;00m\n\u001b[0;32m-> 1081\u001b[0m         results[i] \u001b[38;5;241m=\u001b[39m \u001b[38;5;28mself\u001b[39m\u001b[38;5;241m.\u001b[39mfunc(v, \u001b[38;5;241m*\u001b[39m\u001b[38;5;28mself\u001b[39m\u001b[38;5;241m.\u001b[39margs, \u001b[38;5;241m*\u001b[39m\u001b[38;5;241m*\u001b[39m\u001b[38;5;28mself\u001b[39m\u001b[38;5;241m.\u001b[39mkwargs)\n\u001b[1;32m   1082\u001b[0m         \u001b[38;5;28;01mif\u001b[39;00m \u001b[38;5;28misinstance\u001b[39m(results[i], ABCSeries):\n\u001b[1;32m   1083\u001b[0m             \u001b[38;5;66;03m# If we have a view on v, we need to make a copy because\u001b[39;00m\n\u001b[1;32m   1084\u001b[0m             \u001b[38;5;66;03m#  series_generator will swap out the underlying data\u001b[39;00m\n\u001b[1;32m   1085\u001b[0m             results[i] \u001b[38;5;241m=\u001b[39m results[i]\u001b[38;5;241m.\u001b[39mcopy(deep\u001b[38;5;241m=\u001b[39m\u001b[38;5;28;01mFalse\u001b[39;00m)\n",
      "Cell \u001b[0;32mIn[3], line 4\u001b[0m, in \u001b[0;36mfind_ecoregion\u001b[0;34m(row)\u001b[0m\n\u001b[1;32m      2\u001b[0m \u001b[38;5;28;01mdef\u001b[39;00m \u001b[38;5;21mfind_ecoregion\u001b[39m(row):\n\u001b[1;32m      3\u001b[0m     point \u001b[38;5;241m=\u001b[39m Point(row[\u001b[38;5;124m\"\u001b[39m\u001b[38;5;124mlongitude\u001b[39m\u001b[38;5;124m\"\u001b[39m], row[\u001b[38;5;124m\"\u001b[39m\u001b[38;5;124mlatitude\u001b[39m\u001b[38;5;124m\"\u001b[39m])\n\u001b[0;32m----> 4\u001b[0m     ecoregions \u001b[38;5;241m=\u001b[39m ecoregion_gdf[ecoregion_gdf\u001b[38;5;241m.\u001b[39mgeometry\u001b[38;5;241m.\u001b[39mcontains(point)]\n\u001b[1;32m      6\u001b[0m     \u001b[38;5;28;01mif\u001b[39;00m \u001b[38;5;28mlen\u001b[39m(ecoregions) \u001b[38;5;241m==\u001b[39m \u001b[38;5;241m1\u001b[39m:\n\u001b[1;32m      7\u001b[0m         \u001b[38;5;28;01mreturn\u001b[39;00m ecoregions[\u001b[38;5;124m\"\u001b[39m\u001b[38;5;124mBIOME\u001b[39m\u001b[38;5;124m\"\u001b[39m]\u001b[38;5;241m.\u001b[39miloc[\u001b[38;5;241m0\u001b[39m]\n",
      "File \u001b[0;32m~/.conda/envs/sd-env-12/lib/python3.12/site-packages/geopandas/base.py:2298\u001b[0m, in \u001b[0;36mGeoPandasBase.contains\u001b[0;34m(self, other, align)\u001b[0m\n\u001b[1;32m   2184\u001b[0m \u001b[38;5;28;01mdef\u001b[39;00m \u001b[38;5;21mcontains\u001b[39m(\u001b[38;5;28mself\u001b[39m, other, align\u001b[38;5;241m=\u001b[39m\u001b[38;5;28;01mNone\u001b[39;00m):\n\u001b[1;32m   2185\u001b[0m \u001b[38;5;250m    \u001b[39m\u001b[38;5;124;03m\"\"\"Returns a ``Series`` of ``dtype('bool')`` with value ``True`` for\u001b[39;00m\n\u001b[1;32m   2186\u001b[0m \u001b[38;5;124;03m    each aligned geometry that contains `other`.\u001b[39;00m\n\u001b[1;32m   2187\u001b[0m \n\u001b[0;32m   (...)\u001b[0m\n\u001b[1;32m   2296\u001b[0m \u001b[38;5;124;03m    GeoSeries.within\u001b[39;00m\n\u001b[1;32m   2297\u001b[0m \u001b[38;5;124;03m    \"\"\"\u001b[39;00m\n\u001b[0;32m-> 2298\u001b[0m     \u001b[38;5;28;01mreturn\u001b[39;00m _binary_op(\u001b[38;5;124m\"\u001b[39m\u001b[38;5;124mcontains\u001b[39m\u001b[38;5;124m\"\u001b[39m, \u001b[38;5;28mself\u001b[39m, other, align)\n",
      "File \u001b[0;32m~/.conda/envs/sd-env-12/lib/python3.12/site-packages/geopandas/base.py:76\u001b[0m, in \u001b[0;36m_binary_op\u001b[0;34m(op, this, other, align, *args, **kwargs)\u001b[0m\n\u001b[1;32m     73\u001b[0m \u001b[38;5;28;01mdef\u001b[39;00m \u001b[38;5;21m_binary_op\u001b[39m(op, this, other, align, \u001b[38;5;241m*\u001b[39margs, \u001b[38;5;241m*\u001b[39m\u001b[38;5;241m*\u001b[39mkwargs):\n\u001b[1;32m     74\u001b[0m     \u001b[38;5;66;03m# type: (str, GeoSeries, GeoSeries, args/kwargs) -> Series[bool/float]\u001b[39;00m\n\u001b[1;32m     75\u001b[0m \u001b[38;5;250m    \u001b[39m\u001b[38;5;124;03m\"\"\"Binary operation on GeoSeries objects that returns a Series\"\"\"\u001b[39;00m\n\u001b[0;32m---> 76\u001b[0m     data, index \u001b[38;5;241m=\u001b[39m _delegate_binary_method(op, this, other, align, \u001b[38;5;241m*\u001b[39margs, \u001b[38;5;241m*\u001b[39m\u001b[38;5;241m*\u001b[39mkwargs)\n\u001b[1;32m     77\u001b[0m     \u001b[38;5;28;01mreturn\u001b[39;00m Series(data, index\u001b[38;5;241m=\u001b[39mindex)\n",
      "File \u001b[0;32m~/.conda/envs/sd-env-12/lib/python3.12/site-packages/geopandas/base.py:60\u001b[0m, in \u001b[0;36m_delegate_binary_method\u001b[0;34m(op, this, other, align, *args, **kwargs)\u001b[0m\n\u001b[1;32m     57\u001b[0m \u001b[38;5;28;01melse\u001b[39;00m:\n\u001b[1;32m     58\u001b[0m     \u001b[38;5;28;01mraise\u001b[39;00m \u001b[38;5;167;01mTypeError\u001b[39;00m(\u001b[38;5;28mtype\u001b[39m(this), \u001b[38;5;28mtype\u001b[39m(other))\n\u001b[0;32m---> 60\u001b[0m data \u001b[38;5;241m=\u001b[39m \u001b[38;5;28mgetattr\u001b[39m(a_this, op)(other, \u001b[38;5;241m*\u001b[39margs, \u001b[38;5;241m*\u001b[39m\u001b[38;5;241m*\u001b[39mkwargs)\n\u001b[1;32m     61\u001b[0m \u001b[38;5;28;01mreturn\u001b[39;00m data, this\u001b[38;5;241m.\u001b[39mindex\n",
      "File \u001b[0;32m~/.conda/envs/sd-env-12/lib/python3.12/site-packages/geopandas/array.py:708\u001b[0m, in \u001b[0;36mGeometryArray.contains\u001b[0;34m(self, other)\u001b[0m\n\u001b[1;32m    707\u001b[0m \u001b[38;5;28;01mdef\u001b[39;00m \u001b[38;5;21mcontains\u001b[39m(\u001b[38;5;28mself\u001b[39m, other):\n\u001b[0;32m--> 708\u001b[0m     \u001b[38;5;28;01mreturn\u001b[39;00m \u001b[38;5;28mself\u001b[39m\u001b[38;5;241m.\u001b[39m_binary_method(\u001b[38;5;124m\"\u001b[39m\u001b[38;5;124mcontains\u001b[39m\u001b[38;5;124m\"\u001b[39m, \u001b[38;5;28mself\u001b[39m, other)\n",
      "File \u001b[0;32m~/.conda/envs/sd-env-12/lib/python3.12/site-packages/geopandas/array.py:699\u001b[0m, in \u001b[0;36mGeometryArray._binary_method\u001b[0;34m(op, left, right, **kwargs)\u001b[0m\n\u001b[1;32m    696\u001b[0m         _crs_mismatch_warn(left, right, stacklevel\u001b[38;5;241m=\u001b[39m\u001b[38;5;241m7\u001b[39m)\n\u001b[1;32m    697\u001b[0m     right \u001b[38;5;241m=\u001b[39m right\u001b[38;5;241m.\u001b[39m_data\n\u001b[0;32m--> 699\u001b[0m \u001b[38;5;28;01mreturn\u001b[39;00m \u001b[38;5;28mgetattr\u001b[39m(shapely, op)(left\u001b[38;5;241m.\u001b[39m_data, right, \u001b[38;5;241m*\u001b[39m\u001b[38;5;241m*\u001b[39mkwargs)\n",
      "File \u001b[0;32m~/.conda/envs/sd-env-12/lib/python3.12/site-packages/shapely/decorators.py:77\u001b[0m, in \u001b[0;36mmultithreading_enabled.<locals>.wrapped\u001b[0;34m(*args, **kwargs)\u001b[0m\n\u001b[1;32m     75\u001b[0m     \u001b[38;5;28;01mfor\u001b[39;00m arr \u001b[38;5;129;01min\u001b[39;00m array_args:\n\u001b[1;32m     76\u001b[0m         arr\u001b[38;5;241m.\u001b[39mflags\u001b[38;5;241m.\u001b[39mwriteable \u001b[38;5;241m=\u001b[39m \u001b[38;5;28;01mFalse\u001b[39;00m\n\u001b[0;32m---> 77\u001b[0m     \u001b[38;5;28;01mreturn\u001b[39;00m func(\u001b[38;5;241m*\u001b[39margs, \u001b[38;5;241m*\u001b[39m\u001b[38;5;241m*\u001b[39mkwargs)\n\u001b[1;32m     78\u001b[0m \u001b[38;5;28;01mfinally\u001b[39;00m:\n\u001b[1;32m     79\u001b[0m     \u001b[38;5;28;01mfor\u001b[39;00m arr, old_flag \u001b[38;5;129;01min\u001b[39;00m \u001b[38;5;28mzip\u001b[39m(array_args, old_flags):\n",
      "File \u001b[0;32m~/.conda/envs/sd-env-12/lib/python3.12/site-packages/shapely/predicates.py:526\u001b[0m, in \u001b[0;36mcontains\u001b[0;34m(a, b, **kwargs)\u001b[0m\n\u001b[1;32m    472\u001b[0m \u001b[38;5;129m@multithreading_enabled\u001b[39m\n\u001b[1;32m    473\u001b[0m \u001b[38;5;28;01mdef\u001b[39;00m \u001b[38;5;21mcontains\u001b[39m(a, b, \u001b[38;5;241m*\u001b[39m\u001b[38;5;241m*\u001b[39mkwargs):\n\u001b[1;32m    474\u001b[0m \u001b[38;5;250m    \u001b[39m\u001b[38;5;124;03m\"\"\"Returns True if geometry B is completely inside geometry A.\u001b[39;00m\n\u001b[1;32m    475\u001b[0m \n\u001b[1;32m    476\u001b[0m \u001b[38;5;124;03m    A contains B if no points of B lie in the exterior of A and at least one\u001b[39;00m\n\u001b[0;32m   (...)\u001b[0m\n\u001b[1;32m    524\u001b[0m \u001b[38;5;124;03m    False\u001b[39;00m\n\u001b[1;32m    525\u001b[0m \u001b[38;5;124;03m    \"\"\"\u001b[39;00m\n\u001b[0;32m--> 526\u001b[0m     \u001b[38;5;28;01mreturn\u001b[39;00m lib\u001b[38;5;241m.\u001b[39mcontains(a, b, \u001b[38;5;241m*\u001b[39m\u001b[38;5;241m*\u001b[39mkwargs)\n",
      "\u001b[0;31mKeyboardInterrupt\u001b[0m: "
     ]
    }
   ],
   "source": [
    "tallo_df[\"biome\"] = tallo_df.apply(find_ecoregion, axis=1)"
   ]
  },
  {
   "cell_type": "code",
   "execution_count": null,
   "metadata": {},
   "outputs": [],
   "source": [
    "meta_df = pd.read_csv(\"/net/scratch/jmoehring/meta/ortho_metadata_annot.csv\")\n",
    "meta_df.info()"
   ]
  },
  {
   "cell_type": "code",
   "execution_count": null,
   "metadata": {},
   "outputs": [],
   "source": [
    "meta_df[\"biome_name\"].value_counts()"
   ]
  },
  {
   "cell_type": "code",
   "execution_count": null,
   "metadata": {},
   "outputs": [],
   "source": [
    "meta_df[meta_df[\"biome_name\"] == \"Tropical and Subtropical Moist Broadleaf Forests\"]"
   ]
  },
  {
   "cell_type": "code",
   "execution_count": null,
   "metadata": {},
   "outputs": [],
   "source": [
    "tile_folder = (\n",
    "    \"/net/home/jmoehring/scratch/tiles/20211007_FVA_Walddrohnen_Totholz_2_ortho/0.04\"\n",
    ")\n",
    "label_folder = \"/net/home/jmoehring/tree_mortality_orthophotos/labels_and_aois\"\n",
    "north_symbol_path = \"/net/home/jmoehring/scratch/north-symbol.png\""
   ]
  },
  {
   "cell_type": "code",
   "execution_count": null,
   "metadata": {},
   "outputs": [],
   "source": [
    "bad_contrast_tile = \"/net/home/jmoehring/scratch/tiles_1024/spain_14_09_2023_sierra_de_baza_5_ortho/0.03/12360_4679.tif\"\n",
    "good_contrast_tile = (\n",
    "    \"/net/home/jmoehring/scratch/tiles_1024/uavforsat_DDH002_ortho/0.025/3507_1271.tif\"\n",
    ")\n",
    "high_resolution_tile = \"/net/home/jmoehring/scratch/tiles_1024/uavforsat_2020_CFB091_ortho/0.007/13397_17747.tif\"\n",
    "low_resolution_tile = (\n",
    "    \"/net/home/jmoehring/scratch/tiles_1024/switzerlandeth_rgb19/0.1/1031_9220.tif\"\n",
    ")"
   ]
  },
  {
   "cell_type": "code",
   "execution_count": null,
   "metadata": {},
   "outputs": [],
   "source": [
    "tile_no = 62\n",
    "zoom = True"
   ]
  },
  {
   "cell_type": "code",
   "execution_count": null,
   "metadata": {},
   "outputs": [],
   "source": [
    "# Get the first GeoTIFF file in the folder\n",
    "tile_files = [\n",
    "    f\n",
    "    for f in os.listdir(tile_folder)\n",
    "    if (f.endswith((\".tif\", \".tiff\")) and not f.__contains__(\"mask\"))\n",
    "]\n",
    "tile_files.sort()\n",
    "first_tile = tile_files[tile_no]\n",
    "tile_path = os.path.join(tile_folder, first_tile)\n",
    "\n",
    "# Construct the GeoPackage file name\n",
    "tile_folder_name = Path(tile_folder).parent.name\n",
    "gpkg_filename = f\"{tile_folder_name}_polygons.gpkg\"\n",
    "gpkg_path = os.path.join(label_folder, gpkg_filename)\n",
    "\n",
    "pred_image = \"/net/scratch/jmoehring/inference/50k_100e_vanilla_tversky_a03b07g2_fold1/diverse_prediction.png\"\n",
    "pred_img = Image.open(pred_image).transpose(Image.Transpose.FLIP_LEFT_RIGHT)\n",
    "pred_img = np.array(pred_img)\n",
    "pred_img = pred_img.transpose((2, 1, 0)).astype(np.float32)\n",
    "pred_img[pred_img == 0] = np.nan\n",
    "\n",
    "# Load the raster image\n",
    "with rasterio.open(tile_path) as src:\n",
    "    image = src.read()\n",
    "    extent = rasterio.plot.plotting_extent(src)\n",
    "    crs = src.crs\n",
    "    transform = src.transform\n",
    "    pixel_size_x = transform[0]\n",
    "    pixel_size_y = -transform[4]\n",
    "\n",
    "# Load the 'standing_deadwood' layer from the GeoPackage\n",
    "gdf = gpd.read_file(gpkg_path, layer=\"standing_deadwood\")\n",
    "\n",
    "# Reproject the GeoDataFrame if necessary\n",
    "if gdf.crs != crs:\n",
    "    gdf = gdf.to_crs(crs)\n",
    "\n",
    "# Plotting\n",
    "fig, ax = plt.subplots(figsize=(5, 5))\n",
    "show(image, ax=ax, extent=extent)\n",
    "show(pred_img, ax=ax, extent=extent)\n",
    "gdf.plot(ax=ax, facecolor=\"none\", edgecolor=\"yellow\", linewidth=1.2)\n",
    "\n",
    "\n",
    "# Zoom in on the tile extent\n",
    "if zoom:\n",
    "    ax.set_xlim(extent[0], extent[1])\n",
    "    ax.set_ylim(extent[2], extent[3])\n",
    "    ax.set_aspect(\"equal\")\n",
    "\n",
    "\n",
    "class my_ScalarFormatter(ScalarFormatter):\n",
    "    def format_data(self, value):\n",
    "        return f\"{value:.0f}\"\n",
    "\n",
    "\n",
    "ax.xaxis.set_major_formatter(my_ScalarFormatter())\n",
    "ax.yaxis.set_major_formatter(my_ScalarFormatter())\n",
    "\n",
    "\n",
    "# Add a scale bar\n",
    "scalebar = ScaleBar(1, location=\"lower right\", length_fraction=0.4)\n",
    "ax.add_artist(scalebar)\n",
    "\n",
    "# Add the EPSG label\n",
    "epsg_code = crs.to_epsg()  # Extract the EPSG code from the CRS object\n",
    "ax.text(\n",
    "    0.05,\n",
    "    0.95,\n",
    "    f\"EPSG: {epsg_code}\",\n",
    "    transform=ax.transAxes,\n",
    "    fontsize=10,\n",
    "    verticalalignment=\"top\",\n",
    "    bbox=dict(facecolor=\"white\", alpha=0.5),\n",
    ")\n",
    "arr_img = plt.imread(north_symbol_path)\n",
    "# add north symbol svg to the top right\n",
    "im = OffsetImage(arr_img, zoom=0.01)\n",
    "ab = AnnotationBbox(im, xycoords=\"axes fraction\", xy=(0.92, 0.92))\n",
    "ax.add_artist(ab)\n",
    "\n",
    "# Display the plot\n",
    "plt.savefig(\"/net/home/jmoehring/low_resolution_plot.png\", bbox_inches=\"tight\", dpi=300)\n",
    "plt.show()"
   ]
  },
  {
   "cell_type": "code",
   "execution_count": null,
   "metadata": {},
   "outputs": [],
   "source": []
  },
  {
   "cell_type": "code",
   "execution_count": null,
   "metadata": {},
   "outputs": [],
   "source": [
    "# Define a function to transform a point's CRS\n",
    "def reproject_to_epsg_4326(row):\n",
    "    original_crs = row[\"crs\"]\n",
    "    # Create a GeoDataFrame for the point with the specified CRS\n",
    "    gdf = gpd.GeoDataFrame(\n",
    "        geometry=gpd.points_from_xy([row[\"centroid_x\"]], [row[\"centroid_y\"]]),\n",
    "        crs=original_crs,\n",
    "    )\n",
    "    # Transform to EPSG:4326\n",
    "    gdf = gdf.to_crs(\"EPSG:4326\")\n",
    "    # Return the transformed coordinates\n",
    "    return gdf.geometry.x[0], gdf.geometry.y[0]"
   ]
  },
  {
   "cell_type": "code",
   "execution_count": null,
   "metadata": {},
   "outputs": [],
   "source": [
    "# add EPSG:4326 centroid to metadata caluclated from the bounding box and the projection\n",
    "meta_df[\"centroid_x\"] = meta_df.apply(lambda x: (x[\"west\"] + x[\"east\"]) / 2, axis=1)\n",
    "meta_df[\"centroid_y\"] = meta_df.apply(lambda x: (x[\"south\"] + x[\"north\"]) / 2, axis=1)\n",
    "\n",
    "meta_df[[\"centroid_x_4326\", \"centroid_y_4326\"]] = meta_df.apply(\n",
    "    reproject_to_epsg_4326, axis=1, result_type=\"expand\"\n",
    ")"
   ]
  },
  {
   "cell_type": "code",
   "execution_count": null,
   "metadata": {},
   "outputs": [],
   "source": [
    "# convert the metadata to a geodataframe with POINT geometry\n",
    "meta_gdf = gpd.GeoDataFrame(\n",
    "    meta_df,\n",
    "    geometry=gpd.points_from_xy(meta_df[\"centroid_x_4326\"], meta_df[\"centroid_y_4326\"]),\n",
    "    crs=\"EPSG:4326\",\n",
    ")"
   ]
  },
  {
   "cell_type": "code",
   "execution_count": null,
   "metadata": {},
   "outputs": [],
   "source": [
    "tile_path"
   ]
  },
  {
   "cell_type": "code",
   "execution_count": null,
   "metadata": {},
   "outputs": [],
   "source": [
    "eco_gdf = gpd.read_file(\"/net/scratch/jmoehring/meta/wwf_terr_ecos.shp\")"
   ]
  },
  {
   "cell_type": "code",
   "execution_count": null,
   "metadata": {},
   "outputs": [],
   "source": [
    "eco_gdf_dissolved = eco_gdf.dissolve(by=\"BIOME\").reset_index()"
   ]
  },
  {
   "cell_type": "code",
   "execution_count": null,
   "metadata": {},
   "outputs": [],
   "source": [
    "world = gpd.read_file(\n",
    "    \"/net/home/jmoehring/scratch/meta/ne_110m_admin_0_countries/ne_110m_admin_0_countries.shp\"\n",
    ")"
   ]
  },
  {
   "cell_type": "code",
   "execution_count": null,
   "metadata": {},
   "outputs": [],
   "source": [
    "biome_dict = {\n",
    "    1: \"Tropical and Subtropical Moist Broadleaf Forests\",\n",
    "    2: \"Tropical and Subtropical Dry Broadleaf Forests\",\n",
    "    3: \"Tropical and Subtropical Coniferous Forests\",\n",
    "    4: \"Temperate Broadleaf and Mixed Forests\",\n",
    "    5: \"Temperate Coniferous Forests\",\n",
    "    6: \"Boreal Forests/Taiga\",\n",
    "    7: \"Tropical and Subtropical Grasslands, Savannas, and Shrublands\",\n",
    "    8: \"Temperate Grasslands, Savannas, and Shrublands\",\n",
    "    9: \"Flooded Grasslands and Savannas\",\n",
    "    10: \"Montane Grasslands and Shrublands\",\n",
    "    11: \"Tundra\",\n",
    "    12: \"Mediterranean Forests, Woodlands, and Scrub\",\n",
    "    13: \"Deserts and Xeric Shrublands\",\n",
    "    14: \"Mangroves\",\n",
    "}"
   ]
  },
  {
   "cell_type": "code",
   "execution_count": null,
   "metadata": {},
   "outputs": [],
   "source": [
    "# filter ecoregions that are not present in the meta data\n",
    "eco_gdf_dissolved = eco_gdf_dissolved[\n",
    "    eco_gdf_dissolved[\"BIOME\"].isin(meta_df[\"biome\"].unique())\n",
    "]"
   ]
  },
  {
   "cell_type": "code",
   "execution_count": null,
   "metadata": {},
   "outputs": [],
   "source": [
    "eco_gdf_dissolved[\"BIOME_NAME\"] = eco_gdf_dissolved[\"BIOME\"].map(biome_dict)"
   ]
  },
  {
   "cell_type": "code",
   "execution_count": null,
   "metadata": {},
   "outputs": [],
   "source": [
    "fig = plt.figure(figsize=(20, 10))\n",
    "ax = fig.add_subplot()\n",
    "\n",
    "# plot a basic map of the world\n",
    "world.plot(ax=ax, color=\"lightgray\", edgecolor=\"black\", alpha=0.3)\n",
    "\n",
    "eco_gdf_dissolved.plot(\n",
    "    ax=ax,\n",
    "    legend=True,\n",
    "    alpha=0.7,\n",
    "    legend_kwds={\"loc\": \"lower left\"},\n",
    "    categorical=True,\n",
    "    column=\"BIOME_NAME\",\n",
    ")\n",
    "\n",
    "# plot the tile centroids\n",
    "meta_gdf.plot(ax=ax, color=\"black\", markersize=9)\n",
    "\n",
    "# turn off axis ticks\n",
    "ax.set_xticks([])\n",
    "ax.set_yticks([])\n",
    "\n",
    "# set the plot title\n",
    "# plt.title(\"Basic Map of World with GeoPandas\")\n",
    "plt.show()"
   ]
  },
  {
   "cell_type": "code",
   "execution_count": null,
   "metadata": {},
   "outputs": [],
   "source": [
    "df = pd.read_csv(\"/net/home/jmoehring/experiments/eval_runs/eval_20k_effnet.csv\")"
   ]
  },
  {
   "cell_type": "code",
   "execution_count": null,
   "metadata": {},
   "outputs": [],
   "source": [
    "df[\"resolution\"] = \"1024\""
   ]
  },
  {
   "cell_type": "code",
   "execution_count": null,
   "metadata": {},
   "outputs": [],
   "source": [
    "experiments_dir = Path(\"/net/home/jmoehring/experiments\")"
   ]
  },
  {
   "cell_type": "code",
   "execution_count": null,
   "metadata": {},
   "outputs": [],
   "source": [
    "df_512 = pd.read_csv(\n",
    "    experiments_dir / \"50k_biome_resolution_strat_pos_weight_512\" / \"eval.csv\"\n",
    ")\n",
    "df_1024_0 = pd.read_csv(\n",
    "    experiments_dir / \"10k_biome_resolution_strat_pos_weight_1024_fold0\" / \"eval.csv\"\n",
    ")\n",
    "df_1024_1 = pd.read_csv(\n",
    "    experiments_dir / \"10k_biome_resolution_strat_pos_weight_1024_fold1\" / \"eval.csv\"\n",
    ")\n",
    "df_1024_2 = pd.read_csv(\n",
    "    experiments_dir / \"10k_biome_resolution_strat_pos_weight_1024_fold2\" / \"eval.csv\"\n",
    ")\n",
    "df_1024 = pd.concat([df_1024_0, df_1024_1, df_1024_2])"
   ]
  },
  {
   "cell_type": "code",
   "execution_count": null,
   "metadata": {},
   "outputs": [],
   "source": [
    "df_512[\"resolution\"] = 512\n",
    "df_1024[\"resolution\"] = 1024\n",
    "df = pd.concat([df_512, df_1024])"
   ]
  },
  {
   "cell_type": "code",
   "execution_count": null,
   "metadata": {},
   "outputs": [],
   "source": [
    "df[\"pos_ratio\"] = df[\"positives\"] / df[\"negatives\"]\n",
    "df[\"pixels\"] = df[\"positives\"] + df[\"negatives\"]"
   ]
  },
  {
   "cell_type": "code",
   "execution_count": null,
   "metadata": {},
   "outputs": [],
   "source": [
    "# add new column biome names\n",
    "biome_names = {\n",
    "    4: \"Temperate Broadleaf and Mixed Forests\",\n",
    "    5: \"Temperate Coniferous Forests\",\n",
    "    6: \"Boreal Forests/Taiga\",\n",
    "    12: \"Mediteranean Forests\",\n",
    "    13: \"Deserts and Xeric Shrublands\",\n",
    "}\n",
    "df[\"biome_name\"] = df[\"biome\"].map(biome_names)"
   ]
  },
  {
   "cell_type": "code",
   "execution_count": null,
   "metadata": {},
   "outputs": [],
   "source": [
    "df[\"negatives\"].sum() / df[\"positives\"].sum()"
   ]
  },
  {
   "cell_type": "code",
   "execution_count": null,
   "metadata": {},
   "outputs": [],
   "source": [
    "# Filter the DataFrame for epoch 59 and resolution 512\n",
    "# df_filtered = df[(df[\"epoch\"] == 59) & (df[\"resolution\"] == 512)]\n",
    "\n",
    "# Melt the DataFrame for plotting\n",
    "df_melted = df.melt(\n",
    "    id_vars=[\"resolution_bin\", \"biome_name\"],\n",
    "    value_vars=[\"precision\", \"recall\", \"f1\"],\n",
    "    var_name=\"metric\",\n",
    "    value_name=\"value\",\n",
    ")\n",
    "\n",
    "# Plotting using FacetGrid\n",
    "g = sns.FacetGrid(\n",
    "    df_melted, col=\"biome_name\", hue=\"metric\", col_wrap=2, height=4, aspect=1.5\n",
    ")\n",
    "g.map(sns.lineplot, \"resolution_bin\", \"value\", marker=\"o\")\n",
    "\n",
    "# Adding titles and labels\n",
    "g.add_legend()\n",
    "g.set_axis_labels(\"Resolution Bin\", \"Value\")\n",
    "g.set_titles(col_template=\"{col_name}\")\n",
    "\n",
    "# Adjusting the layout\n",
    "plt.subplots_adjust(top=0.9)\n",
    "g.fig.suptitle(\n",
    "    \"Precision, Recall, and F1 Scores Across Resolutions by Biome in 512px\", fontsize=16\n",
    ")\n",
    "\n",
    "# Show the plot\n",
    "plt.show()"
   ]
  },
  {
   "cell_type": "code",
   "execution_count": null,
   "metadata": {},
   "outputs": [],
   "source": [
    "# Filter the DataFrame for epoch 59 and resolution 512\n",
    "# df_filtered = df[(df[\"epoch\"] == 59) & (df[\"resolution\"] == 512)]\n",
    "\n",
    "sns.set_theme()\n",
    "pivoted = df.pivot_table(index=\"biome_name\", columns=\"resolution_bin\", values=\"f1\")\n",
    "pivoted_labels = df_filtered.pivot_table(\n",
    "    index=\"biome_name\",\n",
    "    columns=\"resolution_bin\",\n",
    "    values=\"precision\",\n",
    "    aggfunc=\"mean\",\n",
    ")\n",
    "ax = sns.heatmap(\n",
    "    pivoted,\n",
    "    cmap=\"rocket\",\n",
    "    annot=pivoted_labels,\n",
    "    fmt=\".1f\",\n",
    "    cbar_kws={\"label\": \"F1-Score\"},\n",
    ")\n",
    "# add \"k\" after the numbers\n",
    "# for t in ax.texts:\n",
    "#     t.set_text(t.get_text() + \"k\")\n",
    "\n",
    "ax.set_ylabel(\"\")\n",
    "ax.set_xlabel(\"Resolution [m]\")\n",
    "fig = ax.get_figure()\n",
    "fig.set_size_inches(10, 5)\n",
    "plt.show()"
   ]
  },
  {
   "cell_type": "code",
   "execution_count": null,
   "metadata": {},
   "outputs": [],
   "source": [
    "# Filter the DataFrame for epoch 59 and resolution 512\n",
    "# df_filtered = df[(df[\"epoch\"] == 59) & (df[\"resolution\"] == 1024)]\n",
    "\n",
    "# Melt the DataFrame for plotting\n",
    "df_melted = df.melt(\n",
    "    id_vars=[\"resolution_bin\", \"biome_name\"],\n",
    "    value_vars=[\"precision\", \"recall\", \"f1\"],\n",
    "    var_name=\"metric\",\n",
    "    value_name=\"value\",\n",
    ")\n",
    "\n",
    "# Plotting using FacetGrid\n",
    "g = sns.FacetGrid(\n",
    "    df_melted, col=\"biome_name\", hue=\"metric\", col_wrap=2, height=4, aspect=1.5\n",
    ")\n",
    "g.map(sns.lineplot, \"resolution_bin\", \"value\", marker=\"o\")\n",
    "\n",
    "# Adding titles and labels\n",
    "g.add_legend()\n",
    "g.set_axis_labels(\"Resolution Bin\", \"Value\")\n",
    "g.set_titles(col_template=\"{col_name}\")\n",
    "\n",
    "# Adjusting the layout\n",
    "plt.subplots_adjust(top=0.9)\n",
    "g.fig.suptitle(\n",
    "    \"Precision, Recall, and F1 Scores Across Resolutions by Biome in 1024px\",\n",
    "    fontsize=16,\n",
    ")\n",
    "\n",
    "# Show the plot\n",
    "plt.show()"
   ]
  },
  {
   "cell_type": "code",
   "execution_count": null,
   "metadata": {},
   "outputs": [],
   "source": [
    "# Filter and melt the DataFrame for plotting\n",
    "df_melted = df.melt(\n",
    "    id_vars=[\"resolution_bin\", \"biome_name\", \"resolution\"],\n",
    "    value_vars=[\"precision\", \"recall\", \"f1\"],\n",
    "    var_name=\"metric\",\n",
    "    value_name=\"value\",\n",
    ")\n",
    "\n",
    "\n",
    "# Plotting using FacetGrid\n",
    "g = sns.FacetGrid(\n",
    "    df_melted, col=\"resolution\", hue=\"metric\", col_wrap=2, height=4, aspect=1.5\n",
    ")\n",
    "g.map_dataframe(sns.lineplot, \"resolution_bin\", \"value\", marker=\"o\")\n",
    "\n",
    "# Adding titles and labels\n",
    "g.add_legend()\n",
    "g.set_axis_labels(\"Resolution Bin\", \"Value\")\n",
    "g.set_titles(col_template=\"{col_name}\")\n",
    "\n",
    "# Adjusting the layout\n",
    "plt.subplots_adjust(top=0.9)\n",
    "g.fig.suptitle(\n",
    "    \"Precision, Recall, and F1 Scores Across Resolutions for df_1024 and df_512\",\n",
    "    fontsize=16,\n",
    ")\n",
    "\n",
    "# Show the plot\n",
    "plt.show()"
   ]
  },
  {
   "cell_type": "code",
   "execution_count": null,
   "metadata": {},
   "outputs": [],
   "source": [
    "# Melt the DataFrame for plotting\n",
    "df_melted = df_20k.melt(\n",
    "    id_vars=[\"epoch\", \"resolution\"],\n",
    "    value_vars=[\"precision\", \"recall\", \"f1\"],\n",
    "    var_name=\"metric\",\n",
    "    value_name=\"value\",\n",
    ")\n",
    "\n",
    "# Plotting using FacetGrid\n",
    "g = sns.FacetGrid(\n",
    "    df_melted, col=\"resolution\", hue=\"metric\", col_wrap=2, height=4, aspect=1.5\n",
    ")\n",
    "g.map_dataframe(sns.lineplot, \"epoch\", \"value\", marker=\"o\")\n",
    "\n",
    "# Adding titles and labels\n",
    "g.add_legend()\n",
    "g.set_axis_labels(\"Epoch\", \"Value\")\n",
    "g.set_titles(col_template=\"{col_name}\")\n",
    "\n",
    "# Adjusting the layout\n",
    "plt.subplots_adjust(top=0.9)\n",
    "g.fig.suptitle(\n",
    "    \"Precision, Recall, and F1 Scores Across Epochs for df_1024 and df_512\",\n",
    "    fontsize=16,\n",
    ")\n",
    "\n",
    "# Show the plot\n",
    "plt.show()"
   ]
  },
  {
   "cell_type": "code",
   "execution_count": null,
   "metadata": {},
   "outputs": [],
   "source": [
    "# Compute weighted averages\n",
    "weighted_avg = (\n",
    "    df.groupby([\"epoch\", \"resolution\"])\n",
    "    .apply(\n",
    "        lambda x: pd.Series(\n",
    "            {\n",
    "                \"precision\": (x[\"precision\"] * x[\"pixels\"]).sum() / x[\"pixels\"].sum(),\n",
    "                \"recall\": (x[\"recall\"] * x[\"pixels\"]).sum() / x[\"pixels\"].sum(),\n",
    "                \"f1\": (x[\"f1\"] * x[\"pixels\"]).sum() / x[\"pixels\"].sum(),\n",
    "            }\n",
    "        )\n",
    "    )\n",
    "    .reset_index()\n",
    ")\n",
    "\n",
    "# Melt the DataFrame for plotting\n",
    "df_melted = weighted_avg.melt(\n",
    "    id_vars=[\"epoch\", \"resolution\"],\n",
    "    value_vars=[\"precision\", \"recall\", \"f1\"],\n",
    "    var_name=\"metric\",\n",
    "    value_name=\"value\",\n",
    ")\n",
    "\n",
    "# Plotting using FacetGrid\n",
    "g = sns.FacetGrid(\n",
    "    df_melted, col=\"resolution\", hue=\"metric\", col_wrap=2, height=4, aspect=1.5\n",
    ")\n",
    "g.map_dataframe(sns.lineplot, \"epoch\", \"value\", marker=\"o\")\n",
    "\n",
    "# Adding titles and labels\n",
    "g.add_legend()\n",
    "g.set_axis_labels(\"Epoch\", \"Value\")\n",
    "g.set_titles(col_template=\"{col_name}\")\n",
    "\n",
    "# Adjusting the layout\n",
    "plt.subplots_adjust(top=0.9)\n",
    "g.fig.suptitle(\n",
    "    \"Weighted Precision, Recall, and F1 Scores Across Epochs for df_1024 and df_512\",\n",
    "    fontsize=16,\n",
    ")\n",
    "\n",
    "# Show the plot\n",
    "plt.show()"
   ]
  }
 ],
 "metadata": {
  "kernelspec": {
   "display_name": "sd-env-12",
   "language": "python",
   "name": "python3"
  },
  "language_info": {
   "codemirror_mode": {
    "name": "ipython",
    "version": 3
   },
   "file_extension": ".py",
   "mimetype": "text/x-python",
   "name": "python",
   "nbconvert_exporter": "python",
   "pygments_lexer": "ipython3",
   "version": "3.12.4"
  }
 },
 "nbformat": 4,
 "nbformat_minor": 2
}
