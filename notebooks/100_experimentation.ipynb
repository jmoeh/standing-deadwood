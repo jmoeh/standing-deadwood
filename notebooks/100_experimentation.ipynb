{
 "cells": [
  {
   "cell_type": "code",
   "execution_count": 1,
   "metadata": {},
   "outputs": [],
   "source": [
    "import sys\n",
    "import os\n",
    "import pandas as pd\n",
    "from collections import Counter\n",
    "import matplotlib.pyplot as plt\n",
    "import rasterio\n",
    "import numpy as np\n",
    "from PIL import Image\n",
    "import torch\n",
    "import fiona\n",
    "import geopandas as gpd\n",
    "from pyproj import Transformer\n",
    "import rasterio\n",
    "from rasterio.features import geometry_mask\n",
    "from rasterio.transform import from_bounds\n",
    "import seaborn as sns\n",
    "\n",
    "# Add the parent directory to sys.path\n",
    "sys.path.append(os.path.dirname(os.path.realpath(os.path.abspath(\"\"))))\n",
    "\n",
    "from utils.parallel import paral"
   ]
  },
  {
   "cell_type": "code",
   "execution_count": 2,
   "metadata": {},
   "outputs": [],
   "source": [
    "labels_dir = \"/net/data_ssd/tree_mortality_orthophotos/labels_and_aois/\"\n",
    "cores = 30"
   ]
  },
  {
   "cell_type": "code",
   "execution_count": 3,
   "metadata": {},
   "outputs": [],
   "source": [
    "meta_df = pd.read_csv(\"/net/scratch/jmoehring/meta/metadata_manual_with_resolution.csv\")"
   ]
  },
  {
   "cell_type": "code",
   "execution_count": 4,
   "metadata": {},
   "outputs": [],
   "source": [
    "register_df = pd.read_csv(\"/net/scratch/jmoehring/tiles_1024/register.csv\")"
   ]
  },
  {
   "cell_type": "code",
   "execution_count": 5,
   "metadata": {},
   "outputs": [
    {
     "data": {
      "text/plain": [
       "Index(['base_file_name', 'file_path', 'global_file_path', 'resolution', 'x',\n",
       "       'y', 'label_quality', 'resolution_bin', 'original', 'biome'],\n",
       "      dtype='object')"
      ]
     },
     "execution_count": 5,
     "metadata": {},
     "output_type": "execute_result"
    }
   ],
   "source": [
    "register_df.columns"
   ]
  },
  {
   "cell_type": "code",
   "execution_count": 6,
   "metadata": {},
   "outputs": [],
   "source": [
    "register_bl_df = register_df[\n",
    "    ~register_df[\"base_file_name\"].str.contains(\"yanspain\", na=False)\n",
    "]\n",
    "register_bl_df = register_bl_df[\n",
    "    ~register_bl_df[\"base_file_name\"].str.contains(\"california_cropped\", na=False)\n",
    "]\n",
    "register_bl_df = register_bl_df[\n",
    "    ~register_bl_df[\"base_file_name\"].str.contains(\"jucker\", na=False)\n",
    "]"
   ]
  },
  {
   "cell_type": "code",
   "execution_count": 7,
   "metadata": {},
   "outputs": [],
   "source": [
    "register_bl_df.to_csv(\"/net/scratch/jmoehring/tiles_1024/register_baseline.csv\")"
   ]
  },
  {
   "cell_type": "code",
   "execution_count": 8,
   "metadata": {},
   "outputs": [
    {
     "name": "stdout",
     "output_type": "stream",
     "text": [
      "<class 'pandas.core.frame.DataFrame'>\n",
      "Index: 284205 entries, 0 to 286430\n",
      "Data columns (total 10 columns):\n",
      " #   Column            Non-Null Count   Dtype  \n",
      "---  ------            --------------   -----  \n",
      " 0   base_file_name    284205 non-null  object \n",
      " 1   file_path         284205 non-null  object \n",
      " 2   global_file_path  284205 non-null  object \n",
      " 3   resolution        284205 non-null  float64\n",
      " 4   x                 284205 non-null  int64  \n",
      " 5   y                 284205 non-null  int64  \n",
      " 6   label_quality     284205 non-null  float64\n",
      " 7   resolution_bin    284205 non-null  float64\n",
      " 8   original          284205 non-null  bool   \n",
      " 9   biome             284205 non-null  float64\n",
      "dtypes: bool(1), float64(4), int64(2), object(3)\n",
      "memory usage: 22.0+ MB\n"
     ]
    }
   ],
   "source": [
    "register_bl_df.info()"
   ]
  },
  {
   "cell_type": "code",
   "execution_count": 9,
   "metadata": {},
   "outputs": [
    {
     "data": {
      "text/plain": [
       "Index(['filename', 'project_id', 'authors_image', 'acquisition_date_month',\n",
       "       'acquisition_date_day', 'acquisition_date_year',\n",
       "       'acquisition_date_precise', 'email', 'label_type', 'label_source',\n",
       "       'image_platform', 'image_spectral_properties', 'citation_doi',\n",
       "       'label_quality', 'has_labels', 'license', 'public',\n",
       "       'additional_information', 'west', 'east', 'south', 'north', 'width',\n",
       "       'height', 'crs'],\n",
       "      dtype='object')"
      ]
     },
     "execution_count": 9,
     "metadata": {},
     "output_type": "execute_result"
    }
   ],
   "source": [
    "meta_df.columns"
   ]
  },
  {
   "cell_type": "code",
   "execution_count": 10,
   "metadata": {},
   "outputs": [],
   "source": [
    "# get distict base images from register and inner join with meta_df filename\n",
    "base_images_df = (\n",
    "    register_bl_df.groupby(\"base_file_name\")\n",
    "    .agg({\"resolution\": \"min\", \"biome\": \"first\"})\n",
    "    .reset_index()\n",
    ")\n",
    "\n",
    "# also add biome and resolution to the base images as they are always the same for each base image\n",
    "meta_df = pd.merge(\n",
    "    meta_df, base_images_df, right_on=\"base_file_name\", left_on=\"filename\", how=\"inner\"\n",
    ")"
   ]
  },
  {
   "cell_type": "code",
   "execution_count": 11,
   "metadata": {},
   "outputs": [],
   "source": [
    "def get_aoi_area(filename, meta_df):\n",
    "    if filename.endswith(\".gpkg\"):\n",
    "        image_name = filename.replace(\"_polygons.gpkg\", \".tif\")\n",
    "        if image_name in meta_df[\"filename\"].values:\n",
    "            filepath = os.path.join(labels_dir, filename)\n",
    "            layers = fiona.listlayers(filepath)\n",
    "\n",
    "            if \"aoi\" in layers:\n",
    "                gdf_label = gpd.read_file(filepath, layer=\"aoi\")\n",
    "                gdf_label = gdf_label.to_crs({\"proj\": \"cea\"})\n",
    "                return (image_name, gdf_label.area.sum() / 10**4)"
   ]
  },
  {
   "cell_type": "code",
   "execution_count": 12,
   "metadata": {},
   "outputs": [
    {
     "name": "stderr",
     "output_type": "stream",
     "text": [
      "get_aoi_area: 100%|██████████| 1077/1077 [00:02<00:00, 429.05jobs/s]\n"
     ]
    }
   ],
   "source": [
    "output = paral(\n",
    "    get_aoi_area,\n",
    "    [os.listdir(labels_dir), [meta_df] * len(os.listdir(labels_dir))],\n",
    "    num_cores=cores,\n",
    ")"
   ]
  },
  {
   "cell_type": "code",
   "execution_count": 13,
   "metadata": {},
   "outputs": [],
   "source": [
    "# remove all None values from the output\n",
    "output = [x for x in output if x is not None]\n",
    "# convert list of tuples to dataframe\n",
    "output_df = pd.DataFrame(output, columns=[\"filename\", \"aoi_area\"])\n",
    "# merge with meta_df\n",
    "meta_df = pd.merge(meta_df, output_df, on=\"filename\", how=\"inner\")"
   ]
  },
  {
   "cell_type": "code",
   "execution_count": 14,
   "metadata": {},
   "outputs": [
    {
     "data": {
      "text/plain": [
       "3911.343245728662"
      ]
     },
     "execution_count": 14,
     "metadata": {},
     "output_type": "execute_result"
    }
   ],
   "source": [
    "meta_df[\"aoi_area\"].sum()"
   ]
  },
  {
   "cell_type": "code",
   "execution_count": 15,
   "metadata": {},
   "outputs": [
    {
     "data": {
      "text/plain": [
       "biome\n",
       "4.0     227\n",
       "6.0      10\n",
       "12.0     10\n",
       "5.0       9\n",
       "13.0      4\n",
       "1.0       2\n",
       "10.0      1\n",
       "Name: count, dtype: int64"
      ]
     },
     "execution_count": 15,
     "metadata": {},
     "output_type": "execute_result"
    }
   ],
   "source": [
    "meta_df[\"biome\"].value_counts()"
   ]
  },
  {
   "cell_type": "code",
   "execution_count": 16,
   "metadata": {},
   "outputs": [],
   "source": [
    "biome_dict = {\n",
    "    1: \"Tropical and Subtropical Moist Broadleaf Forests\",\n",
    "    2: \"Tropical and Subtropical Dry Broadleaf Forests\",\n",
    "    3: \"Tropical and Subtropical Coniferous Forests\",\n",
    "    4: \"Temperate Broadleaf and Mixed Forests\",\n",
    "    5: \"Temperate Coniferous Forests\",\n",
    "    6: \"Boreal Forests/Taiga\",\n",
    "    7: \"Tropical and Subtropical Grasslands, Savannas, and Shrublands\",\n",
    "    8: \"Temperate Grasslands, Savannas, and Shrublands\",\n",
    "    9: \"Flooded Grasslands and Savannas\",\n",
    "    10: \"Montane Grasslands and Shrublands\",\n",
    "    11: \"Tundra\",\n",
    "    12: \"Mediterranean Forests, Woodlands, and Scrub\",\n",
    "    13: \"Deserts and Xeric Shrublands\",\n",
    "    14: \"Mangroves\",\n",
    "}"
   ]
  },
  {
   "cell_type": "code",
   "execution_count": 17,
   "metadata": {},
   "outputs": [],
   "source": [
    "# add biome names to the meta_df\n",
    "meta_df[\"biome_name\"] = meta_df[\"biome\"].map(biome_dict)"
   ]
  },
  {
   "cell_type": "code",
   "execution_count": 18,
   "metadata": {},
   "outputs": [],
   "source": [
    "# group by biome name and sum aoi area, weighted mean of the resolutions by the area aoi, and count of the files\n",
    "biome_df = (\n",
    "    meta_df.groupby(\"biome_name\")\n",
    "    .agg(\n",
    "        {\n",
    "            \"aoi_area\": \"sum\",\n",
    "            \"resolution\": \"mean\",\n",
    "            \"filename\": \"count\",\n",
    "        }\n",
    "    )\n",
    "    .reset_index()\n",
    ")\n",
    "\n",
    "# round aoi area to 2 decimal places\n",
    "biome_df[\"aoi_area\"] = biome_df[\"aoi_area\"].round(2)\n",
    "\n",
    "# take resolution by 100 and round to 2 decimal places\n",
    "biome_df[\"resolution\"] = (biome_df[\"resolution\"] * 100).round(2)"
   ]
  },
  {
   "cell_type": "code",
   "execution_count": 19,
   "metadata": {},
   "outputs": [],
   "source": [
    "biome_df.to_csv(\"/net/scratch/jmoehring/meta/biome_stats.csv\", index=False, sep=\";\")"
   ]
  },
  {
   "cell_type": "code",
   "execution_count": null,
   "metadata": {},
   "outputs": [],
   "source": [
    "biome_df.head()"
   ]
  },
  {
   "cell_type": "code",
   "execution_count": null,
   "metadata": {},
   "outputs": [],
   "source": [
    "meta_df.columns"
   ]
  },
  {
   "cell_type": "code",
   "execution_count": 22,
   "metadata": {},
   "outputs": [],
   "source": [
    "meta_df.to_csv(\"/net/scratch/jmoehring/meta/ortho_metadata_annot.csv\", index=False)"
   ]
  },
  {
   "cell_type": "code",
   "execution_count": null,
   "metadata": {},
   "outputs": [],
   "source": [
    "# Use a color palette for better distinction between the different biomes\n",
    "palette = sns.color_palette(\"husl\", meta_df[\"biome_name\"].nunique())\n",
    "\n",
    "# Iterate over each biome name and plot the KDE for its resolution\n",
    "for idx, biome_name in enumerate(meta_df[\"biome_name\"].unique()):\n",
    "    sns.kdeplot(\n",
    "        meta_df[meta_df[\"biome_name\"] == biome_name][\"resolution\"],\n",
    "        label=biome_name,\n",
    "        shade=True,\n",
    "        color=palette[idx],\n",
    "        linewidth=2,\n",
    "        clip=(0, None),  # Ensures the KDE starts from 0\n",
    "    )\n",
    "\n",
    "# Customize the plot for better readability\n",
    "plt.title(\"Resolution Density Across Different Biomes\", fontsize=16)\n",
    "plt.xlabel(\"Resolution\", fontsize=12)\n",
    "plt.ylabel(\"Density\", fontsize=12)\n",
    "plt.legend(title=\"Biome Names\", bbox_to_anchor=(1.05, 1), loc=\"upper left\")\n",
    "plt.grid(True)\n",
    "\n",
    "# Adjust x-axis to start at 0\n",
    "plt.xlim(0, None)\n",
    "\n",
    "# Show the plot\n",
    "plt.tight_layout()\n",
    "plt.show()"
   ]
  },
  {
   "cell_type": "code",
   "execution_count": null,
   "metadata": {},
   "outputs": [],
   "source": []
  },
  {
   "cell_type": "code",
   "execution_count": 4,
   "metadata": {},
   "outputs": [],
   "source": [
    "df[\"global_file_path\"] = df[\"file_path\"].apply(\n",
    "    lambda x: x.replace(\"/net/scratch/jmoehring/\", \"/\")\n",
    ")"
   ]
  },
  {
   "cell_type": "code",
   "execution_count": 7,
   "metadata": {},
   "outputs": [],
   "source": [
    "df[\"ratio\"] = df[\"negatives\"] / df[\"positives\"]"
   ]
  },
  {
   "cell_type": "code",
   "execution_count": null,
   "metadata": {},
   "outputs": [],
   "source": [
    "df.head(120)"
   ]
  },
  {
   "cell_type": "code",
   "execution_count": 30,
   "metadata": {},
   "outputs": [],
   "source": [
    "df[\"global_file_path\"] = df[\"file_path\"].apply(\n",
    "    lambda x: x.replace(\"/net/scratch/jmoehring\", \"\")\n",
    ")"
   ]
  },
  {
   "cell_type": "code",
   "execution_count": 6,
   "metadata": {},
   "outputs": [],
   "source": [
    "df.to_csv(\"/net/scratch/jmoehring/tiles_register_512.csv\", index=False)"
   ]
  },
  {
   "cell_type": "code",
   "execution_count": 7,
   "metadata": {},
   "outputs": [],
   "source": [
    "df = pd.read_csv(\n",
    "    \"/net/scratch/jmoehring/checkpoints/10k_1024px_60epochs_3fold_bf1/10k_1024px_60epochs_3fold_bf1.csv\"\n",
    ")"
   ]
  },
  {
   "cell_type": "code",
   "execution_count": 8,
   "metadata": {},
   "outputs": [],
   "source": [
    "eval_df = df.query(\"epoch == 60\")"
   ]
  },
  {
   "cell_type": "code",
   "execution_count": 28,
   "metadata": {},
   "outputs": [],
   "source": [
    "df_grouped_2 = df_grouped.groupby(\"treshold\")[\"f1\"].mean().reset_index()"
   ]
  },
  {
   "cell_type": "code",
   "execution_count": null,
   "metadata": {},
   "outputs": [],
   "source": [
    "df_grouped[\"biome\"].value_counts()"
   ]
  },
  {
   "cell_type": "code",
   "execution_count": null,
   "metadata": {},
   "outputs": [],
   "source": [
    "df_grouped_2.head(10)"
   ]
  },
  {
   "cell_type": "code",
   "execution_count": null,
   "metadata": {},
   "outputs": [],
   "source": [
    "df_grouped.head()"
   ]
  },
  {
   "cell_type": "code",
   "execution_count": 20,
   "metadata": {},
   "outputs": [],
   "source": [
    "# loss function (binary cross entropy)\n",
    "criterion = nn.BCEWithLogitsLoss()"
   ]
  },
  {
   "cell_type": "code",
   "execution_count": 45,
   "metadata": {},
   "outputs": [],
   "source": [
    "target = torch.Tensor([[0, 0], [0, 1]])\n",
    "input = torch.Tensor([[0, 0], [0, 1]])\n",
    "target = target.unsqueeze(2)\n",
    "input = input.unsqueeze(2)\n",
    "# Broadcast the values along the third dimension to make them 2x2x12\n",
    "target = target.expand(2, 2, 12)\n",
    "input = input.expand(2, 2, 12)\n",
    "target = target.permute(2, 0, 1)\n",
    "input = input.permute(2, 0, 1)\n",
    "\n",
    "input[6, 0, 0] = 0.5"
   ]
  },
  {
   "cell_type": "code",
   "execution_count": null,
   "metadata": {},
   "outputs": [],
   "source": [
    "criterion(input, target)"
   ]
  },
  {
   "cell_type": "code",
   "execution_count": null,
   "metadata": {},
   "outputs": [],
   "source": [
    "dice_coeff(input, target)"
   ]
  },
  {
   "cell_type": "code",
   "execution_count": 31,
   "metadata": {},
   "outputs": [],
   "source": [
    "df = pd.read_csv(\"/net/scratch/jmoehring/tiles_register_1024_biome.csv\")"
   ]
  },
  {
   "cell_type": "code",
   "execution_count": null,
   "metadata": {},
   "outputs": [],
   "source": [
    "df.query(\"biome == 13\").head(100)"
   ]
  },
  {
   "cell_type": "code",
   "execution_count": null,
   "metadata": {},
   "outputs": [],
   "source": [
    "df.info()"
   ]
  },
  {
   "cell_type": "code",
   "execution_count": 6,
   "metadata": {},
   "outputs": [],
   "source": [
    "df2 = pd.read_csv(\"/net/scratch/jmoehring/tiles_register_biome_bin.csv\")"
   ]
  },
  {
   "cell_type": "code",
   "execution_count": null,
   "metadata": {},
   "outputs": [],
   "source": [
    "df2.info()"
   ]
  },
  {
   "cell_type": "code",
   "execution_count": 11,
   "metadata": {},
   "outputs": [],
   "source": [
    "image_path = \"/net/scratch/jmoehring/tiles_1024/quebec_2021-10-07-sbl-cloutier-z2-rgb/0.019/9764_23361_mask.tif\""
   ]
  },
  {
   "cell_type": "code",
   "execution_count": null,
   "metadata": {},
   "outputs": [],
   "source": [
    "image = Image.open(image_path).convert(\"RGB\")"
   ]
  },
  {
   "cell_type": "code",
   "execution_count": 107,
   "metadata": {},
   "outputs": [],
   "source": [
    "mask_src = rasterio.open(\n",
    "    \"/net/scratch/jmoehring/inference/100k_samples_biome_stratified_treefold_smallval_testset/uavforsat_2017_CFB050_ortho.tif\"\n",
    ")"
   ]
  },
  {
   "cell_type": "code",
   "execution_count": 4,
   "metadata": {},
   "outputs": [],
   "source": [
    "image_src = rasterio.open(\"/net/home/jmoehring/standing-deadwood/download.tif\")"
   ]
  },
  {
   "cell_type": "code",
   "execution_count": 109,
   "metadata": {},
   "outputs": [],
   "source": [
    "contours = measure.find_contours(image=mask_src.read(1), level=0.5)"
   ]
  },
  {
   "cell_type": "code",
   "execution_count": null,
   "metadata": {},
   "outputs": [],
   "source": [
    "# Display the image and plot all contours found\n",
    "fig, ax = plt.subplots()\n",
    "ax.imshow(np.moveaxis(image_src.read(), 0, -1), cmap=plt.cm.gray)\n",
    "\n",
    "\n",
    "# for contour in contours:\n",
    "#     ax.plot(contour[:, 1], contour[:, 0], linewidth=2, color=\"orange\")\n",
    "\n",
    "ax.axis()\n",
    "ax.set_xlim(0, image_src.width)\n",
    "ax.set_ylim(image_src.height, 0)\n",
    "\n",
    "# ax.set_xlim(10500, 14500)\n",
    "# ax.set_ylim(14500, 10500)\n",
    "\n",
    "plt.show()"
   ]
  },
  {
   "cell_type": "code",
   "execution_count": null,
   "metadata": {},
   "outputs": [],
   "source": [
    "plt.savefig(\"contour1.png\", dpi=100)"
   ]
  },
  {
   "cell_type": "code",
   "execution_count": null,
   "metadata": {},
   "outputs": [],
   "source": [
    "contours"
   ]
  },
  {
   "cell_type": "code",
   "execution_count": 3,
   "metadata": {},
   "outputs": [],
   "source": [
    "register_df = pd.read_csv(\"/net/scratch/jmoehring/tiles_register_biome_bin.csv\")"
   ]
  },
  {
   "cell_type": "code",
   "execution_count": null,
   "metadata": {},
   "outputs": [],
   "source": [
    "register_df.info()"
   ]
  },
  {
   "cell_type": "code",
   "execution_count": 5,
   "metadata": {},
   "outputs": [],
   "source": [
    "images_df = register_df.groupby(\"base_file_name\").min(\"resolution_bin\").reset_index()"
   ]
  },
  {
   "cell_type": "code",
   "execution_count": null,
   "metadata": {},
   "outputs": [],
   "source": [
    "register_df[register_df[\"file_path\"].str.contains(\"13905_8833.tif\")]"
   ]
  },
  {
   "cell_type": "code",
   "execution_count": null,
   "metadata": {},
   "outputs": [],
   "source": [
    "register_df[\"resolution_bin\"].hist()"
   ]
  },
  {
   "cell_type": "code",
   "execution_count": null,
   "metadata": {},
   "outputs": [],
   "source": [
    "register_df[\"resolution_bin_str\"].nunique()"
   ]
  },
  {
   "cell_type": "code",
   "execution_count": 10,
   "metadata": {},
   "outputs": [],
   "source": [
    "# Calculate the value counts\n",
    "value_counts = register_df[\"resolution_bin\"].value_counts()\n",
    "\n",
    "# Calculate the square root of the counts\n",
    "sqrt_counts = value_counts.apply(lambda x: x**0.6)\n",
    "\n",
    "# get the inverse of the square root\n",
    "class_weights = 1 / sqrt_counts"
   ]
  },
  {
   "cell_type": "code",
   "execution_count": null,
   "metadata": {},
   "outputs": [],
   "source": [
    "import seaborn as sns\n",
    "\n",
    "# plot hisogram with value counts multiplied by the class weights\n",
    "# Set the style and context of seaborn\n",
    "sns.set_style(\"whitegrid\")\n",
    "sns.set_context(\"notebook\")\n",
    "\n",
    "# Plot the histogram\n",
    "register_df[\"resolution_bin\"].map(class_weights)\n",
    "\n",
    "\n",
    "# Set the title and labels\n",
    "plt.title(\"Histogram of Resolution Bin\")\n",
    "plt.xlabel(\"Resolution Bin\")\n",
    "plt.ylabel(\"Frequency\")\n",
    "\n",
    "# Show the plot\n",
    "plt.show()"
   ]
  },
  {
   "cell_type": "code",
   "execution_count": 125,
   "metadata": {},
   "outputs": [],
   "source": [
    "sample_weights = train_register[\"resolution_bin\"].map(class_weights)"
   ]
  },
  {
   "cell_type": "code",
   "execution_count": null,
   "metadata": {},
   "outputs": [],
   "source": [
    "normalized_counts"
   ]
  },
  {
   "cell_type": "code",
   "execution_count": null,
   "metadata": {},
   "outputs": [],
   "source": [
    "fig = (\n",
    "    register_df[\"resolution_bin\"]\n",
    "    .value_counts()\n",
    "    .plot(kind=\"bar\", xlabel=\"Resolution [m]\", ylabel=\"Image frequency\")\n",
    ")\n",
    "import matplotlib.ticker as ticker\n",
    "\n",
    "ax = plt.gca()  # get the current axes\n",
    "ax.yaxis.set_major_formatter(\n",
    "    ticker.FuncFormatter(lambda x, pos: \"{:0.0f}k\".format(x / 1000))\n",
    ")\n",
    "\n",
    "# set bar color to #1B4079 all children\n",
    "for i, bar in enumerate(fig.patches):\n",
    "    bar.set_color(\"#1B4079\")\n",
    "\n",
    "# save the figure\n",
    "plt.savefig(\"resolution_bin_histogram.png\", dpi=800)"
   ]
  },
  {
   "cell_type": "code",
   "execution_count": null,
   "metadata": {},
   "outputs": [],
   "source": [
    "fig.savefig(\"resolution_bin_histogram.png\")"
   ]
  },
  {
   "cell_type": "code",
   "execution_count": null,
   "metadata": {},
   "outputs": [],
   "source": [
    "rounded_inverse_counts.plot(kind=\"bar\")"
   ]
  },
  {
   "cell_type": "code",
   "execution_count": null,
   "metadata": {},
   "outputs": [],
   "source": [
    "from sklearn.model_selection import StratifiedKFold\n",
    "\n",
    "base_file_register = (\n",
    "    register_df.groupby(\"base_file_name\")\n",
    "    .agg({\"resolution_bin\": \"min\", \"biome\": \"first\"})\n",
    "    .reset_index()\n",
    ")\n",
    "kfold = StratifiedKFold(n_splits=5, random_state=1, shuffle=True)\n",
    "\n",
    "# get the train and test file register of the first fold\n",
    "train_index, test_index = list(\n",
    "    kfold.split(base_file_register, base_file_register[[\"biome\"]].astype(str))\n",
    ")[0]\n",
    "train_files = base_file_register.iloc[train_index]\n",
    "test_files = base_file_register.iloc[test_index]\n",
    "\n",
    "train_register = register_df[\n",
    "    register_df[\"base_file_name\"].isin(train_files[\"base_file_name\"])\n",
    "]\n",
    "test_register = register_df[\n",
    "    register_df[\"base_file_name\"].isin(test_files[\"base_file_name\"])\n",
    "]"
   ]
  },
  {
   "cell_type": "code",
   "execution_count": null,
   "metadata": {},
   "outputs": [],
   "source": [
    "base_file_register.head()"
   ]
  },
  {
   "cell_type": "code",
   "execution_count": null,
   "metadata": {},
   "outputs": [],
   "source": [
    "train_files[\"biome\"].hist()"
   ]
  },
  {
   "cell_type": "code",
   "execution_count": null,
   "metadata": {},
   "outputs": [],
   "source": [
    "test_files[\"biome\"].hist()"
   ]
  },
  {
   "cell_type": "code",
   "execution_count": 12,
   "metadata": {},
   "outputs": [],
   "source": [
    "import wandb\n",
    "import seaborn as sns\n",
    "import matplotlib.pyplot as plt"
   ]
  },
  {
   "cell_type": "code",
   "execution_count": 4,
   "metadata": {},
   "outputs": [],
   "source": [
    "run_id = \"garg20i1\"\n",
    "api = wandb.Api()\n",
    "experiment = api.run(f\"jmoehring/standing-deadwood-unet-pro/{run_id}\")"
   ]
  },
  {
   "cell_type": "code",
   "execution_count": 5,
   "metadata": {},
   "outputs": [],
   "source": [
    "fold = 0\n",
    "epoch = 19"
   ]
  },
  {
   "cell_type": "code",
   "execution_count": 6,
   "metadata": {},
   "outputs": [],
   "source": [
    "eval_df_1 = pd.read_csv(\n",
    "    f\"/net/scratch/jmoehring/eval_{experiment.name}_fold_{0}_epoch_{19}.csv\"\n",
    ")"
   ]
  },
  {
   "cell_type": "code",
   "execution_count": 7,
   "metadata": {},
   "outputs": [],
   "source": [
    "eval_df_2 = pd.read_csv(\n",
    "    f\"/net/scratch/jmoehring/eval_{experiment.name}_fold_{1}_epoch_{12}.csv\"\n",
    ")"
   ]
  },
  {
   "cell_type": "code",
   "execution_count": 8,
   "metadata": {},
   "outputs": [],
   "source": [
    "eval_df_3 = pd.read_csv(\n",
    "    f\"/net/scratch/jmoehring/eval_{experiment.name}_fold_{2}_epoch_{20}.csv\"\n",
    ")"
   ]
  },
  {
   "cell_type": "code",
   "execution_count": 28,
   "metadata": {},
   "outputs": [],
   "source": [
    "eval_df_4 = pd.read_csv(\n",
    "    f\"/net/scratch/jmoehring/eval_100k_samples_biome_stratified_onefold_val_fold_0_epoch_20.csv\"\n",
    ")"
   ]
  },
  {
   "cell_type": "code",
   "execution_count": 9,
   "metadata": {},
   "outputs": [],
   "source": [
    "# union of the two dataframes\n",
    "eval_df = pd.concat([eval_df_1, eval_df_2, eval_df_3])"
   ]
  },
  {
   "cell_type": "code",
   "execution_count": null,
   "metadata": {},
   "outputs": [],
   "source": [
    "# add new column biome names\n",
    "biome_names = {\n",
    "    4: \"Temperate Broadleaf and Mixed Forests\",\n",
    "    5: \"Temperate Coniferous Forests\",\n",
    "    6: \"Boreal Forests/Taiga\",\n",
    "    12: \"Mediteranean Forests\",\n",
    "    13: \"Deserts and Xeric Shrublands\",\n",
    "}\n",
    "eval_df[\"biome_name\"] = eval_df[\"biome\"].map(biome_names)"
   ]
  },
  {
   "cell_type": "code",
   "execution_count": 18,
   "metadata": {},
   "outputs": [],
   "source": [
    "eval_df_t = eval_df[eval_df[\"treshold\"] == 0.8]"
   ]
  },
  {
   "cell_type": "code",
   "execution_count": null,
   "metadata": {},
   "outputs": [],
   "source": [
    "sns.set_theme()\n",
    "pivoted = eval_df_t.pivot_table(\n",
    "    index=\"biome_name\", columns=\"resolution_bin\", values=\"precision\"\n",
    ")\n",
    "pivoted_labels = eval_df_t.pivot_table(\n",
    "    index=\"biome_name\",\n",
    "    columns=\"resolution_bin\",\n",
    "    values=\"precision\",\n",
    "    aggfunc=\"mean\",\n",
    ")\n",
    "ax = sns.heatmap(\n",
    "    pivoted,\n",
    "    cmap=\"rocket\",\n",
    "    annot=pivoted_labels,\n",
    "    fmt=\".1f\",\n",
    "    cbar_kws={\"label\": \"F1-Score\"},\n",
    ")\n",
    "# add \"k\" after the numbers\n",
    "# for t in ax.texts:\n",
    "#     t.set_text(t.get_text() + \"k\")\n",
    "\n",
    "ax.set_ylabel(\"\")\n",
    "ax.set_xlabel(\"Resolution [m]\")\n",
    "fig = ax.get_figure()\n",
    "fig.set_size_inches(10, 5)\n",
    "plt.show()"
   ]
  },
  {
   "cell_type": "code",
   "execution_count": 14,
   "metadata": {},
   "outputs": [],
   "source": [
    "eval_df_b = eval_df[eval_df[\"biome\"] == 12]"
   ]
  },
  {
   "cell_type": "code",
   "execution_count": null,
   "metadata": {},
   "outputs": [],
   "source": [
    "sns.set_theme()\n",
    "pivoted = eval_df.pivot_table(\n",
    "    index=\"treshold\", columns=\"resolution_bin\", values=\"f1\", aggfunc=\"mean\"\n",
    ")\n",
    "ax = sns.heatmap(\n",
    "    pivoted,\n",
    "    cmap=\"rocket\",\n",
    "    annot=True,\n",
    "    fmt=\".3f\",\n",
    "    cbar_kws={\"label\": \"F1-Score\"},\n",
    ")\n",
    "\n",
    "ax.set_ylabel(\"\")\n",
    "ax.set_xlabel(\"Resolution [m]\")\n",
    "fig = ax.get_figure()\n",
    "fig.set_size_inches(10, 5)\n",
    "plt.show()"
   ]
  },
  {
   "cell_type": "code",
   "execution_count": 57,
   "metadata": {},
   "outputs": [],
   "source": [
    "fig.savefig(\"f1_score_heatmap.png\", dpi=800, bbox_inches=\"tight\")"
   ]
  },
  {
   "cell_type": "code",
   "execution_count": null,
   "metadata": {},
   "outputs": [],
   "source": [
    "eval_df[\"biome\"].value_counts()"
   ]
  },
  {
   "cell_type": "code",
   "execution_count": 26,
   "metadata": {},
   "outputs": [],
   "source": [
    "images_df = register_df.groupby(\"base_file_name\").min(\"resolution_bin\").reset_index()"
   ]
  }
 ],
 "metadata": {
  "kernelspec": {
   "display_name": "standing-deadwood-env",
   "language": "python",
   "name": "python3"
  },
  "language_info": {
   "codemirror_mode": {
    "name": "ipython",
    "version": 3
   },
   "file_extension": ".py",
   "mimetype": "text/x-python",
   "name": "python",
   "nbconvert_exporter": "python",
   "pygments_lexer": "ipython3",
   "version": "3.8.19"
  }
 },
 "nbformat": 4,
 "nbformat_minor": 2
}
