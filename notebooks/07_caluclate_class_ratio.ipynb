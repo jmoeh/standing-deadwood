{
 "cells": [
  {
   "cell_type": "code",
   "execution_count": 1,
   "metadata": {},
   "outputs": [
    {
     "name": "stdout",
     "output_type": "stream",
     "text": [
      "env: CUDA_VISIBLE_DEVICES=0\n"
     ]
    }
   ],
   "source": [
    "%env CUDA_VISIBLE_DEVICES=0"
   ]
  },
  {
   "cell_type": "code",
   "execution_count": 2,
   "metadata": {},
   "outputs": [],
   "source": [
    "import sys\n",
    "import os\n",
    "import torch\n",
    "import pandas as pd\n",
    "import numpy as np\n",
    "from torch.utils.data import DataLoader\n",
    "from tqdm import tqdm\n",
    "\n",
    "# Add the parent directory to sys.path\n",
    "sys.path.append(os.path.dirname(os.path.realpath(os.path.abspath(\"\"))))\n",
    "\n",
    "from unet.dataset import DeadwoodDataset\n",
    "from unet.dice_score import dice_loss\n",
    "from unet.evaluate import evaluate\n",
    "from unet.unet_model import UNet"
   ]
  },
  {
   "cell_type": "code",
   "execution_count": 3,
   "metadata": {},
   "outputs": [],
   "source": [
    "register_file = \"/net/scratch/jmoehring/tiles_register_biome_bin.csv\"\n",
    "register_df = pd.read_csv(register_file)"
   ]
  },
  {
   "cell_type": "code",
   "execution_count": 4,
   "metadata": {},
   "outputs": [],
   "source": [
    "dataset = DeadwoodDataset(\n",
    "    register_df=register_df,\n",
    "    no_folds=2,\n",
    "    random_seed=1,\n",
    "    test_size=0,\n",
    ")"
   ]
  },
  {
   "cell_type": "code",
   "execution_count": 5,
   "metadata": {},
   "outputs": [],
   "source": [
    "loader_args = {\n",
    "    \"batch_size\": 128,\n",
    "    \"num_workers\": 64,\n",
    "    \"pin_memory\": True,\n",
    "    \"shuffle\": False,\n",
    "}\n",
    "train_set, _ = dataset.get_train_val_fold(0)\n",
    "train_loader = DataLoader(train_set, **loader_args)"
   ]
  },
  {
   "cell_type": "code",
   "execution_count": 9,
   "metadata": {},
   "outputs": [
    {
     "name": "stderr",
     "output_type": "stream",
     "text": [
      " 23%|██▎       | 999/4347 [02:35<08:40,  6.43it/s] \n"
     ]
    }
   ],
   "source": [
    "# Initialize counters\n",
    "total_deadwood_pixels = 0\n",
    "total_pixels = 0\n",
    "\n",
    "# Iterate over batches\n",
    "count = 0\n",
    "for _, masks, _ in tqdm(train_loader, total=len(train_loader)):\n",
    "    total_deadwood_pixels += masks.sum().item()  # Accumulate deadwood pixels\n",
    "    total_pixels += masks.numel()  # Accumulate total pixels\n",
    "    count += 1\n",
    "    if count == 1000:\n",
    "        break\n",
    "\n",
    "# Calculate the overall ratio\n",
    "overall_deadwood_ratio = total_deadwood_pixels / total_pixels"
   ]
  },
  {
   "cell_type": "code",
   "execution_count": 11,
   "metadata": {},
   "outputs": [
    {
     "data": {
      "text/plain": [
       "42.81936271859704"
      ]
     },
     "execution_count": 11,
     "metadata": {},
     "output_type": "execute_result"
    }
   ],
   "source": [
    "total_pixels / total_deadwood_pixels"
   ]
  }
 ],
 "metadata": {
  "kernelspec": {
   "display_name": "standing-deadwood-env",
   "language": "python",
   "name": "python3"
  },
  "language_info": {
   "codemirror_mode": {
    "name": "ipython",
    "version": 3
   },
   "file_extension": ".py",
   "mimetype": "text/x-python",
   "name": "python",
   "nbconvert_exporter": "python",
   "pygments_lexer": "ipython3",
   "version": "3.8.19"
  }
 },
 "nbformat": 4,
 "nbformat_minor": 2
}
