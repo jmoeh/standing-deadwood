{
 "cells": [
  {
   "cell_type": "code",
   "execution_count": 1,
   "metadata": {},
   "outputs": [],
   "source": [
    "import pandas as pd\n",
    "import geopandas as gpd\n",
    "from shapely.geometry import Point\n",
    "from pyproj import Transformer"
   ]
  },
  {
   "cell_type": "code",
   "execution_count": 2,
   "metadata": {},
   "outputs": [],
   "source": [
    "register_df = pd.read_csv(\"/net/scratch/jmoehring/tiles_register.csv\")\n",
    "metadata_df = pd.read_csv(\"/net/scratch/jmoehring/metadata_manual_with_resolution.csv\")"
   ]
  },
  {
   "cell_type": "code",
   "execution_count": 3,
   "metadata": {},
   "outputs": [],
   "source": [
    "# transform center_lat and center_lon to EPSG:4326 if crs is not EPSG:4326\n",
    "def transform_coordinates(row):\n",
    "    if row[\"crs\"] != \"EPSG:4326\":\n",
    "        transformer = Transformer.from_crs(row[\"crs\"], \"EPSG:4326\", always_xy=True)\n",
    "        return pd.Series(transformer.transform(row[\"center_lon\"], row[\"center_lat\"]))\n",
    "    else:\n",
    "        return pd.Series([row[\"center_lon\"], row[\"center_lat\"]])"
   ]
  },
  {
   "cell_type": "code",
   "execution_count": 4,
   "metadata": {},
   "outputs": [],
   "source": [
    "# add column with EPSG:4326 lat and long of the center of the image. If the image is not in EPSG:4326, the center of the image is calculated in the original projection\n",
    "metadata_df[\"center_lat\"] = (metadata_df[\"north\"] + metadata_df[\"south\"]) / 2\n",
    "metadata_df[\"center_lon\"] = (metadata_df[\"east\"] + metadata_df[\"west\"]) / 2\n",
    "\n",
    "# apply transforma_coordinates to the metadata_df\n",
    "metadata_df[[\"center_lon\", \"center_lat\"]] = metadata_df.apply(transform_coordinates, axis=1)"
   ]
  },
  {
   "cell_type": "code",
   "execution_count": 5,
   "metadata": {},
   "outputs": [],
   "source": [
    "# load shapefile as geopandas dataframe\n",
    "ecoregion_gdf = gpd.read_file(\"/net/scratch/jmoehring/wwf_terr_ecos.shp\")"
   ]
  },
  {
   "cell_type": "code",
   "execution_count": 6,
   "metadata": {},
   "outputs": [
    {
     "name": "stdout",
     "output_type": "stream",
     "text": [
      "<class 'geopandas.geodataframe.GeoDataFrame'>\n",
      "RangeIndex: 14458 entries, 0 to 14457\n",
      "Data columns (total 22 columns):\n",
      " #   Column      Non-Null Count  Dtype   \n",
      "---  ------      --------------  -----   \n",
      " 0   OBJECTID    14458 non-null  int64   \n",
      " 1   AREA        14458 non-null  float64 \n",
      " 2   PERIMETER   14458 non-null  float64 \n",
      " 3   ECO_NAME    14458 non-null  object  \n",
      " 4   REALM       14363 non-null  object  \n",
      " 5   BIOME       14458 non-null  float64 \n",
      " 6   ECO_NUM     14458 non-null  float64 \n",
      " 7   ECO_ID      14458 non-null  float64 \n",
      " 8   ECO_SYM     14458 non-null  float64 \n",
      " 9   GBL_STAT    14458 non-null  float64 \n",
      " 10  G200_REGIO  6924 non-null   object  \n",
      " 11  G200_NUM    14458 non-null  float64 \n",
      " 12  G200_BIOME  14458 non-null  float64 \n",
      " 13  G200_STAT   14458 non-null  float64 \n",
      " 14  Shape_Leng  14458 non-null  float64 \n",
      " 15  Shape_Area  14458 non-null  float64 \n",
      " 16  area_km2    14458 non-null  int64   \n",
      " 17  eco_code    14458 non-null  object  \n",
      " 18  PER_area    14458 non-null  float64 \n",
      " 19  PER_area_1  14458 non-null  float64 \n",
      " 20  PER_area_2  14458 non-null  float64 \n",
      " 21  geometry    14458 non-null  geometry\n",
      "dtypes: float64(15), geometry(1), int64(2), object(4)\n",
      "memory usage: 2.4+ MB\n"
     ]
    }
   ],
   "source": [
    "ecoregion_gdf.info()"
   ]
  },
  {
   "cell_type": "code",
   "execution_count": 7,
   "metadata": {},
   "outputs": [],
   "source": [
    "# find corresponding ecoregion for each image and add the biome value as new column\n",
    "def find_ecoregion(row):\n",
    "    point = Point(row[\"center_lon\"], row[\"center_lat\"])\n",
    "    ecoregions = ecoregion_gdf[ecoregion_gdf.geometry.contains(point)]\n",
    "    if len(ecoregions) == 1:\n",
    "        return ecoregions[\"BIOME\"].iloc[0]\n",
    "    else:\n",
    "        raise ValueError(f\"Point {point} is in {len(ecoregions)} ecoregions\")"
   ]
  },
  {
   "cell_type": "code",
   "execution_count": 8,
   "metadata": {},
   "outputs": [],
   "source": [
    "metadata_df[\"biome\"] = metadata_df.apply(find_ecoregion, axis=1)"
   ]
  },
  {
   "cell_type": "code",
   "execution_count": 9,
   "metadata": {},
   "outputs": [
    {
     "data": {
      "text/plain": [
       "<Axes: >"
      ]
     },
     "execution_count": 9,
     "metadata": {},
     "output_type": "execute_result"
    },
    {
     "data": {
      "image/png": "[encoded data removed]",
      "text/plain": [
       "<Figure size 640x480 with 1 Axes>"
      ]
     },
     "metadata": {},
     "output_type": "display_data"
    }
   ],
   "source": [
    "metadata_df[\"biome\"].hist()"
   ]
  },
  {
   "cell_type": "code",
   "execution_count": 10,
   "metadata": {},
   "outputs": [],
   "source": [
    "# export center lat long and biome to geopackage in EPSG:4326\n",
    "metadata_gdf = gpd.GeoDataFrame(metadata_df, geometry=gpd.points_from_xy(x=metadata_df[\"center_lon\"], y=metadata_df[\"center_lat\"]), crs=\"EPSG:4326\")\n",
    "\n",
    "# save to geopackage\n",
    "metadata_gdf.to_file(\"/net/scratch/jmoehring/metadata_biome.gpkg\", driver=\"GPKG\")"
   ]
  },
  {
   "cell_type": "code",
   "execution_count": 37,
   "metadata": {},
   "outputs": [],
   "source": [
    "# add biome column to register_df joined on the filename\n",
    "register_df = register_df.merge(right=metadata_df[[\"filename\", \"biome\"]], left_on=\"base_file_name\", right_on=\"filename\").drop(columns=\"filename\")"
   ]
  },
  {
   "cell_type": "code",
   "execution_count": null,
   "metadata": {},
   "outputs": [],
   "source": [
    "# save to csv\n",
    "register_df.to_csv(\"/net/scratch/jmoehring/tiles_register_biome.csv\", index=False)"
   ]
  }
 ],
 "metadata": {
  "kernelspec": {
   "display_name": "venv",
   "language": "python",
   "name": "python3"
  },
  "language_info": {
   "codemirror_mode": {
    "name": "ipython",
    "version": 3
   },
   "file_extension": ".py",
   "mimetype": "text/x-python",
   "name": "python",
   "nbconvert_exporter": "python",
   "pygments_lexer": "ipython3",
   "version": "3.8.10"
  }
 },
 "nbformat": 4,
 "nbformat_minor": 2
}
