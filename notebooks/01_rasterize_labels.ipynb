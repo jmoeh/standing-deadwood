{
 "cells": [
  {
   "cell_type": "code",
   "execution_count": 1,
   "metadata": {},
   "outputs": [],
   "source": [
    "import argparse\n",
    "import concurrent.futures\n",
    "import os\n",
    "\n",
    "import fiona\n",
    "import geopandas as gpd\n",
    "import numpy as np\n",
    "import pandas as pd\n",
    "import rasterio\n",
    "from rasterio.features import geometry_mask\n",
    "from rasterio.transform import from_bounds\n",
    "from shapely.geometry import mapping\n",
    "from tqdm import tqdm"
   ]
  },
  {
   "cell_type": "code",
   "execution_count": 2,
   "metadata": {},
   "outputs": [],
   "source": [
    "labels_dir = \"/net/data_ssd/tree_mortality_orthophotos/labels_and_aois/\"\n",
    "out_dir = \"/net/scratch/jmoehring/masks/\"\n",
    "metadata_path = \"/net/scratch/jmoehring/images_meta.csv\"\n",
    "jobs = 50"
   ]
  },
  {
   "cell_type": "code",
   "execution_count": 3,
   "metadata": {},
   "outputs": [],
   "source": [
    "def process_file(filename, df_meta):\n",
    "    if filename.endswith(\".gpkg\"):\n",
    "        if filename.replace(\"_polygons.gpkg\", \"\") in df_meta[\"filename_map\"].values:\n",
    "            filepath = os.path.join(labels_dir, filename)\n",
    "            # Get metadata for current gpkg file\n",
    "            filename_map = filename.replace(\"_polygons.gpkg\", \"\")\n",
    "            out_filepath = os.path.join(out_dir, filename_map + \"_mask.tif\")\n",
    "            if not os.path.exists(out_filepath):\n",
    "                file_meta = df_meta.loc[\n",
    "                    df_meta[\"filename_map\"] == filename_map\n",
    "                ].to_dict(\"records\")[0]\n",
    "                out_image = np.zeros(\n",
    "                    (file_meta[\"height\"], file_meta[\"width\"]), dtype=np.uint8\n",
    "                )\n",
    "                transform = from_bounds(\n",
    "                    north=file_meta[\"top\"],\n",
    "                    south=file_meta[\"bottom\"],\n",
    "                    west=file_meta[\"left\"],\n",
    "                    east=file_meta[\"right\"],\n",
    "                    width=file_meta[\"width\"],\n",
    "                    height=file_meta[\"height\"],\n",
    "                )\n",
    "                # Read in gpkg file and determine if standing deadwood is present\n",
    "                layers = fiona.listlayers(filepath)\n",
    "                if \"standing_deadwood\" in layers:\n",
    "                    gdf_label = gpd.read_file(filepath, layer=\"standing_deadwood\")\n",
    "                    gdf_label = gdf_label.to_crs(\"EPSG:4326\")\n",
    "                    # Rasterize polygons\n",
    "                    for _, row in gdf_label.iterrows():\n",
    "                        geom = mapping(row[\"geometry\"])\n",
    "                        mask = geometry_mask(\n",
    "                            [geom],\n",
    "                            transform=transform,\n",
    "                            invert=True,\n",
    "                            out_shape=out_image.shape,\n",
    "                        )\n",
    "                        out_image[mask] = 1\n",
    "\n",
    "                if \"brown_trees\" in layers:\n",
    "                    gdf_label = gpd.read_file(filepath, layer=\"brown_trees\")\n",
    "                    gdf_label = gdf_label.to_crs(\"EPSG:4326\")\n",
    "                    # Rasterize polygons\n",
    "                    for _, row in gdf_label.iterrows():\n",
    "                        geom = mapping(row[\"geometry\"])\n",
    "                        mask = geometry_mask(\n",
    "                            [geom],\n",
    "                            transform=transform,\n",
    "                            invert=True,\n",
    "                            out_shape=out_image.shape,\n",
    "                        )\n",
    "                        out_image[mask] = 1\n",
    "\n",
    "                if \"parts\" in layers:\n",
    "                    gdf_label = gpd.read_file(filepath, layer=\"parts\")\n",
    "                    gdf_label = gdf_label.to_crs(\"EPSG:4326\")\n",
    "                    # Rasterize polygons\n",
    "                    for _, row in gdf_label.iterrows():\n",
    "                        geom = mapping(row[\"geometry\"])\n",
    "                        mask = geometry_mask(\n",
    "                            [geom],\n",
    "                            transform=transform,\n",
    "                            invert=True,\n",
    "                            out_shape=out_image.shape,\n",
    "                        )\n",
    "                        out_image[mask] = 1\n",
    "\n",
    "                # Save image\n",
    "                with rasterio.open(\n",
    "                    out_filepath,\n",
    "                    \"w\",\n",
    "                    driver=\"GTiff\",\n",
    "                    compress=\"DEFLATE\",\n",
    "                    height=out_image.shape[0],\n",
    "                    width=out_image.shape[1],\n",
    "                    count=1,\n",
    "                    dtype=\"uint8\",\n",
    "                    crs=\"EPSG:4326\",\n",
    "                    transform=transform,\n",
    "                ) as dst:\n",
    "                    dst.write(out_image, 1)"
   ]
  },
  {
   "cell_type": "code",
   "execution_count": 4,
   "metadata": {},
   "outputs": [],
   "source": [
    "# add new filename map column to find metadata for each image\n",
    "df_meta = pd.read_csv(metadata_path)\n",
    "df_meta[\"filename_map\"] = df_meta[\"filename\"].str.replace(\".tif\", \"\")"
   ]
  },
  {
   "cell_type": "code",
   "execution_count": 5,
   "metadata": {},
   "outputs": [
    {
     "name": "stderr",
     "output_type": "stream",
     "text": [
      "100%|██████████| 910/910 [00:00<00:00, 1545.26it/s]\n"
     ]
    }
   ],
   "source": [
    "with tqdm(total=len(os.listdir(labels_dir))) as pbar:\n",
    "    with concurrent.futures.ProcessPoolExecutor(max_workers=jobs) as executor:\n",
    "        futures = [\n",
    "            executor.submit(process_file, filename, df_meta)\n",
    "            for filename in os.listdir(labels_dir)\n",
    "        ]\n",
    "        # Wait for all futures to complete\n",
    "        for _ in concurrent.futures.as_completed(futures):\n",
    "            pbar.update(1)"
   ]
  }
 ],
 "metadata": {
  "kernelspec": {
   "display_name": "venv",
   "language": "python",
   "name": "python3"
  },
  "language_info": {
   "codemirror_mode": {
    "name": "ipython",
    "version": 3
   },
   "file_extension": ".py",
   "mimetype": "text/x-python",
   "name": "python",
   "nbconvert_exporter": "python",
   "pygments_lexer": "ipython3",
   "version": "3.8.10"
  }
 },
 "nbformat": 4,
 "nbformat_minor": 2
}
