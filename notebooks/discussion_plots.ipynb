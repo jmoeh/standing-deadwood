{
 "cells": [
  {
   "cell_type": "code",
   "execution_count": 16,
   "id": "86c5cd07-c400-430c-bba8-85a65e011b12",
   "metadata": {},
   "outputs": [
    {
     "data": {
      "image/png": "[encoded data removed]",
      "text/plain": [
       "<Figure size 640x480 with 1 Axes>"
      ]
     },
     "metadata": {},
     "output_type": "display_data"
    }
   ],
   "source": [
    "import os\n",
    "import pandas as pd\n",
    "import numpy as np\n",
    "from PIL import Image\n",
    "import seaborn as sns\n",
    "import matplotlib.pyplot as plt\n",
    "import rasterio\n",
    "from rasterio.plot import show\n",
    "import geopandas as gpd\n",
    "import matplotlib.pyplot as plt\n",
    "from matplotlib_scalebar.scalebar import ScaleBar\n",
    "from matplotlib.offsetbox import OffsetImage, AnnotationBbox\n",
    "from pathlib import Path\n",
    "from matplotlib.ticker import ScalarFormatter\n",
    "from os.path import join\n",
    "from shapely.geometry import box\n",
    "import warnings\n",
    "from shapely.ops import unary_union\n",
    "from matplotlib.lines import Line2D\n",
    "\n",
    "fontsize = 8\n",
    "# plt.rcParams['font.family'] = 'serif'\n",
    "plt.rcParams['xtick.labelsize'] = fontsize\n",
    "plt.rcParams['ytick.labelsize'] = fontsize\n",
    "plt.rcParams['font.size'] = fontsize\n",
    "plt.rcParams['legend.fontsize'] = fontsize\n",
    "plt.tick_params(axis='both', labelsize=1)"
   ]
  },
  {
   "cell_type": "code",
   "execution_count": 2,
   "id": "5205b1d4-4a5f-402b-9b4d-2eeddd5ecd04",
   "metadata": {},
   "outputs": [],
   "source": [
    "manual_label_dir = \"/net/data_ssd/tree_mortality_orthophotos/labels_and_aois/\"\n",
    "orthophoto_dir = \"/net/data_ssd/tree_mortality_orthophotos/orthophotos/\"\n",
    "prediction_label_dir = \"/net/data_ssd/tree_mortality_orthophotos/deadwood_segmentation_predictions_104//\""
   ]
  },
  {
   "cell_type": "code",
   "execution_count": null,
   "id": "abb537bf-550d-40b2-9fc1-8656bb4d8d82",
   "metadata": {},
   "outputs": [
    {
     "name": "stdout",
     "output_type": "stream",
     "text": [
      "BoundingBox(left=12.29364754940055, bottom=51.3643753256927, right=12.31170405674576, top=51.3765363186545)\n"
     ]
    }
   ],
   "source": [
    "orthophoto_base_names = [\"auwald_flight_all_merge_ortho\", \"uavforsat_FIN003_ortho\", \"quebec_2021-07-21-sbl-cloutier-z1-rgb\", \"quebec_2021-06-17-sbl-cloutier-z2-rgb\",\n",
    "                        \"switzerlandeth_rgb11\"]\n",
    "bls = [(51.37021264, 12.30362458), (60.2232, 24.914030093), (45.9885, -74.0042), (45.99451412, -74.00396778), (47.163719, 9.0713911)]\n",
    "extents = [0.00068366, 0.00068366, 0.0004, 0.00025, 0.001]\n",
    "\n",
    "fig, axes = plt.subplots(ncols=len(bls), figsize=(6*len(bls),6))\n",
    "\n",
    "for basename, bl, extent, ax in zip(orthophoto_base_names, bls, extents, axes):\n",
    "    label_path = join(manual_label_dir, basename + \"_polygons.gpkg\")\n",
    "    orthophoto_path = join(orthophoto_dir, basename + \".tif\")\n",
    "    prediction_path = join(prediction_label_dir, basename + \"_prediction.gpkg\")\n",
    "    \n",
    "    dr = rasterio.open(orthophoto_path)\n",
    "\n",
    "    print(dr.bounds)\n",
    "\n",
    "    label = gpd.read_file(label_path, layer=\"standing_deadwood\")\n",
    "    try:\n",
    "        label = pd.concat([label, gpd.read_file(label_path, layer=\"brown_trees\")])\n",
    "    except:\n",
    "        pass\n",
    "    try:\n",
    "        label = pd.concat([label, gpd.read_file(label_path, layer=\"parts\")])\n",
    "    except:\n",
    "        pass\n",
    "        \n",
    "    label = label.to_crs(dr.crs).buffer(0)\n",
    "    prediction = gpd.read_file(prediction_path).to_crs(dr.crs).buffer(0)\n",
    "\n",
    "    bounds_box = box(bl[1], bl[0], bl[1] + extent, bl[0] + extent)\n",
    "\n",
    "    with warnings.catch_warnings():\n",
    "        warnings.simplefilter(\"ignore\")\n",
    "        # crop label and prediction to extend of image and unionize \n",
    "        label_union = label.union_all().intersection(bounds_box) \n",
    "        pred_union = prediction.union_all().intersection(bounds_box)\n",
    "        TP_area = label_union.union(pred_union).area\n",
    "        FP_area = pred_union.difference(label_union).area\n",
    "        FN_area = label_union.difference(pred_union).area\n",
    "        \n",
    "    print(f\"{TP_area=}, {FP_area=}, {FN_area=}\")\n",
    "    \n",
    "    precision = TP_area / (TP_area + FP_area)\n",
    "    recall = TP_area / (TP_area + FN_area)\n",
    "    f1 = 2 * (precision * recall) / (precision + recall)\n",
    "\n",
    "    print(f\"{basename=}, {precision=}, {recall=}, {f1=}\")\n",
    "\n",
    "    ax.set_ylim((bl[0], bl[0] + extent))\n",
    "    ax.set_xlim((bl[1], bl[1] + extent))\n",
    "    win = dr.window(bl[1], bl[0], bl[1] + extent, bl[0] + extent) \n",
    "    ax.imshow(np.moveaxis(dr.read(window=win), 0, -1), extent=[bl[1], bl[1] + extent, bl[0], bl[0] + extent], vmin=0, vmax=255)\n",
    "    \n",
    "    label.boundary.plot(ax=ax, color=\"#ff7f0e\", lw=2, alpha=1)\n",
    "    prediction.boundary.plot(ax=ax, color=\"#1f77b4\", lw=2, alpha=1)\n",
    "\n",
    "    legend_elements = [Line2D([0], [0], color=\"#ff7f0e\", label='Label'),\n",
    "                     Line2D([0], [0], color=\"#1f77b4\", label='Prediction')]\n",
    "    ax.legend(handles=legend_elements)\n",
    "\n",
    "    ax.set_aspect(\"equal\")"
   ]
  },
  {
   "cell_type": "code",
   "execution_count": null,
   "id": "c4b6c3bc-5b61-43db-a900-2fddf1344594",
   "metadata": {},
   "outputs": [],
   "source": []
  }
 ],
 "metadata": {
  "kernelspec": {
   "display_name": "Python 3 (ipykernel)",
   "language": "python",
   "name": "python3"
  },
  "language_info": {
   "codemirror_mode": {
    "name": "ipython",
    "version": 3
   },
   "file_extension": ".py",
   "mimetype": "text/x-python",
   "name": "python",
   "nbconvert_exporter": "python",
   "pygments_lexer": "ipython3",
   "version": "3.12.3"
  }
 },
 "nbformat": 4,
 "nbformat_minor": 5
}
