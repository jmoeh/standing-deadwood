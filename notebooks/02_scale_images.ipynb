{
 "cells": [
  {
   "cell_type": "code",
   "execution_count": 2,
   "metadata": {},
   "outputs": [],
   "source": [
    "# TODO change scaling mechanism to work with EPSG:4326 with approximated meters\n",
    "\n",
    "import concurrent.futures\n",
    "import os\n",
    "\n",
    "import numpy as np\n",
    "import rasterio\n",
    "import tqdm"
   ]
  },
  {
   "cell_type": "code",
   "execution_count": null,
   "metadata": {},
   "outputs": [],
   "source": [
    "images_dir = \"/net/data_ssd/tree_mortality_orthophotos/orthophotos\"\n",
    "gw_path = \"/net/home/jmoehring/gdal-3.7.3/build/bin/gdal_warp\"\n",
    "jobs = 50"
   ]
  },
  {
   "cell_type": "code",
   "execution_count": 3,
   "metadata": {},
   "outputs": [],
   "source": [
    "# add helper method to shorten cell size list\n",
    "def shorten_list(arr, target):\n",
    "    # Find the index of the first number greater than the target\n",
    "    index = next((i for i, x in enumerate(arr) if x > target), None)\n",
    "\n",
    "    if index is not None:\n",
    "        # Shorten the list from the index onward\n",
    "        shortened_list = arr[index:]\n",
    "        return shortened_list\n",
    "    else:\n",
    "        # If no bigger number is found, return an empty array\n",
    "        return []\n",
    "\n",
    "\n",
    "def process_image(image_path, image_cell_width, gw_path):\n",
    "    image_cell_width = round(image_cell_width, 2)\n",
    "    scaled_image_path = image_path.replace(\n",
    "        \"_8857\", \"_8857_{0:.2f}\".format(image_cell_width)\n",
    "    )\n",
    "    os.system(\n",
    "        f\"{gw_path} -q -tr {image_cell_width} {image_cell_width} {image_path} {scaled_image_path}\"\n",
    "    )"
   ]
  },
  {
   "cell_type": "code",
   "execution_count": null,
   "metadata": {},
   "outputs": [],
   "source": [
    "def process_file(filename, args, cell_widths):\n",
    "    filepath = os.path.join(args.images_dir, filename)\n",
    "    if filename.endswith(\"8857.tif\") or filename.endswith(\"8857_mask.tif\"):\n",
    "        with rasterio.open(filepath) as image:\n",
    "            # find desired cell widths for the given image\n",
    "            image_cell_widths = shorten_list(cell_widths, image.transform[0])\n",
    "\n",
    "            with concurrent.futures.ProcessPoolExecutor(\n",
    "                max_workers=args.jobs\n",
    "            ) as executor:\n",
    "                # Use ThreadPoolExecutor for parallel processing\n",
    "                futures = [\n",
    "                    executor.submit(process_image, filepath, cw, args.gw_path)\n",
    "                    for cw in image_cell_widths\n",
    "                ]\n",
    "                # Wait for all futures to complete\n",
    "                concurrent.futures.wait(futures)"
   ]
  },
  {
   "cell_type": "code",
   "execution_count": null,
   "metadata": {},
   "outputs": [],
   "source": []
  }
 ],
 "metadata": {
  "kernelspec": {
   "display_name": "venv",
   "language": "python",
   "name": "python3"
  },
  "language_info": {
   "codemirror_mode": {
    "name": "ipython",
    "version": 3
   },
   "file_extension": ".py",
   "mimetype": "text/x-python",
   "name": "python",
   "nbconvert_exporter": "python",
   "pygments_lexer": "ipython3",
   "version": "3.8.10"
  }
 },
 "nbformat": 4,
 "nbformat_minor": 2
}
