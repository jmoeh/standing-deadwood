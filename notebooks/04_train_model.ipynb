{
 "cells": [
  {
   "cell_type": "code",
   "execution_count": 20,
   "metadata": {},
   "outputs": [],
   "source": [
    "import logging\n",
    "import os\n",
    "import sys\n",
    "from pathlib import Path\n",
    "from random_word import RandomWords\n",
    "\n",
    "\n",
    "import torch\n",
    "import torch.nn as nn\n",
    "import torch.nn.functional as F\n",
    "import wandb\n",
    "from torch.utils.data import DataLoader, Subset\n",
    "from tqdm import tqdm\n",
    "import pandas as pd\n",
    "\n",
    "# Add the parent directory to sys.path\n",
    "sys.path.append(os.path.dirname(os.path.realpath(os.path.abspath(\"\"))))\n",
    "\n",
    "from unet.dataset import DeadwoodDataset\n",
    "from unet.dice_score import dice_loss\n",
    "from unet.evaluate import evaluate\n",
    "from unet.unet_model import UNet"
   ]
  },
  {
   "cell_type": "code",
   "execution_count": 19,
   "metadata": {},
   "outputs": [
    {
     "data": {
      "text/plain": [
       "<module 'unet.dataset' from '/net/home/jmoehring/standing-deadwood/unet/dataset.py'>"
      ]
     },
     "execution_count": 19,
     "metadata": {},
     "output_type": "execute_result"
    }
   ],
   "source": [
    "import importlib\n",
    "\n",
    "importlib.reload(sys.modules[\"unet.dataset\"])"
   ]
  },
  {
   "cell_type": "code",
   "execution_count": 2,
   "metadata": {},
   "outputs": [],
   "source": [
    "# data paths\n",
    "register_file = \"/net/scratch/jmoehring/tiles_register_biome_bin.csv\"\n",
    "checkpoint_dir = \"/net/scratch/jmoehring/checkpoints\"\n",
    "\n",
    "# data params\n",
    "test_size: float = 0.3\n",
    "no_folds: int = 5\n",
    "random_seed: int = 42\n",
    "batch_size: int = 24\n",
    "save_checkpoint: bool = True\n",
    "samples_per_res: int = 0  # means all samples\n",
    "\n",
    "# model params\n",
    "epochs: int = 10\n",
    "learning_rate: float = 1e-5\n",
    "amp: bool = False\n",
    "weight_decay: float = 1e-8\n",
    "momentum: float = 0.999\n",
    "gradient_clipping: float = 1.0"
   ]
  },
  {
   "cell_type": "code",
   "execution_count": 3,
   "metadata": {},
   "outputs": [],
   "source": [
    "register_df = pd.read_csv(register_file)"
   ]
  },
  {
   "cell_type": "code",
   "execution_count": 4,
   "metadata": {},
   "outputs": [
    {
     "data": {
      "text/html": [
       "<div>\n",
       "<style scoped>\n",
       "    .dataframe tbody tr th:only-of-type {\n",
       "        vertical-align: middle;\n",
       "    }\n",
       "\n",
       "    .dataframe tbody tr th {\n",
       "        vertical-align: top;\n",
       "    }\n",
       "\n",
       "    .dataframe thead th {\n",
       "        text-align: right;\n",
       "    }\n",
       "</style>\n",
       "<table border=\"1\" class=\"dataframe\">\n",
       "  <thead>\n",
       "    <tr style=\"text-align: right;\">\n",
       "      <th></th>\n",
       "      <th>base_file_name</th>\n",
       "      <th>file_path</th>\n",
       "      <th>resolution</th>\n",
       "      <th>x</th>\n",
       "      <th>y</th>\n",
       "      <th>label_quality</th>\n",
       "      <th>biome</th>\n",
       "      <th>resolution_bin</th>\n",
       "    </tr>\n",
       "  </thead>\n",
       "  <tbody>\n",
       "    <tr>\n",
       "      <th>0</th>\n",
       "      <td>uavforsat_2017_CFB141_ortho.tif</td>\n",
       "      <td>/net/scratch/jmoehring/tiles/uavforsat_2017_CF...</td>\n",
       "      <td>0.14</td>\n",
       "      <td>577</td>\n",
       "      <td>342</td>\n",
       "      <td>3.0</td>\n",
       "      <td>4.0</td>\n",
       "      <td>0.14</td>\n",
       "    </tr>\n",
       "    <tr>\n",
       "      <th>1</th>\n",
       "      <td>uavforsat_2017_CFB141_ortho.tif</td>\n",
       "      <td>/net/scratch/jmoehring/tiles/uavforsat_2017_CF...</td>\n",
       "      <td>0.14</td>\n",
       "      <td>374</td>\n",
       "      <td>545</td>\n",
       "      <td>3.0</td>\n",
       "      <td>4.0</td>\n",
       "      <td>0.14</td>\n",
       "    </tr>\n",
       "    <tr>\n",
       "      <th>2</th>\n",
       "      <td>uavforsat_2017_CFB141_ortho.tif</td>\n",
       "      <td>/net/scratch/jmoehring/tiles/uavforsat_2017_CF...</td>\n",
       "      <td>0.14</td>\n",
       "      <td>374</td>\n",
       "      <td>342</td>\n",
       "      <td>3.0</td>\n",
       "      <td>4.0</td>\n",
       "      <td>0.14</td>\n",
       "    </tr>\n",
       "    <tr>\n",
       "      <th>3</th>\n",
       "      <td>uavforsat_2017_CFB141_ortho.tif</td>\n",
       "      <td>/net/scratch/jmoehring/tiles/uavforsat_2017_CF...</td>\n",
       "      <td>0.14</td>\n",
       "      <td>577</td>\n",
       "      <td>545</td>\n",
       "      <td>3.0</td>\n",
       "      <td>4.0</td>\n",
       "      <td>0.14</td>\n",
       "    </tr>\n",
       "    <tr>\n",
       "      <th>4</th>\n",
       "      <td>uavforsat_2017_CFB141_ortho.tif</td>\n",
       "      <td>/net/scratch/jmoehring/tiles/uavforsat_2017_CF...</td>\n",
       "      <td>0.20</td>\n",
       "      <td>250</td>\n",
       "      <td>228</td>\n",
       "      <td>3.0</td>\n",
       "      <td>4.0</td>\n",
       "      <td>0.20</td>\n",
       "    </tr>\n",
       "  </tbody>\n",
       "</table>\n",
       "</div>"
      ],
      "text/plain": [
       "                    base_file_name  \\\n",
       "0  uavforsat_2017_CFB141_ortho.tif   \n",
       "1  uavforsat_2017_CFB141_ortho.tif   \n",
       "2  uavforsat_2017_CFB141_ortho.tif   \n",
       "3  uavforsat_2017_CFB141_ortho.tif   \n",
       "4  uavforsat_2017_CFB141_ortho.tif   \n",
       "\n",
       "                                           file_path  resolution    x    y  \\\n",
       "0  /net/scratch/jmoehring/tiles/uavforsat_2017_CF...        0.14  577  342   \n",
       "1  /net/scratch/jmoehring/tiles/uavforsat_2017_CF...        0.14  374  545   \n",
       "2  /net/scratch/jmoehring/tiles/uavforsat_2017_CF...        0.14  374  342   \n",
       "3  /net/scratch/jmoehring/tiles/uavforsat_2017_CF...        0.14  577  545   \n",
       "4  /net/scratch/jmoehring/tiles/uavforsat_2017_CF...        0.20  250  228   \n",
       "\n",
       "   label_quality  biome  resolution_bin  \n",
       "0            3.0    4.0            0.14  \n",
       "1            3.0    4.0            0.14  \n",
       "2            3.0    4.0            0.14  \n",
       "3            3.0    4.0            0.14  \n",
       "4            3.0    4.0            0.20  "
      ]
     },
     "execution_count": 4,
     "metadata": {},
     "output_type": "execute_result"
    }
   ],
   "source": [
    "register_df.head()"
   ]
  },
  {
   "cell_type": "code",
   "execution_count": 21,
   "metadata": {},
   "outputs": [],
   "source": [
    "dataset = DeadwoodDataset(\n",
    "    register_df=register_df,\n",
    "    test_size=test_size,\n",
    "    random_seed=random_seed,\n",
    ")"
   ]
  },
  {
   "cell_type": "code",
   "execution_count": 29,
   "metadata": {},
   "outputs": [
    {
     "data": {
      "text/plain": [
       "<Axes: >"
      ]
     },
     "execution_count": 29,
     "metadata": {},
     "output_type": "execute_result"
    },
    {
     "data": {
      "image/png": "[encoded data removed]",
      "text/plain": [
       "<Figure size 640x480 with 1 Axes>"
      ]
     },
     "metadata": {},
     "output_type": "display_data"
    }
   ],
   "source": [
    "dataset.train_register_df[\"resolution_bin\"].hist()"
   ]
  },
  {
   "cell_type": "code",
   "execution_count": 30,
   "metadata": {},
   "outputs": [
    {
     "data": {
      "text/plain": [
       "<Axes: >"
      ]
     },
     "execution_count": 30,
     "metadata": {},
     "output_type": "execute_result"
    },
    {
     "data": {
      "image/png": "[encoded data removed]",
      "text/plain": [
       "<Figure size 640x480 with 1 Axes>"
      ]
     },
     "metadata": {},
     "output_type": "display_data"
    }
   ],
   "source": [
    "dataset.test_register_df[\"resolution_bin\"].hist()"
   ]
  },
  {
   "cell_type": "code",
   "execution_count": 4,
   "metadata": {},
   "outputs": [],
   "source": [
    "def initialize_experiment(run_name: str):\n",
    "    # initialize a new experiment run\n",
    "    experiment = wandb.init(\n",
    "        project=\"standing-deadwood-unet\",\n",
    "        resume=\"allow\",\n",
    "        name=run_name,\n",
    "    )\n",
    "    experiment.config.update(\n",
    "        dict(\n",
    "            data=dict(\n",
    "                test_size=test_size,\n",
    "                random_seed=random_seed,\n",
    "                batch_size=batch_size,\n",
    "                save_checkpoint=save_checkpoint,\n",
    "            ),\n",
    "            model=dict(\n",
    "                epochs=epochs,\n",
    "                learning_rate=learning_rate,\n",
    "                amp=amp,\n",
    "                weight_decay=weight_decay,\n",
    "                momentum=momentum,\n",
    "                gradient_clipping=gradient_clipping,\n",
    "            ),\n",
    "        )\n",
    "    )\n",
    "    return experiment"
   ]
  },
  {
   "cell_type": "code",
   "execution_count": 5,
   "metadata": {},
   "outputs": [],
   "source": [
    "loader_args = {\n",
    "    \"batch_size\": batch_size,\n",
    "    \"num_workers\": 12,\n",
    "    \"pin_memory\": True,\n",
    "    \"shuffle\": True,\n",
    "}"
   ]
  },
  {
   "cell_type": "code",
   "execution_count": null,
   "metadata": {},
   "outputs": [],
   "source": [
    "r = RandomWords()\n",
    "run_identifier = f\"{r.get_random_word()}-{r.get_random_word()}-{r.get_random_word()}\"\n",
    "\n",
    "run_name = f\"deadwood_{run_identifier}\"\n",
    "experiment = initialize_experiment(0, run_name)\n",
    "\n",
    "# preferably use GPU\n",
    "device = torch.device(\"cuda\" if torch.cuda.is_available() else \"cpu\")\n",
    "\n",
    "# model with three input channels (RGB)\n",
    "model = UNet(n_channels=3, n_classes=1, bilinear=True)\n",
    "model = model.to(memory_format=torch.channels_last)\n",
    "model.to(device=device)\n",
    "\n",
    "if torch.cuda.device_count() > 1:\n",
    "    model = nn.DataParallel(model)\n",
    "\n",
    "# loss function (binary cross entropy)\n",
    "criterion = nn.BCEWithLogitsLoss()\n",
    "\n",
    "# optimizer\n",
    "optimizer = torch.optim.RMSprop(\n",
    "    model.parameters(),\n",
    "    lr=learning_rate,\n",
    "    weight_decay=weight_decay,\n",
    "    momentum=momentum,\n",
    ")\n",
    "scheduler = torch.optim.lr_scheduler.ReduceLROnPlateau(optimizer, \"max\", patience=5)\n",
    "grad_scaler = torch.cuda.amp.grad_scaler.GradScaler(enabled=amp)\n",
    "\n",
    "wandb.watch(model, log=\"all\")"
   ]
  },
  {
   "cell_type": "code",
   "execution_count": null,
   "metadata": {},
   "outputs": [],
   "source": [
    "train_set, val_set = dataset.get_train_test()"
   ]
  },
  {
   "cell_type": "code",
   "execution_count": 6,
   "metadata": {},
   "outputs": [
    {
     "name": "stderr",
     "output_type": "stream",
     "text": [
      "Failed to detect the name of this notebook, you can set it manually with the WANDB_NOTEBOOK_NAME environment variable to enable code saving.\n",
      "\u001b[34m\u001b[1mwandb\u001b[0m: Currently logged in as: \u001b[33mjmoehring\u001b[0m. Use \u001b[1m`wandb login --relogin`\u001b[0m to force relogin\n"
     ]
    },
    {
     "data": {
      "text/html": [
       "wandb version 0.16.4 is available!  To upgrade, please run:\n",
       " $ pip install wandb --upgrade"
      ],
      "text/plain": [
       "<IPython.core.display.HTML object>"
      ]
     },
     "metadata": {},
     "output_type": "display_data"
    },
    {
     "data": {
      "text/html": [
       "Tracking run with wandb version 0.13.5"
      ],
      "text/plain": [
       "<IPython.core.display.HTML object>"
      ]
     },
     "metadata": {},
     "output_type": "display_data"
    },
    {
     "data": {
      "text/html": [
       "Run data is saved locally in <code>/net/home/jmoehring/standing-deadwood/notebooks/wandb/run-20240314_144323-3ii9sv9e</code>"
      ],
      "text/plain": [
       "<IPython.core.display.HTML object>"
      ]
     },
     "metadata": {},
     "output_type": "display_data"
    },
    {
     "data": {
      "text/html": [
       "Syncing run <strong><a href=\"https://wandb.ai/jmoehring/standing-deadwood-unet/runs/3ii9sv9e\" target=\"_blank\">deadwood_talky-sked-swinestone_fold_0</a></strong> to <a href=\"https://wandb.ai/jmoehring/standing-deadwood-unet\" target=\"_blank\">Weights & Biases</a> (<a href=\"https://wandb.me/run\" target=\"_blank\">docs</a>)<br/>"
      ],
      "text/plain": [
       "<IPython.core.display.HTML object>"
      ]
     },
     "metadata": {},
     "output_type": "display_data"
    },
    {
     "name": "stderr",
     "output_type": "stream",
     "text": [
      "Epoch 1/10:   0%|          | 0/2750 [00:01<?, ?img/s]\n"
     ]
    },
    {
     "ename": "ValueError",
     "evalue": "too many values to unpack (expected 2)",
     "output_type": "error",
     "traceback": [
      "\u001b[0;31m---------------------------------------------------------------------------\u001b[0m",
      "\u001b[0;31mValueError\u001b[0m                                Traceback (most recent call last)",
      "Cell \u001b[0;32mIn[6], line 42\u001b[0m\n\u001b[1;32m     39\u001b[0m epoch_loss \u001b[38;5;241m=\u001b[39m \u001b[38;5;241m0\u001b[39m\n\u001b[1;32m     41\u001b[0m \u001b[38;5;28;01mwith\u001b[39;00m tqdm(total\u001b[38;5;241m=\u001b[39m\u001b[38;5;28mlen\u001b[39m(train_loader), desc\u001b[38;5;241m=\u001b[39m\u001b[38;5;124mf\u001b[39m\u001b[38;5;124m\"\u001b[39m\u001b[38;5;124mEpoch \u001b[39m\u001b[38;5;132;01m{\u001b[39;00mepoch\u001b[38;5;132;01m}\u001b[39;00m\u001b[38;5;124m/\u001b[39m\u001b[38;5;132;01m{\u001b[39;00mepochs\u001b[38;5;132;01m}\u001b[39;00m\u001b[38;5;124m\"\u001b[39m, unit\u001b[38;5;241m=\u001b[39m\u001b[38;5;124m\"\u001b[39m\u001b[38;5;124mimg\u001b[39m\u001b[38;5;124m\"\u001b[39m) \u001b[38;5;28;01mas\u001b[39;00m pbar:\n\u001b[0;32m---> 42\u001b[0m     \u001b[38;5;28;01mfor\u001b[39;00m batch, (images, masks_true) \u001b[38;5;129;01min\u001b[39;00m \u001b[38;5;28menumerate\u001b[39m(train_loader):\n\u001b[1;32m     43\u001b[0m         images \u001b[38;5;241m=\u001b[39m images\u001b[38;5;241m.\u001b[39mto(\n\u001b[1;32m     44\u001b[0m             device\u001b[38;5;241m=\u001b[39mdevice, dtype\u001b[38;5;241m=\u001b[39mtorch\u001b[38;5;241m.\u001b[39mfloat32, memory_format\u001b[38;5;241m=\u001b[39mtorch\u001b[38;5;241m.\u001b[39mchannels_last\n\u001b[1;32m     45\u001b[0m         )\n\u001b[1;32m     46\u001b[0m         masks_true \u001b[38;5;241m=\u001b[39m masks_true\u001b[38;5;241m.\u001b[39mto(device\u001b[38;5;241m=\u001b[39mdevice, dtype\u001b[38;5;241m=\u001b[39mtorch\u001b[38;5;241m.\u001b[39mlong)\u001b[38;5;241m.\u001b[39msqueeze(\u001b[38;5;241m1\u001b[39m)\n",
      "\u001b[0;31mValueError\u001b[0m: too many values to unpack (expected 2)"
     ]
    }
   ],
   "source": [
    "step = 0\n",
    "for epoch in range(1, epochs + 1):\n",
    "    train_loader = DataLoader(train_set, **loader_args)\n",
    "    val_loader = DataLoader(val_set, **loader_args)\n",
    "\n",
    "    model.train()\n",
    "    epoch_loss = 0\n",
    "\n",
    "    with tqdm(\n",
    "        total=len(train_loader), desc=f\"Epoch {epoch}/{epochs}\", unit=\"img\"\n",
    "    ) as pbar:\n",
    "        for batch, (images, masks_true) in enumerate(train_loader):\n",
    "            images = images.to(\n",
    "                device=device,\n",
    "                dtype=torch.float32,\n",
    "                memory_format=torch.channels_last,\n",
    "            )\n",
    "            masks_true = masks_true.to(device=device, dtype=torch.long).squeeze(1)\n",
    "\n",
    "            with torch.amp.autocast(\n",
    "                device.type if device.type != \"mps\" else \"cpu\", enabled=amp\n",
    "            ):\n",
    "                masks_pred = model(images).squeeze(1)\n",
    "\n",
    "                loss = criterion(masks_pred.squeeze(1), masks_true.float())\n",
    "                loss += dice_loss(\n",
    "                    F.sigmoid(masks_pred.squeeze(1)),\n",
    "                    masks_true.float(),\n",
    "                )\n",
    "                optimizer.zero_grad(set_to_none=True)\n",
    "                grad_scaler.scale(loss).backward()\n",
    "                torch.nn.utils.clip_grad.clip_grad_norm_(\n",
    "                    model.parameters(), gradient_clipping\n",
    "                )\n",
    "                grad_scaler.step(optimizer)\n",
    "                grad_scaler.update()\n",
    "\n",
    "                pbar.update(images.shape[0])\n",
    "                epoch_loss += loss.item()\n",
    "                step += 1\n",
    "\n",
    "    val_dice_score, val_dice_loss = evaluate(model, criterion, val_loader, device, amp)\n",
    "    experiment.log(\n",
    "        {\n",
    "            \"train loss\": epoch_loss / len(train_loader),\n",
    "            \"val loss\": val_dice_loss,\n",
    "            \"val dice score\": val_dice_score,\n",
    "            \"epoch\": epoch,\n",
    "        }\n",
    "    )\n",
    "    if save_checkpoint:\n",
    "        Path(checkpoint_dir).mkdir(parents=True, exist_ok=True)\n",
    "        state_dict = model.state_dict()\n",
    "        torch.save(\n",
    "            state_dict,\n",
    "            os.path.join(checkpoint_dir, f\"{run_name}_epoch_{epoch}.pth\"),\n",
    "        )\n",
    "        logging.info(f\"Checkpoint {epoch} saved!\")"
   ]
  }
 ],
 "metadata": {
  "kernelspec": {
   "display_name": "Python 3 (ipykernel)",
   "language": "python",
   "name": "python3"
  },
  "language_info": {
   "codemirror_mode": {
    "name": "ipython",
    "version": 3
   },
   "file_extension": ".py",
   "mimetype": "text/x-python",
   "name": "python",
   "nbconvert_exporter": "python",
   "pygments_lexer": "ipython3",
   "version": "3.8.10"
  }
 },
 "nbformat": 4,
 "nbformat_minor": 4
}
