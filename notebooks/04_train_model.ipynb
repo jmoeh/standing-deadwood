{
 "cells": [
  {
   "cell_type": "code",
   "execution_count": 4,
   "metadata": {},
   "outputs": [],
   "source": [
    "import logging\n",
    "import wandb\n",
    "import torch\n",
    "import torch.nn as nn\n",
    "import torch.nn.functional as F\n",
    "from torch.utils.data import DataLoader, random_split, Subset\n",
    "from tqdm import tqdm\n",
    "import time\n",
    "from pathlib import Path\n",
    "\n",
    "from unet.dataset import DeadwoodDataset\n",
    "from unet.dice_score import dice_loss\n",
    "from unet.unet_model import UNet\n",
    "from unet.evaluate import evaluate"
   ]
  },
  {
   "cell_type": "code",
   "execution_count": 5,
   "metadata": {},
   "outputs": [],
   "source": [
    "# data paths\n",
    "images_dir = \"/net/scratch/jmoehring/tiles/images\"\n",
    "masks_dir = \"/net/scratch/jmoehring/tiles/masks\"\n",
    "checkpoint_dir = \"/net/scratch/jmoehring/checkpoints\"\n",
    "\n",
    "# data params\n",
    "no_folds: int = 228\n",
    "fold: int = 0\n",
    "val_percent: float = 0.1\n",
    "random_seed: int = 42\n",
    "batch_size: int = 16\n",
    "save_checkpoint: bool = True\n",
    "\n",
    "# model params\n",
    "epochs: int = 5\n",
    "learning_rate: float = 1e-5\n",
    "amp: bool = False\n",
    "weight_decay: float = 1e-8\n",
    "momentum: float = 0.999\n",
    "gradient_clipping: float = 1.0"
   ]
  },
  {
   "cell_type": "code",
   "execution_count": 7,
   "metadata": {},
   "outputs": [],
   "source": [
    "dataset = DeadwoodDataset(\n",
    "    images_dir,\n",
    "    masks_dir,\n",
    "    n_folds=no_folds,\n",
    "    random_seed=random_seed,\n",
    ")"
   ]
  },
  {
   "cell_type": "code",
   "execution_count": null,
   "metadata": {},
   "outputs": [],
   "source": [
    "# get first fold for training run and split into train _val and test set\n",
    "train_val_set, test_set = dataset.get_fold(fold)\n",
    "\n",
    "# split train_val_set into train and val set\n",
    "n_val = int(len(train_val_set) * val_percent)\n",
    "n_train = len(train_val_set) - n_val\n",
    "train_set, val_set = random_split(\n",
    "    train_val_set,\n",
    "    [n_train, n_val],\n",
    "    generator=torch.Generator().manual_seed(random_seed),\n",
    ")"
   ]
  },
  {
   "cell_type": "code",
   "execution_count": null,
   "metadata": {},
   "outputs": [],
   "source": [
    "loader_args = {\n",
    "    \"batch_size\": batch_size,\n",
    "    \"num_workers\": 12,\n",
    "    \"pin_memory\": True,\n",
    "    \"shuffle\": True,\n",
    "}"
   ]
  },
  {
   "cell_type": "code",
   "execution_count": null,
   "metadata": {},
   "outputs": [],
   "source": [
    "train_loader = DataLoader(train_set, **loader_args)\n",
    "val_loader = DataLoader(val_set, **loader_args)\n",
    "test_loader = DataLoader(test_set, **loader_args)"
   ]
  },
  {
   "cell_type": "code",
   "execution_count": null,
   "metadata": {},
   "outputs": [],
   "source": [
    "len(train_loader), len(val_loader)"
   ]
  },
  {
   "cell_type": "code",
   "execution_count": null,
   "metadata": {},
   "outputs": [],
   "source": [
    "# preferably use GPU\n",
    "device = torch.device(\"cuda\" if torch.cuda.is_available() else \"cpu\")\n",
    "\n",
    "# model with three input channels (RGB)\n",
    "model = UNet(n_channels=3, n_classes=1, bilinear=True)\n",
    "model = model.to(memory_format=torch.channels_last)\n",
    "model.to(device=device)\n",
    "\n",
    "# loss function (binary cross entropy)\n",
    "criterion = nn.BCEWithLogitsLoss()\n",
    "\n",
    "# optimizer\n",
    "optimizer = torch.optim.RMSprop(\n",
    "    model.parameters(), lr=learning_rate, weight_decay=weight_decay, momentum=momentum\n",
    ")\n",
    "scheduler = torch.optim.lr_scheduler.ReduceLROnPlateau(optimizer, \"max\", patience=5)\n",
    "grad_scaler = torch.cuda.amp.grad_scaler.GradScaler(enabled=amp)"
   ]
  },
  {
   "cell_type": "code",
   "execution_count": null,
   "metadata": {},
   "outputs": [],
   "source": [
    "# initialize a new experiment run\n",
    "experiment = wandb.init(\n",
    "    project=\"standing-deadwood-unet\",\n",
    "    resume=\"allow\",\n",
    "    name=f\"deadwood_fold_{fold}_{time.time()}\",\n",
    ")\n",
    "experiment.config.update(\n",
    "    dict(\n",
    "        data=dict(\n",
    "            images_dir=images_dir,\n",
    "            masks_dir=masks_dir,\n",
    "            no_folds=no_folds,\n",
    "            fold=fold,\n",
    "            val_percent=val_percent,\n",
    "            random_seed=random_seed,\n",
    "            batch_size=batch_size,\n",
    "            save_checkpoint=save_checkpoint,\n",
    "        ),\n",
    "        model=dict(\n",
    "            epochs=epochs,\n",
    "            learning_rate=learning_rate,\n",
    "            amp=amp,\n",
    "            weight_decay=weight_decay,\n",
    "            momentum=momentum,\n",
    "            gradient_clipping=gradient_clipping,\n",
    "        ),\n",
    "    )\n",
    ")"
   ]
  },
  {
   "cell_type": "code",
   "execution_count": null,
   "metadata": {},
   "outputs": [],
   "source": [
    "for epoch in range(1, epochs + 1):\n",
    "    model.train()\n",
    "    epoch_loss = 0\n",
    "\n",
    "    with tqdm(total=n_train, desc=f\"Epoch {epoch}/{epochs}\", unit=\"img\") as pbar:\n",
    "        for images, masks_true in train_loader:\n",
    "            images = images.to(\n",
    "                device=device, dtype=torch.float32, memory_format=torch.channels_last\n",
    "            )\n",
    "            masks_true = masks_true.to(device=device, dtype=torch.long).squeeze(1)\n",
    "\n",
    "            with torch.amp.autocast(\n",
    "                device.type if device.type != \"mps\" else \"cpu\", enabled=amp\n",
    "            ):\n",
    "                masks_pred = model(images).squeeze(1)\n",
    "\n",
    "                loss = criterion(masks_pred.squeeze(1), masks_true.float())\n",
    "                loss += dice_loss(\n",
    "                    F.sigmoid(masks_pred.squeeze(1)),\n",
    "                    masks_true.float(),\n",
    "                )\n",
    "                optimizer.zero_grad(set_to_none=True)\n",
    "                grad_scaler.scale(loss).backward()\n",
    "                torch.nn.utils.clip_grad.clip_grad_norm_(\n",
    "                    model.parameters(), gradient_clipping\n",
    "                )\n",
    "                grad_scaler.step(optimizer)\n",
    "                grad_scaler.update()\n",
    "\n",
    "                pbar.update(images.shape[0])\n",
    "                epoch_loss += loss.item()\n",
    "\n",
    "    val_dice_score, val_dice_loss = evaluate(model, criterion, val_loader, device, amp)\n",
    "    experiment.log(\n",
    "        {\n",
    "            \"train loss\": epoch_loss / len(train_loader),\n",
    "            \"val loss\": val_dice_loss,\n",
    "            \"val dice score\": val_dice_score,\n",
    "            \"epoch\": epoch,\n",
    "        }\n",
    "    )\n",
    "\n",
    "    if save_checkpoint:\n",
    "        Path(checkpoint_dir).mkdir(parents=True, exist_ok=True)\n",
    "        state_dict = model.state_dict()\n",
    "        state_dict[\"mask_values\"] = dataset.mask_values\n",
    "        torch.save(\n",
    "            state_dict, str(checkpoint_dir / \"checkpoint_epoch{}.pth\".format(epoch))\n",
    "        )\n",
    "        logging.info(f\"Checkpoint {epoch} saved!\")"
   ]
  }
 ],
 "metadata": {
  "kernelspec": {
   "display_name": "venv",
   "language": "python",
   "name": "python3"
  },
  "language_info": {
   "codemirror_mode": {
    "name": "ipython",
    "version": 3
   },
   "file_extension": ".py",
   "mimetype": "text/x-python",
   "name": "python",
   "nbconvert_exporter": "python",
   "pygments_lexer": "ipython3",
   "version": "3.8.10"
  }
 },
 "nbformat": 4,
 "nbformat_minor": 2
}
