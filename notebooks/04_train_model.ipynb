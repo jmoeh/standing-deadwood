{
 "cells": [
  {
   "cell_type": "code",
   "execution_count": null,
   "metadata": {},
   "outputs": [],
   "source": [
    "%env CUDA_VISIBLE_DEVICES=1,2"
   ]
  },
  {
   "cell_type": "code",
   "execution_count": null,
   "metadata": {
    "metadata": {}
   },
   "outputs": [],
   "source": [
    "import logging\n",
    "import os\n",
    "import sys\n",
    "from pathlib import Path\n",
    "from random_word import RandomWords\n",
    "\n",
    "\n",
    "import torch\n",
    "import torch.nn as nn\n",
    "import torch.nn.functional as F\n",
    "import wandb\n",
    "from torch.utils.data import DataLoader, Subset, WeightedRandomSampler, RandomSampler\n",
    "from tqdm import tqdm\n",
    "import pandas as pd\n",
    "import numpy as np\n",
    "\n",
    "# Add the parent directory to sys.path\n",
    "sys.path.append(os.path.dirname(os.path.realpath(os.path.abspath(\"\"))))\n",
    "\n",
    "from unet.dataset import DeadwoodDataset\n",
    "from unet.dice_score import dice_loss\n",
    "from unet.evaluate import evaluate\n",
    "from unet.unet_model import UNet"
   ]
  },
  {
   "cell_type": "code",
   "execution_count": null,
   "metadata": {
    "metadata": {}
   },
   "outputs": [],
   "source": [
    "# import importlib\n",
    "\n",
    "# importlib.reload(sys.modules[\"unet.dataset\"])\n",
    "# importlib.reload(sys.modules[\"unet.evaluate\"])\n",
    "# importlib.reload(sys.modules[\"unet.dice_score\"])"
   ]
  },
  {
   "cell_type": "code",
   "execution_count": null,
   "metadata": {
    "metadata": {}
   },
   "outputs": [],
   "source": [
    "experiment_name = \"10k_1024px_60epochs_3fold_bf1\""
   ]
  },
  {
   "cell_type": "code",
   "execution_count": null,
   "metadata": {
    "metadata": {}
   },
   "outputs": [],
   "source": [
    "debug: bool = False\n",
    "\n",
    "use_wanb: bool = not debug\n",
    "save_checkpoint: bool = not debug\n",
    "\n",
    "# data paths\n",
    "register_file = \"/net/scratch/jmoehring/tiles_register_1024_biome.csv\"\n",
    "checkpoint_dir = \"/net/scratch/jmoehring/checkpoints\"\n",
    "\n",
    "# data params\n",
    "no_folds: int = 3\n",
    "random_seed: int = 1\n",
    "batch_size: int = 16\n",
    "balaning_factor: float = 1\n",
    "epochs: int = 60\n",
    "epoch_train_samples: int = 10000\n",
    "train_bins: np.array = np.arange(0, 0.21, 0.02)\n",
    "num_workers: int = 20\n",
    "\n",
    "# model params\n",
    "learning_rate: float = 1e-5\n",
    "amp: bool = True\n",
    "weight_decay: float = 1e-8\n",
    "momentum: float = 0.999\n",
    "gradient_clipping: float = 1.0\n",
    "\n",
    "loader_args = {\n",
    "    \"batch_size\": batch_size,\n",
    "    \"num_workers\": num_workers,\n",
    "    \"pin_memory\": True,\n",
    "    \"shuffle\": False,\n",
    "}"
   ]
  },
  {
   "cell_type": "code",
   "execution_count": null,
   "metadata": {
    "metadata": {}
   },
   "outputs": [],
   "source": [
    "register_df = pd.read_csv(register_file)\n",
    "dataset = DeadwoodDataset(\n",
    "    register_df=register_df,\n",
    "    no_folds=no_folds,\n",
    "    random_seed=random_seed,\n",
    "    bins=train_bins,\n",
    "    test_size=0,\n",
    ")"
   ]
  },
  {
   "cell_type": "code",
   "execution_count": null,
   "metadata": {
    "metadata": {}
   },
   "outputs": [],
   "source": [
    "def initialize_experiment(run_name: str):\n",
    "    # initialize a new experiment run\n",
    "    experiment = wandb.init(\n",
    "        project=\"standing-deadwood-unet-pro\",\n",
    "        resume=\"allow\",\n",
    "        name=run_name,\n",
    "    )\n",
    "    experiment.config.update(\n",
    "        dict(\n",
    "            data=dict(\n",
    "                register_file=register_file,\n",
    "                no_folds=no_folds,\n",
    "                random_seed=random_seed,\n",
    "                batch_size=batch_size,\n",
    "                save_checkpoint=save_checkpoint,\n",
    "                balaning_factor=balaning_factor,\n",
    "                epochs=epochs,\n",
    "                epoch_train_samples=epoch_train_samples,\n",
    "                train_bins=train_bins,\n",
    "            ),\n",
    "            model=dict(\n",
    "                epochs=epochs,\n",
    "                learning_rate=learning_rate,\n",
    "                amp=amp,\n",
    "                weight_decay=weight_decay,\n",
    "                momentum=momentum,\n",
    "                gradient_clipping=gradient_clipping,\n",
    "            ),\n",
    "        )\n",
    "    )\n",
    "    return experiment"
   ]
  },
  {
   "cell_type": "code",
   "execution_count": null,
   "metadata": {
    "metadata": {}
   },
   "outputs": [],
   "source": [
    "if use_wanb:\n",
    "    experiment = initialize_experiment(experiment_name)"
   ]
  },
  {
   "cell_type": "code",
   "execution_count": null,
   "metadata": {
    "metadata": {}
   },
   "outputs": [],
   "source": [
    "logs = []\n",
    "eval_df = pd.DataFrame()\n",
    "for fold in range(no_folds):\n",
    "    # preferably use GPU\n",
    "    device = torch.device(\"cuda\" if torch.cuda.is_available() else \"cpu\")\n",
    "\n",
    "    # model with three input channels (RGB)\n",
    "    model = UNet(n_channels=3, n_classes=1, bilinear=True)\n",
    "    model = model.to(memory_format=torch.channels_last)\n",
    "    if torch.cuda.device_count() > 1:\n",
    "        # train on GPU 1 and 2\n",
    "        model = nn.DataParallel(model)\n",
    "    model.to(device=device)\n",
    "\n",
    "    # loss function (binary cross entropy)\n",
    "    criterion = nn.BCEWithLogitsLoss(pos_weight=torch.Tensor([2.0]).to(device=device))\n",
    "\n",
    "    # optimizer\n",
    "    optimizer = torch.optim.RMSprop(\n",
    "        model.parameters(),\n",
    "        lr=learning_rate,\n",
    "        weight_decay=weight_decay,\n",
    "        momentum=momentum,\n",
    "    )\n",
    "    scheduler = torch.optim.lr_scheduler.ReduceLROnPlateau(optimizer, \"max\", patience=5)\n",
    "    grad_scaler = torch.cuda.amp.grad_scaler.GradScaler(enabled=amp)\n",
    "    if use_wanb:\n",
    "        wandb.watch(model, log=\"all\")\n",
    "\n",
    "    train_set, val_set = dataset.get_train_val_fold(fold)\n",
    "    train_sampler = WeightedRandomSampler(\n",
    "        dataset.get_train_sample_weights(fold=fold, balancing_factor=balaning_factor),\n",
    "        epoch_train_samples,\n",
    "        replacement=False,\n",
    "    )\n",
    "    train_loader = DataLoader(train_set, sampler=train_sampler, **loader_args)\n",
    "    val_loader = DataLoader(val_set, **loader_args)\n",
    "\n",
    "    step = 0\n",
    "    for epoch in range(1, epochs + 1):\n",
    "        model.train()\n",
    "        epoch_loss = 0\n",
    "\n",
    "        with tqdm(\n",
    "            total=len(train_loader) * batch_size,\n",
    "            desc=f\"Epoch {epoch}/{epochs}\",\n",
    "            unit=\"img\",\n",
    "        ) as pbar:\n",
    "            for images, masks_true, _ in train_loader:\n",
    "                images = images.to(\n",
    "                    device=device,\n",
    "                    dtype=torch.float32,\n",
    "                    memory_format=torch.channels_last,\n",
    "                )\n",
    "                masks_true = masks_true.to(device=device, dtype=torch.long).squeeze(1)\n",
    "\n",
    "                with torch.amp.autocast(\n",
    "                    device.type if device.type != \"mps\" else \"cpu\", enabled=amp\n",
    "                ):\n",
    "                    masks_pred = model(images).squeeze(1)\n",
    "                    loss = criterion(masks_pred.squeeze(1), masks_true.float())\n",
    "                    loss += dice_loss(\n",
    "                        F.sigmoid(masks_pred.squeeze(1)),\n",
    "                        masks_true.float(),\n",
    "                        reduce_batch_first=True,\n",
    "                    )\n",
    "                    optimizer.zero_grad(set_to_none=True)\n",
    "                    grad_scaler.scale(loss).backward()\n",
    "                    torch.nn.utils.clip_grad.clip_grad_norm_(\n",
    "                        model.parameters(), gradient_clipping\n",
    "                    )\n",
    "                    grad_scaler.step(optimizer)\n",
    "                    grad_scaler.update()\n",
    "\n",
    "                    pbar.update(images.shape[0])\n",
    "                    epoch_loss += loss.item()\n",
    "                    step += 1\n",
    "\n",
    "        train_loss = epoch_loss / len(train_loader)\n",
    "        val_loss, val_df = evaluate(model, criterion, val_loader, device, amp)\n",
    "        val_df[\"fold\"] = fold + 1\n",
    "        val_df[\"epoch\"] = epoch\n",
    "        eval_df = pd.concat([eval_df, val_df], ignore_index=True)\n",
    "        scheduler.step(1 - val_loss)\n",
    "        log = {\n",
    "            \"train loss\": train_loss,\n",
    "            \"val loss\": val_loss,\n",
    "            \"epoch\": epoch,\n",
    "            \"fold\": fold + 1,\n",
    "        }\n",
    "        logs.append(log)\n",
    "        if use_wanb:\n",
    "            experiment.log(log)\n",
    "        if save_checkpoint:\n",
    "            Path(checkpoint_dir).mkdir(parents=True, exist_ok=True)\n",
    "            run_dir = os.path.join(checkpoint_dir, experiment_name)\n",
    "            Path(run_dir).mkdir(parents=True, exist_ok=True)\n",
    "            state_dict = model.state_dict()\n",
    "            torch.save(\n",
    "                state_dict,\n",
    "                os.path.join(run_dir, f\"fold_{fold}_epoch_{epoch}.pth\"),\n",
    "            )\n",
    "            logging.info(f\"Checkpoint {epoch} saved!\")"
   ]
  },
  {
   "cell_type": "code",
   "execution_count": null,
   "metadata": {},
   "outputs": [],
   "source": [
    "eval_df.head()"
   ]
  },
  {
   "cell_type": "code",
   "execution_count": null,
   "metadata": {},
   "outputs": [],
   "source": [
    "run_dir = os.path.join(checkpoint_dir, experiment_name)\n",
    "eval_df.to_csv(os.path.join(run_dir, f\"{experiment_name}.csv\"))"
   ]
  }
 ],
 "metadata": {
  "kernelspec": {
   "display_name": "Python 3 (ipykernel)",
   "language": "python",
   "name": "python3"
  },
  "language_info": {
   "codemirror_mode": {
    "name": "ipython",
    "version": 3
   },
   "file_extension": ".py",
   "mimetype": "text/x-python",
   "name": "python",
   "nbconvert_exporter": "python",
   "pygments_lexer": "ipython3",
   "version": "3.8.19"
  }
 },
 "nbformat": 4,
 "nbformat_minor": 4
}
