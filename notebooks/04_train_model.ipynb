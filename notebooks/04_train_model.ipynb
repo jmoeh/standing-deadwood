{
 "cells": [
  {
   "cell_type": "code",
   "execution_count": null,
   "metadata": {},
   "outputs": [],
   "source": [
    "%env CUDA_VISIBLE_DEVICES=1,2"
   ]
  },
  {
   "cell_type": "code",
   "execution_count": 1,
   "metadata": {
    "metadata": {}
   },
   "outputs": [],
   "source": [
    "import logging\n",
    "import os\n",
    "import sys\n",
    "from pathlib import Path\n",
    "from random_word import RandomWords\n",
    "\n",
    "\n",
    "import torch\n",
    "import torch.nn as nn\n",
    "import torch.nn.functional as F\n",
    "import wandb\n",
    "from torch.utils.data import DataLoader, Subset, WeightedRandomSampler, RandomSampler\n",
    "from tqdm import tqdm\n",
    "import pandas as pd\n",
    "import numpy as np\n",
    "\n",
    "# Add the parent directory to sys.path\n",
    "sys.path.append(os.path.dirname(os.path.realpath(os.path.abspath(\"\"))))\n",
    "\n",
    "from unet.dataset import DeadwoodDataset\n",
    "from unet.dice_score import dice_loss\n",
    "from unet.evaluate import evaluate\n",
    "from unet.unet_model import UNet"
   ]
  },
  {
   "cell_type": "code",
   "execution_count": 2,
   "metadata": {
    "metadata": {}
   },
   "outputs": [],
   "source": [
    "# import importlib\n",
    "\n",
    "# importlib.reload(sys.modules[\"unet.dataset\"])"
   ]
  },
  {
   "cell_type": "code",
   "execution_count": 3,
   "metadata": {
    "metadata": {}
   },
   "outputs": [],
   "source": [
    "experiment_name = \"10k_1024px_samples_biome_stratified_threefold\""
   ]
  },
  {
   "cell_type": "code",
   "execution_count": 4,
   "metadata": {
    "metadata": {}
   },
   "outputs": [],
   "source": [
    "debug: bool = False\n",
    "\n",
    "use_wanb: bool = not debug\n",
    "save_checkpoint: bool = not debug\n",
    "\n",
    "# data paths\n",
    "register_file = \"/net/scratch/jmoehring/tiles_register_1024_biome.csv\"\n",
    "checkpoint_dir = \"/net/scratch/jmoehring/checkpoints\"\n",
    "\n",
    "# data params\n",
    "no_folds: int = 3\n",
    "test_size: float = 0.2\n",
    "random_seed: int = 100\n",
    "batch_size: int = 16\n",
    "balaning_factor: float = 1\n",
    "epochs: int = 20\n",
    "epoch_train_samples: int = 10000\n",
    "epoch_val_samples: int = epoch_train_samples * test_size\n",
    "train_bins: np.array = np.arange(0, 0.21, 0.04)\n",
    "\n",
    "# model params\n",
    "learning_rate: float = 1e-5\n",
    "amp: bool = False\n",
    "weight_decay: float = 1e-8\n",
    "momentum: float = 0.999\n",
    "gradient_clipping: float = 1.0"
   ]
  },
  {
   "cell_type": "code",
   "execution_count": 5,
   "metadata": {
    "metadata": {}
   },
   "outputs": [],
   "source": [
    "register_df = pd.read_csv(register_file)"
   ]
  },
  {
   "cell_type": "code",
   "execution_count": 6,
   "metadata": {
    "metadata": {}
   },
   "outputs": [
    {
     "name": "stderr",
     "output_type": "stream",
     "text": [
      "/net/home/jmoehring/.conda/envs/standing-deadwood-env/lib/python3.8/site-packages/sklearn/model_selection/_split.py:737: UserWarning: The least populated class in y has only 1 members, which is less than n_splits=3.\n",
      "  warnings.warn(\n"
     ]
    }
   ],
   "source": [
    "dataset = DeadwoodDataset(\n",
    "    register_df=register_df,\n",
    "    no_folds=no_folds,\n",
    "    random_seed=random_seed,\n",
    "    bins=train_bins,\n",
    "    test_size=0,\n",
    ")"
   ]
  },
  {
   "cell_type": "code",
   "execution_count": 7,
   "metadata": {
    "metadata": {}
   },
   "outputs": [],
   "source": [
    "def initialize_experiment(run_name: str):\n",
    "    # initialize a new experiment run\n",
    "    experiment = wandb.init(\n",
    "        project=\"standing-deadwood-unet-pro\",\n",
    "        resume=\"allow\",\n",
    "        name=run_name,\n",
    "    )\n",
    "    experiment.config.update(\n",
    "        dict(\n",
    "            data=dict(\n",
    "                register_file=register_file,\n",
    "                no_folds=no_folds,\n",
    "                test_size=test_size,\n",
    "                random_seed=random_seed,\n",
    "                batch_size=batch_size,\n",
    "                save_checkpoint=save_checkpoint,\n",
    "                balaning_factor=balaning_factor,\n",
    "                epochs=epochs,\n",
    "                epoch_train_samples=epoch_train_samples,\n",
    "                epoch_val_samples=epoch_val_samples,\n",
    "                train_bins=train_bins,\n",
    "            ),\n",
    "            model=dict(\n",
    "                epochs=epochs,\n",
    "                learning_rate=learning_rate,\n",
    "                amp=amp,\n",
    "                weight_decay=weight_decay,\n",
    "                momentum=momentum,\n",
    "                gradient_clipping=gradient_clipping,\n",
    "            ),\n",
    "        )\n",
    "    )\n",
    "    return experiment"
   ]
  },
  {
   "cell_type": "code",
   "execution_count": 8,
   "metadata": {
    "metadata": {}
   },
   "outputs": [],
   "source": [
    "loader_args = {\n",
    "    \"batch_size\": batch_size,\n",
    "    \"num_workers\": 20,\n",
    "    \"pin_memory\": True,\n",
    "    \"shuffle\": False,\n",
    "}"
   ]
  },
  {
   "cell_type": "code",
   "execution_count": 9,
   "metadata": {
    "metadata": {}
   },
   "outputs": [],
   "source": [
    "if use_wanb:\n",
    "    experiment = initialize_experiment(experiment_name)"
   ]
  },
  {
   "cell_type": "code",
   "execution_count": 10,
   "metadata": {
    "metadata": {}
   },
   "outputs": [
    {
     "name": "stderr",
     "output_type": "stream",
     "text": [
      "Epoch 1/20:   0%|          | 0/50000 [00:00<?, ?img/s]"
     ]
    },
    {
     "name": "stderr",
     "output_type": "stream",
     "text": [
      "Epoch 1/20:  45%|████▍     | 22464/50000 [01:37<01:58, 231.41img/s]\n"
     ]
    },
    {
     "ename": "Exception",
     "evalue": "Caught Exception in DataLoader worker process 4.\nOriginal Traceback (most recent call last):\n  File \"/net/home/jmoehring/standing-deadwood/unet/dataset.py\", line 108, in __getitem__\n    mask = Image.open(mask_path).convert(\"L\")\n  File \"/net/home/jmoehring/.conda/envs/standing-deadwood-env/lib/python3.8/site-packages/PIL/Image.py\", line 3247, in open\n    fp = builtins.open(filename, \"rb\")\nFileNotFoundError: [Errno 2] No such file or directory: '/net/scratch/jmoehring/tiles_1024/quebec_2021-10-07-sbl-cloutier-z2-rgb/0.019/9764_23361_mask.tif'\n\nDuring handling of the above exception, another exception occurred:\n\nTraceback (most recent call last):\n  File \"/net/home/jmoehring/.conda/envs/standing-deadwood-env/lib/python3.8/site-packages/torch/utils/data/_utils/worker.py\", line 308, in _worker_loop\n    data = fetcher.fetch(index)\n  File \"/net/home/jmoehring/.conda/envs/standing-deadwood-env/lib/python3.8/site-packages/torch/utils/data/_utils/fetch.py\", line 49, in fetch\n    data = self.dataset.__getitems__(possibly_batched_index)\n  File \"/net/home/jmoehring/.conda/envs/standing-deadwood-env/lib/python3.8/site-packages/torch/utils/data/dataset.py\", line 364, in __getitems__\n    return [self.dataset[self.indices[idx]] for idx in indices]\n  File \"/net/home/jmoehring/.conda/envs/standing-deadwood-env/lib/python3.8/site-packages/torch/utils/data/dataset.py\", line 364, in <listcomp>\n    return [self.dataset[self.indices[idx]] for idx in indices]\n  File \"/net/home/jmoehring/standing-deadwood/unet/dataset.py\", line 110, in __getitem__\n    raise Exception(mask_path)\nException: /net/scratch/jmoehring/tiles_1024/quebec_2021-10-07-sbl-cloutier-z2-rgb/0.019/9764_23361_mask.tif\n",
     "output_type": "error",
     "traceback": [
      "\u001b[0;31m---------------------------------------------------------------------------\u001b[0m",
      "\u001b[0;31mException\u001b[0m                                 Traceback (most recent call last)",
      "Cell \u001b[0;32mIn[10], line 53\u001b[0m\n\u001b[1;32m     46\u001b[0m epoch_loss \u001b[38;5;241m=\u001b[39m \u001b[38;5;241m0\u001b[39m\n\u001b[1;32m     48\u001b[0m \u001b[38;5;28;01mwith\u001b[39;00m tqdm(\n\u001b[1;32m     49\u001b[0m     total\u001b[38;5;241m=\u001b[39m\u001b[38;5;28mlen\u001b[39m(train_loader) \u001b[38;5;241m*\u001b[39m batch_size,\n\u001b[1;32m     50\u001b[0m     desc\u001b[38;5;241m=\u001b[39m\u001b[38;5;124mf\u001b[39m\u001b[38;5;124m\"\u001b[39m\u001b[38;5;124mEpoch \u001b[39m\u001b[38;5;132;01m{\u001b[39;00mepoch\u001b[38;5;132;01m}\u001b[39;00m\u001b[38;5;124m/\u001b[39m\u001b[38;5;132;01m{\u001b[39;00mepochs\u001b[38;5;132;01m}\u001b[39;00m\u001b[38;5;124m\"\u001b[39m,\n\u001b[1;32m     51\u001b[0m     unit\u001b[38;5;241m=\u001b[39m\u001b[38;5;124m\"\u001b[39m\u001b[38;5;124mimg\u001b[39m\u001b[38;5;124m\"\u001b[39m,\n\u001b[1;32m     52\u001b[0m ) \u001b[38;5;28;01mas\u001b[39;00m pbar:\n\u001b[0;32m---> 53\u001b[0m     \u001b[38;5;28;01mfor\u001b[39;00m images, masks_true, _ \u001b[38;5;129;01min\u001b[39;00m train_loader:\n\u001b[1;32m     54\u001b[0m         \u001b[38;5;66;03m#         images = images.to(\u001b[39;00m\n\u001b[1;32m     55\u001b[0m         \u001b[38;5;66;03m#             device=device,\u001b[39;00m\n\u001b[1;32m     56\u001b[0m         \u001b[38;5;66;03m#             dtype=torch.float32,\u001b[39;00m\n\u001b[1;32m     57\u001b[0m         \u001b[38;5;66;03m#             memory_format=torch.channels_last,\u001b[39;00m\n\u001b[1;32m     58\u001b[0m         \u001b[38;5;66;03m#         )\u001b[39;00m\n\u001b[1;32m     59\u001b[0m         \u001b[38;5;66;03m#         masks_true = masks_true.to(device=device, dtype=torch.long).squeeze(1)\u001b[39;00m\n\u001b[1;32m     60\u001b[0m \n\u001b[1;32m     61\u001b[0m         \u001b[38;5;66;03m#         with torch.amp.autocast(\u001b[39;00m\n\u001b[1;32m     62\u001b[0m         \u001b[38;5;66;03m#             device.type if device.type != \"mps\" else \"cpu\", enabled=amp\u001b[39;00m\n\u001b[1;32m     63\u001b[0m         \u001b[38;5;66;03m#         ):\u001b[39;00m\n\u001b[1;32m     64\u001b[0m         \u001b[38;5;66;03m#             masks_pred = model(images).squeeze(1)\u001b[39;00m\n\u001b[1;32m     65\u001b[0m \n\u001b[1;32m     66\u001b[0m         \u001b[38;5;66;03m#             loss = criterion(masks_pred.squeeze(1), masks_true.float())\u001b[39;00m\n\u001b[1;32m     67\u001b[0m         \u001b[38;5;66;03m#             loss += dice_loss(\u001b[39;00m\n\u001b[1;32m     68\u001b[0m         \u001b[38;5;66;03m#                 F.sigmoid(masks_pred.squeeze(1)),\u001b[39;00m\n\u001b[1;32m     69\u001b[0m         \u001b[38;5;66;03m#                 masks_true.float(),\u001b[39;00m\n\u001b[1;32m     70\u001b[0m         \u001b[38;5;66;03m#             )\u001b[39;00m\n\u001b[1;32m     71\u001b[0m         \u001b[38;5;66;03m#             optimizer.zero_grad(set_to_none=True)\u001b[39;00m\n\u001b[1;32m     72\u001b[0m         \u001b[38;5;66;03m#             grad_scaler.scale(loss).backward()\u001b[39;00m\n\u001b[1;32m     73\u001b[0m         \u001b[38;5;66;03m#             torch.nn.utils.clip_grad.clip_grad_norm_(\u001b[39;00m\n\u001b[1;32m     74\u001b[0m         \u001b[38;5;66;03m#                 model.parameters(), gradient_clipping\u001b[39;00m\n\u001b[1;32m     75\u001b[0m         \u001b[38;5;66;03m#             )\u001b[39;00m\n\u001b[1;32m     76\u001b[0m         \u001b[38;5;66;03m#             grad_scaler.step(optimizer)\u001b[39;00m\n\u001b[1;32m     77\u001b[0m         \u001b[38;5;66;03m#             grad_scaler.update()\u001b[39;00m\n\u001b[1;32m     79\u001b[0m         pbar\u001b[38;5;241m.\u001b[39mupdate(images\u001b[38;5;241m.\u001b[39mshape[\u001b[38;5;241m0\u001b[39m])\n\u001b[1;32m     80\u001b[0m \u001b[38;5;66;03m#             epoch_loss += loss.item()\u001b[39;00m\n\u001b[1;32m     81\u001b[0m \u001b[38;5;66;03m#             step += 1\u001b[39;00m\n\u001b[1;32m     82\u001b[0m \n\u001b[0;32m   (...)\u001b[0m\n\u001b[1;32m    105\u001b[0m \u001b[38;5;66;03m#     )\u001b[39;00m\n\u001b[1;32m    106\u001b[0m \u001b[38;5;66;03m#     logging.info(f\"Checkpoint {epoch} saved!\")\u001b[39;00m\n",
      "File \u001b[0;32m~/.conda/envs/standing-deadwood-env/lib/python3.8/site-packages/torch/utils/data/dataloader.py:630\u001b[0m, in \u001b[0;36m_BaseDataLoaderIter.__next__\u001b[0;34m(self)\u001b[0m\n\u001b[1;32m    627\u001b[0m \u001b[38;5;28;01mif\u001b[39;00m \u001b[38;5;28mself\u001b[39m\u001b[38;5;241m.\u001b[39m_sampler_iter \u001b[38;5;129;01mis\u001b[39;00m \u001b[38;5;28;01mNone\u001b[39;00m:\n\u001b[1;32m    628\u001b[0m     \u001b[38;5;66;03m# TODO(https://github.com/pytorch/pytorch/issues/76750)\u001b[39;00m\n\u001b[1;32m    629\u001b[0m     \u001b[38;5;28mself\u001b[39m\u001b[38;5;241m.\u001b[39m_reset()  \u001b[38;5;66;03m# type: ignore[call-arg]\u001b[39;00m\n\u001b[0;32m--> 630\u001b[0m data \u001b[38;5;241m=\u001b[39m \u001b[38;5;28;43mself\u001b[39;49m\u001b[38;5;241;43m.\u001b[39;49m\u001b[43m_next_data\u001b[49m\u001b[43m(\u001b[49m\u001b[43m)\u001b[49m\n\u001b[1;32m    631\u001b[0m \u001b[38;5;28mself\u001b[39m\u001b[38;5;241m.\u001b[39m_num_yielded \u001b[38;5;241m+\u001b[39m\u001b[38;5;241m=\u001b[39m \u001b[38;5;241m1\u001b[39m\n\u001b[1;32m    632\u001b[0m \u001b[38;5;28;01mif\u001b[39;00m \u001b[38;5;28mself\u001b[39m\u001b[38;5;241m.\u001b[39m_dataset_kind \u001b[38;5;241m==\u001b[39m _DatasetKind\u001b[38;5;241m.\u001b[39mIterable \u001b[38;5;129;01mand\u001b[39;00m \\\n\u001b[1;32m    633\u001b[0m         \u001b[38;5;28mself\u001b[39m\u001b[38;5;241m.\u001b[39m_IterableDataset_len_called \u001b[38;5;129;01mis\u001b[39;00m \u001b[38;5;129;01mnot\u001b[39;00m \u001b[38;5;28;01mNone\u001b[39;00m \u001b[38;5;129;01mand\u001b[39;00m \\\n\u001b[1;32m    634\u001b[0m         \u001b[38;5;28mself\u001b[39m\u001b[38;5;241m.\u001b[39m_num_yielded \u001b[38;5;241m>\u001b[39m \u001b[38;5;28mself\u001b[39m\u001b[38;5;241m.\u001b[39m_IterableDataset_len_called:\n",
      "File \u001b[0;32m~/.conda/envs/standing-deadwood-env/lib/python3.8/site-packages/torch/utils/data/dataloader.py:1325\u001b[0m, in \u001b[0;36m_MultiProcessingDataLoaderIter._next_data\u001b[0;34m(self)\u001b[0m\n\u001b[1;32m   1323\u001b[0m \u001b[38;5;28;01mif\u001b[39;00m \u001b[38;5;28mlen\u001b[39m(\u001b[38;5;28mself\u001b[39m\u001b[38;5;241m.\u001b[39m_task_info[\u001b[38;5;28mself\u001b[39m\u001b[38;5;241m.\u001b[39m_rcvd_idx]) \u001b[38;5;241m==\u001b[39m \u001b[38;5;241m2\u001b[39m:\n\u001b[1;32m   1324\u001b[0m     data \u001b[38;5;241m=\u001b[39m \u001b[38;5;28mself\u001b[39m\u001b[38;5;241m.\u001b[39m_task_info\u001b[38;5;241m.\u001b[39mpop(\u001b[38;5;28mself\u001b[39m\u001b[38;5;241m.\u001b[39m_rcvd_idx)[\u001b[38;5;241m1\u001b[39m]\n\u001b[0;32m-> 1325\u001b[0m     \u001b[38;5;28;01mreturn\u001b[39;00m \u001b[38;5;28;43mself\u001b[39;49m\u001b[38;5;241;43m.\u001b[39;49m\u001b[43m_process_data\u001b[49m\u001b[43m(\u001b[49m\u001b[43mdata\u001b[49m\u001b[43m)\u001b[49m\n\u001b[1;32m   1327\u001b[0m \u001b[38;5;28;01massert\u001b[39;00m \u001b[38;5;129;01mnot\u001b[39;00m \u001b[38;5;28mself\u001b[39m\u001b[38;5;241m.\u001b[39m_shutdown \u001b[38;5;129;01mand\u001b[39;00m \u001b[38;5;28mself\u001b[39m\u001b[38;5;241m.\u001b[39m_tasks_outstanding \u001b[38;5;241m>\u001b[39m \u001b[38;5;241m0\u001b[39m\n\u001b[1;32m   1328\u001b[0m idx, data \u001b[38;5;241m=\u001b[39m \u001b[38;5;28mself\u001b[39m\u001b[38;5;241m.\u001b[39m_get_data()\n",
      "File \u001b[0;32m~/.conda/envs/standing-deadwood-env/lib/python3.8/site-packages/torch/utils/data/dataloader.py:1371\u001b[0m, in \u001b[0;36m_MultiProcessingDataLoaderIter._process_data\u001b[0;34m(self, data)\u001b[0m\n\u001b[1;32m   1369\u001b[0m \u001b[38;5;28mself\u001b[39m\u001b[38;5;241m.\u001b[39m_try_put_index()\n\u001b[1;32m   1370\u001b[0m \u001b[38;5;28;01mif\u001b[39;00m \u001b[38;5;28misinstance\u001b[39m(data, ExceptionWrapper):\n\u001b[0;32m-> 1371\u001b[0m     \u001b[43mdata\u001b[49m\u001b[38;5;241;43m.\u001b[39;49m\u001b[43mreraise\u001b[49m\u001b[43m(\u001b[49m\u001b[43m)\u001b[49m\n\u001b[1;32m   1372\u001b[0m \u001b[38;5;28;01mreturn\u001b[39;00m data\n",
      "File \u001b[0;32m~/.conda/envs/standing-deadwood-env/lib/python3.8/site-packages/torch/_utils.py:694\u001b[0m, in \u001b[0;36mExceptionWrapper.reraise\u001b[0;34m(self)\u001b[0m\n\u001b[1;32m    690\u001b[0m \u001b[38;5;28;01mexcept\u001b[39;00m \u001b[38;5;167;01mTypeError\u001b[39;00m:\n\u001b[1;32m    691\u001b[0m     \u001b[38;5;66;03m# If the exception takes multiple arguments, don't try to\u001b[39;00m\n\u001b[1;32m    692\u001b[0m     \u001b[38;5;66;03m# instantiate since we don't know how to\u001b[39;00m\n\u001b[1;32m    693\u001b[0m     \u001b[38;5;28;01mraise\u001b[39;00m \u001b[38;5;167;01mRuntimeError\u001b[39;00m(msg) \u001b[38;5;28;01mfrom\u001b[39;00m \u001b[38;5;28;01mNone\u001b[39;00m\n\u001b[0;32m--> 694\u001b[0m \u001b[38;5;28;01mraise\u001b[39;00m exception\n",
      "\u001b[0;31mException\u001b[0m: Caught Exception in DataLoader worker process 4.\nOriginal Traceback (most recent call last):\n  File \"/net/home/jmoehring/standing-deadwood/unet/dataset.py\", line 108, in __getitem__\n    mask = Image.open(mask_path).convert(\"L\")\n  File \"/net/home/jmoehring/.conda/envs/standing-deadwood-env/lib/python3.8/site-packages/PIL/Image.py\", line 3247, in open\n    fp = builtins.open(filename, \"rb\")\nFileNotFoundError: [Errno 2] No such file or directory: '/net/scratch/jmoehring/tiles_1024/quebec_2021-10-07-sbl-cloutier-z2-rgb/0.019/9764_23361_mask.tif'\n\nDuring handling of the above exception, another exception occurred:\n\nTraceback (most recent call last):\n  File \"/net/home/jmoehring/.conda/envs/standing-deadwood-env/lib/python3.8/site-packages/torch/utils/data/_utils/worker.py\", line 308, in _worker_loop\n    data = fetcher.fetch(index)\n  File \"/net/home/jmoehring/.conda/envs/standing-deadwood-env/lib/python3.8/site-packages/torch/utils/data/_utils/fetch.py\", line 49, in fetch\n    data = self.dataset.__getitems__(possibly_batched_index)\n  File \"/net/home/jmoehring/.conda/envs/standing-deadwood-env/lib/python3.8/site-packages/torch/utils/data/dataset.py\", line 364, in __getitems__\n    return [self.dataset[self.indices[idx]] for idx in indices]\n  File \"/net/home/jmoehring/.conda/envs/standing-deadwood-env/lib/python3.8/site-packages/torch/utils/data/dataset.py\", line 364, in <listcomp>\n    return [self.dataset[self.indices[idx]] for idx in indices]\n  File \"/net/home/jmoehring/standing-deadwood/unet/dataset.py\", line 110, in __getitem__\n    raise Exception(mask_path)\nException: /net/scratch/jmoehring/tiles_1024/quebec_2021-10-07-sbl-cloutier-z2-rgb/0.019/9764_23361_mask.tif\n"
     ]
    }
   ],
   "source": [
    "logs = []\n",
    "for fold in range(no_folds):\n",
    "    # preferably use GPU\n",
    "    device = torch.device(\"cuda\" if torch.cuda.is_available() else \"cpu\")\n",
    "\n",
    "    # model with three input channels (RGB)\n",
    "    model = UNet(n_channels=3, n_classes=1, bilinear=True)\n",
    "    model = model.to(memory_format=torch.channels_last)\n",
    "    if torch.cuda.device_count() > 1:\n",
    "        # train on GPU 1 and 2\n",
    "        model = nn.DataParallel(model)\n",
    "    model.to(device=device)\n",
    "\n",
    "    # loss function (binary cross entropy)\n",
    "    criterion = nn.BCEWithLogitsLoss()\n",
    "\n",
    "    # optimizer\n",
    "    optimizer = torch.optim.RMSprop(\n",
    "        model.parameters(),\n",
    "        lr=learning_rate,\n",
    "        weight_decay=weight_decay,\n",
    "        momentum=momentum,\n",
    "    )\n",
    "    scheduler = torch.optim.lr_scheduler.ReduceLROnPlateau(optimizer, \"max\", patience=5)\n",
    "    grad_scaler = torch.cuda.amp.grad_scaler.GradScaler(enabled=amp)\n",
    "    if use_wanb:\n",
    "        wandb.watch(model, log=\"all\")\n",
    "\n",
    "    train_set, val_set = dataset.get_train_val_fold(fold)\n",
    "\n",
    "    train_sampler = WeightedRandomSampler(\n",
    "        dataset.get_train_sample_weights(fold=fold, balancing_factor=balaning_factor),\n",
    "        epoch_train_samples,\n",
    "        replacement=False,\n",
    "    )\n",
    "\n",
    "    test_sampler = RandomSampler(val_set)\n",
    "\n",
    "    train_loader = DataLoader(train_set, sampler=train_sampler, **loader_args)\n",
    "    val_loader = DataLoader(val_set, **loader_args)\n",
    "\n",
    "    step = 0\n",
    "    for epoch in range(1, epochs + 1):\n",
    "        model.train()\n",
    "        epoch_loss = 0\n",
    "\n",
    "        with tqdm(\n",
    "            total=len(train_loader) * batch_size,\n",
    "            desc=f\"Epoch {epoch}/{epochs}\",\n",
    "            unit=\"img\",\n",
    "        ) as pbar:\n",
    "            for images, masks_true, _ in train_loader:\n",
    "                images = images.to(\n",
    "                    device=device,\n",
    "                    dtype=torch.float32,\n",
    "                    memory_format=torch.channels_last,\n",
    "                )\n",
    "                masks_true = masks_true.to(device=device, dtype=torch.long).squeeze(1)\n",
    "\n",
    "                with torch.amp.autocast(\n",
    "                    device.type if device.type != \"mps\" else \"cpu\", enabled=amp\n",
    "                ):\n",
    "                    masks_pred = model(images).squeeze(1)\n",
    "\n",
    "                    loss = criterion(masks_pred.squeeze(1), masks_true.float())\n",
    "                    loss += dice_loss(\n",
    "                        F.sigmoid(masks_pred.squeeze(1)),\n",
    "                        masks_true.float(),\n",
    "                    )\n",
    "                    optimizer.zero_grad(set_to_none=True)\n",
    "                    grad_scaler.scale(loss).backward()\n",
    "                    torch.nn.utils.clip_grad.clip_grad_norm_(\n",
    "                        model.parameters(), gradient_clipping\n",
    "                    )\n",
    "                    grad_scaler.step(optimizer)\n",
    "                    grad_scaler.update()\n",
    "\n",
    "                    pbar.update(images.shape[0])\n",
    "                    epoch_loss += loss.item()\n",
    "                    step += 1\n",
    "\n",
    "        val_dice_score, val_dice_loss = evaluate(\n",
    "            model, criterion, val_loader, device, amp\n",
    "        )\n",
    "        scheduler.step(val_dice_score)\n",
    "        log = {\n",
    "            \"train loss\": epoch_loss / len(train_loader),\n",
    "            \"val loss\": val_dice_loss,\n",
    "            \"val dice score\": val_dice_score.item(),\n",
    "            \"epoch\": epoch,\n",
    "            \"fold\": fold,\n",
    "        }\n",
    "        logs.append(log)\n",
    "        if use_wanb:\n",
    "            experiment.log(log)\n",
    "        if save_checkpoint:\n",
    "            Path(checkpoint_dir).mkdir(parents=True, exist_ok=True)\n",
    "            run_dir = os.path.join(checkpoint_dir, experiment_name)\n",
    "            Path(run_dir).mkdir(parents=True, exist_ok=True)\n",
    "            state_dict = model.state_dict()\n",
    "            torch.save(\n",
    "                state_dict,\n",
    "                os.path.join(run_dir, f\"fold_{fold}_epoch_{epoch}.pth\"),\n",
    "            )\n",
    "            logging.info(f\"Checkpoint {epoch} saved!\")"
   ]
  },
  {
   "cell_type": "code",
   "execution_count": null,
   "metadata": {},
   "outputs": [],
   "source": [
    "# log best model with highest val dice score to wandb\n",
    "best_model = max(logs, key=lambda x: x[\"val dice score\"])\n",
    "if use_wanb:\n",
    "    experiment.log({\"best_model\": best_model})\n",
    "    experiment.finish()"
   ]
  },
  {
   "cell_type": "code",
   "execution_count": null,
   "metadata": {},
   "outputs": [],
   "source": [
    "run_dir = os.path.join(checkpoint_dir, experiment_name)\n",
    "run_results_df = pd.DataFrame.from_records(logs)\n",
    "run_results_df.to_csv(os.path.join(run_dir, f\"{experiment_name}.csv\"))"
   ]
  },
  {
   "cell_type": "code",
   "execution_count": null,
   "metadata": {},
   "outputs": [],
   "source": [
    "run_results_df.head()"
   ]
  }
 ],
 "metadata": {
  "kernelspec": {
   "display_name": "Python 3 (ipykernel)",
   "language": "python",
   "name": "python3"
  },
  "language_info": {
   "codemirror_mode": {
    "name": "ipython",
    "version": 3
   },
   "file_extension": ".py",
   "mimetype": "text/x-python",
   "name": "python",
   "nbconvert_exporter": "python",
   "pygments_lexer": "ipython3",
   "version": "3.8.19"
  }
 },
 "nbformat": 4,
 "nbformat_minor": 4
}
