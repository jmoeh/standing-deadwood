{
 "cells": [
  {
   "cell_type": "code",
   "execution_count": 1,
   "metadata": {},
   "outputs": [],
   "source": [
    "import os\n",
    "import pandas as pd\n",
    "import numpy as np\n",
    "from PIL import Image\n",
    "import seaborn as sns\n",
    "import matplotlib.pyplot as plt\n",
    "import rasterio\n",
    "from rasterio.plot import show\n",
    "import geopandas as gpd\n",
    "import matplotlib.pyplot as plt\n",
    "from matplotlib_scalebar.scalebar import ScaleBar\n",
    "from matplotlib.offsetbox import OffsetImage, AnnotationBbox\n",
    "from pathlib import Path\n",
    "from matplotlib.ticker import ScalarFormatter"
   ]
  },
  {
   "cell_type": "code",
   "execution_count": 2,
   "metadata": {},
   "outputs": [],
   "source": [
    "def load_fold_data(experiment_dir, num_folds, epoch):\n",
    "    \"\"\"\n",
    "    Generalized function to load fold data from a given experiment directory.\n",
    "\n",
    "    Args:\n",
    "        experiment_dir (str): The directory path where the experiment data is stored.\n",
    "        num_folds (int): Number of folds (e.g., 3 for fold_0, fold_1, fold_2).\n",
    "        epoch (int): Epoch number to be loaded (e.g., 0 for epoch_0).\n",
    "\n",
    "    Returns:\n",
    "        pd.DataFrame: A DataFrame containing the concatenated data of all folds with fold information.\n",
    "    \"\"\"\n",
    "    dfs = []\n",
    "\n",
    "    for fold in range(num_folds):\n",
    "        file_path = os.path.join(\n",
    "            experiment_dir, f\"fold_{fold}_epoch_{epoch}_metrics.csv\"\n",
    "        )\n",
    "\n",
    "        if os.path.exists(file_path):\n",
    "            df = pd.read_csv(file_path)\n",
    "            df[\"fold\"] = fold\n",
    "            dfs.append(df)\n",
    "        else:\n",
    "            print(f\"Warning: File {file_path} does not exist.\")\n",
    "\n",
    "    if dfs:\n",
    "        return pd.concat(dfs, ignore_index=True)\n",
    "    else:\n",
    "        print(\"No valid files were loaded.\")\n",
    "        return pd.DataFrame()  # Return an empty DataFrame if no files were found"
   ]
  },
  {
   "cell_type": "code",
   "execution_count": 3,
   "metadata": {},
   "outputs": [
    {
     "name": "stdout",
     "output_type": "stream",
     "text": [
      "<class 'pandas.core.frame.DataFrame'>\n",
      "RangeIndex: 284205 entries, 0 to 284204\n",
      "Data columns (total 11 columns):\n",
      " #   Column            Non-Null Count   Dtype  \n",
      "---  ------            --------------   -----  \n",
      " 0   Unnamed: 0        284205 non-null  int64  \n",
      " 1   base_file_name    284205 non-null  object \n",
      " 2   file_path         284205 non-null  object \n",
      " 3   global_file_path  284205 non-null  object \n",
      " 4   resolution        284205 non-null  float64\n",
      " 5   x                 284205 non-null  int64  \n",
      " 6   y                 284205 non-null  int64  \n",
      " 7   label_quality     284205 non-null  float64\n",
      " 8   resolution_bin    284205 non-null  float64\n",
      " 9   original          284205 non-null  bool   \n",
      " 10  biome             284205 non-null  float64\n",
      "dtypes: bool(1), float64(4), int64(3), object(3)\n",
      "memory usage: 22.0+ MB\n"
     ]
    }
   ],
   "source": [
    "register_df = pd.read_csv(\"/net/scratch/jmoehring/tiles_1024/register_baseline.csv\")\n",
    "register_df.info()"
   ]
  },
  {
   "cell_type": "code",
   "execution_count": 4,
   "metadata": {},
   "outputs": [],
   "source": [
    "bce_metrics = load_fold_data(\n",
    "    \"/net/home/jmoehring/experiments/testing_runs/bce_b12\", 3, 0\n",
    ")\n",
    "bce_metrics[\"experiment\"] = \"bce\""
   ]
  },
  {
   "cell_type": "code",
   "execution_count": 5,
   "metadata": {},
   "outputs": [],
   "source": [
    "# dice_metrics = load_fold_data(\"/net/home/jmoehring/experiments/testing_dice/\", 3, 0)\n",
    "# dice_metrics[\"experiment\"] = \"dice\""
   ]
  },
  {
   "cell_type": "code",
   "execution_count": 6,
   "metadata": {},
   "outputs": [
    {
     "name": "stdout",
     "output_type": "stream",
     "text": [
      "Warning: File /net/home/jmoehring/experiments/testing_runs/tversky_a04b06g2/fold_1_epoch_0_metrics.csv does not exist.\n",
      "Warning: File /net/home/jmoehring/experiments/testing_runs/tversky_a04b06g2/fold_2_epoch_0_metrics.csv does not exist.\n"
     ]
    }
   ],
   "source": [
    "tversky_metrics_1 = load_fold_data(\n",
    "    \"/net/home/jmoehring/experiments/testing_runs/tversky_a07b03g2/\", 3, 0\n",
    ")\n",
    "tversky_metrics_1[\"config\"] = \"a07b03g2\"\n",
    "\n",
    "tversky_metrics_2 = load_fold_data(\n",
    "    \"/net/home/jmoehring/experiments/testing_runs/tversky_a03b08g25/\", 3, 0\n",
    ")\n",
    "tversky_metrics_2[\"config\"] = \"a03b08g25\"\n",
    "\n",
    "tversky_metrics_3 = load_fold_data(\n",
    "    \"/net/home/jmoehring/experiments/testing_runs/tversky_a04b06g2/\", 3, 0\n",
    ")\n",
    "tversky_metrics_3[\"config\"] = \"a04b06g2\""
   ]
  },
  {
   "cell_type": "code",
   "execution_count": 7,
   "metadata": {},
   "outputs": [],
   "source": [
    "tversky_metrics = pd.concat(\n",
    "    [tversky_metrics_1, tversky_metrics_2, tversky_metrics_3], ignore_index=True\n",
    ")\n",
    "tversky_metrics[\"experiment\"] = \"tversky\""
   ]
  },
  {
   "cell_type": "code",
   "execution_count": 8,
   "metadata": {},
   "outputs": [],
   "source": [
    "metrics_df = pd.concat([tversky_metrics], ignore_index=True)"
   ]
  },
  {
   "cell_type": "code",
   "execution_count": 19,
   "metadata": {},
   "outputs": [
    {
     "data": {
      "text/html": [
       "<div>\n",
       "<style scoped>\n",
       "    .dataframe tbody tr th:only-of-type {\n",
       "        vertical-align: middle;\n",
       "    }\n",
       "\n",
       "    .dataframe tbody tr th {\n",
       "        vertical-align: top;\n",
       "    }\n",
       "\n",
       "    .dataframe thead th {\n",
       "        text-align: right;\n",
       "    }\n",
       "</style>\n",
       "<table border=\"1\" class=\"dataframe\">\n",
       "  <thead>\n",
       "    <tr style=\"text-align: right;\">\n",
       "      <th></th>\n",
       "      <th>config</th>\n",
       "      <th>precision_0.5</th>\n",
       "      <th>recall_0.5</th>\n",
       "      <th>f1_0.5</th>\n",
       "    </tr>\n",
       "  </thead>\n",
       "  <tbody>\n",
       "    <tr>\n",
       "      <th>0</th>\n",
       "      <td>a03b08g25</td>\n",
       "      <td>0.170724</td>\n",
       "      <td>0.129886</td>\n",
       "      <td>0.110864</td>\n",
       "    </tr>\n",
       "    <tr>\n",
       "      <th>1</th>\n",
       "      <td>a04b06g2</td>\n",
       "      <td>0.146913</td>\n",
       "      <td>0.090961</td>\n",
       "      <td>0.081153</td>\n",
       "    </tr>\n",
       "    <tr>\n",
       "      <th>2</th>\n",
       "      <td>a07b03g2</td>\n",
       "      <td>0.177306</td>\n",
       "      <td>0.045841</td>\n",
       "      <td>0.057593</td>\n",
       "    </tr>\n",
       "  </tbody>\n",
       "</table>\n",
       "</div>"
      ],
      "text/plain": [
       "      config  precision_0.5  recall_0.5    f1_0.5\n",
       "0  a03b08g25       0.170724    0.129886  0.110864\n",
       "1   a04b06g2       0.146913    0.090961  0.081153\n",
       "2   a07b03g2       0.177306    0.045841  0.057593"
      ]
     },
     "execution_count": 19,
     "metadata": {},
     "output_type": "execute_result"
    }
   ],
   "source": [
    "metrics_df.groupby(\"config\").agg(\n",
    "    {\"precision_0.5\": \"mean\", \"recall_0.5\": \"mean\", \"f1_0.5\": \"mean\"}\n",
    ").reset_index()"
   ]
  },
  {
   "cell_type": "code",
   "execution_count": 18,
   "metadata": {},
   "outputs": [
    {
     "data": {
      "image/png": "[encoded data removed]",
      "text/plain": [
       "<Figure size 1000x600 with 1 Axes>"
      ]
     },
     "metadata": {},
     "output_type": "display_data"
    }
   ],
   "source": [
    "# Filtering the dataframe to exclude rows where all precision, recall, and f1 scores are 0 across all thresholds\n",
    "thresholds = [0.1, 0.2, 0.3, 0.4, 0.5, 0.6, 0.7, 0.8, 0.9]\n",
    "plot_df = metrics_df[\n",
    "    (metrics_df[\"experiment\"] == \"tversky\") & (metrics_df[\"config\"] == \"a07b03g2\")\n",
    "]\n",
    "plot_df = plot_df[\n",
    "    (plot_df[[f\"precision_{t}\" for t in thresholds]] != 0).any(axis=1)\n",
    "    & (plot_df[[f\"recall_{t}\" for t in thresholds]] != 0).any(axis=1)\n",
    "    & (plot_df[[f\"f1_{t}\" for t in thresholds]] != 0).any(axis=1)\n",
    "]\n",
    "# Recalculating mean precision, recall, and f1 scores for each threshold based on the filtered dataframe\n",
    "mean_precision_filtered = plot_df[[f\"precision_{t}\" for t in thresholds]].mean(axis=0)\n",
    "mean_recall_filtered = plot_df[[f\"recall_{t}\" for t in thresholds]].mean(axis=0)\n",
    "mean_f1_filtered = plot_df[[f\"f1_{t}\" for t in thresholds]].mean(axis=0)\n",
    "\n",
    "# Creating a new dataframe for plotting\n",
    "plot_data_filtered = pd.DataFrame(\n",
    "    {\n",
    "        \"threshold\": thresholds,\n",
    "        \"mean_precision\": mean_precision_filtered.values,\n",
    "        \"mean_recall\": mean_recall_filtered.values,\n",
    "        \"mean_f1\": mean_f1_filtered.values,\n",
    "    }\n",
    ")\n",
    "\n",
    "# Now plotting using seaborn with the filtered data\n",
    "plt.figure(figsize=(10, 6))\n",
    "sns.lineplot(\n",
    "    x=\"threshold\", y=\"mean_precision\", data=plot_data_filtered, label=\"Precision\"\n",
    ")\n",
    "sns.lineplot(x=\"threshold\", y=\"mean_recall\", data=plot_data_filtered, label=\"Recall\")\n",
    "sns.lineplot(x=\"threshold\", y=\"mean_f1\", data=plot_data_filtered, label=\"F1 Score\")\n",
    "\n",
    "plt.title(\"Precision, Recall, and F1 Score vs Threshold (Filtered)\")\n",
    "plt.xlabel(\"Threshold\")\n",
    "plt.ylabel(\"Score\")\n",
    "plt.legend()\n",
    "plt.show()"
   ]
  }
 ],
 "metadata": {
  "kernelspec": {
   "display_name": "sd-env-12",
   "language": "python",
   "name": "python3"
  },
  "language_info": {
   "codemirror_mode": {
    "name": "ipython",
    "version": 3
   },
   "file_extension": ".py",
   "mimetype": "text/x-python",
   "name": "python",
   "nbconvert_exporter": "python",
   "pygments_lexer": "ipython3",
   "version": "3.12.4"
  }
 },
 "nbformat": 4,
 "nbformat_minor": 2
}
