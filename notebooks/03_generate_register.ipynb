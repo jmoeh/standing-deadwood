{
 "cells": [
  {
   "cell_type": "code",
   "execution_count": 1,
   "metadata": {},
   "outputs": [],
   "source": [
    "import os\n",
    "import pandas as pd\n",
    "from tqdm import tqdm"
   ]
  },
  {
   "cell_type": "code",
   "execution_count": 2,
   "metadata": {},
   "outputs": [],
   "source": [
    "tiles_dir = \"/net/scratch/jmoehring/tiles/\"\n",
    "metadata_path = \"/net/scratch/jmoehring/metadata_manual_with_resolution.csv\""
   ]
  },
  {
   "cell_type": "code",
   "execution_count": 3,
   "metadata": {},
   "outputs": [],
   "source": [
    "metadata_df = pd.read_csv(metadata_path)\n",
    "# transoform df to dict of dicts with filename as key\n",
    "metadata_dict = metadata_df.set_index('filename').T.to_dict('dict')"
   ]
  },
  {
   "cell_type": "code",
   "execution_count": 4,
   "metadata": {},
   "outputs": [],
   "source": [
    "def process_file(file, root):\n",
    "    # get name of file\n",
    "    file_name = file.split(\"/\")[-1]\n",
    "    if file_name.endswith(\".tif\") and not \"mask\" in file_name:\n",
    "        # get folder name two above the file\n",
    "        base_file_folder = root.split(\"/\")[-2]\n",
    "        base_file_name = f\"{base_file_folder}.tif\"\n",
    "        resolution = root.split(\"/\")[-1]\n",
    "        base_file_meta = metadata_dict[base_file_name]\n",
    "        # extract x and y from file name with format \"x_y.tif\"\n",
    "        x,y = file_name.split(\".\")[0].split(\"_\")\n",
    "        register_row = {\n",
    "            \"base_file_name\": base_file_name,\n",
    "            \"file_path\": file,\n",
    "            \"resolution\": resolution,\n",
    "            \"x\": x,\n",
    "            \"y\": y,\n",
    "            \"label_quality\": base_file_meta[\"label_quality\"],\n",
    "        }\n",
    "        return register_row\n"
   ]
  },
  {
   "cell_type": "code",
   "execution_count": 5,
   "metadata": {},
   "outputs": [],
   "source": [
    "register_rows = []\n",
    "for root, dirs, files in os.walk(tiles_dir):\n",
    "    for file in [os.path.join(root, file) for file in files]:\n",
    "        register_row = process_file(file, root)\n",
    "        if register_row:\n",
    "            register_rows.append(register_row)\n"
   ]
  },
  {
   "cell_type": "code",
   "execution_count": 6,
   "metadata": {},
   "outputs": [],
   "source": [
    "register_df = pd.DataFrame(register_rows)"
   ]
  },
  {
   "cell_type": "code",
   "execution_count": 10,
   "metadata": {},
   "outputs": [],
   "source": [
    "# add boolean column \"original\" which is true for all tiles with the lowest resolution in the same base_file_name\n",
    "register_df[\"original\"] = register_df.groupby(\"base_file_name\")[\"resolution\"].transform(lambda x: x == x.min()) "
   ]
  },
  {
   "cell_type": "code",
   "execution_count": 8,
   "metadata": {},
   "outputs": [],
   "source": [
    "register_df.to_csv(\"/net/scratch/jmoehring/tiles_register.csv\", index=False)"
   ]
  }
 ],
 "metadata": {
  "kernelspec": {
   "display_name": "venv",
   "language": "python",
   "name": "python3"
  },
  "language_info": {
   "codemirror_mode": {
    "name": "ipython",
    "version": 3
   },
   "file_extension": ".py",
   "mimetype": "text/x-python",
   "name": "python",
   "nbconvert_exporter": "python",
   "pygments_lexer": "ipython3",
   "version": "3.8.10"
  }
 },
 "nbformat": 4,
 "nbformat_minor": 2
}
