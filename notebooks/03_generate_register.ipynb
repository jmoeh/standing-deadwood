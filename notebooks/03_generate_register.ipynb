{
 "cells": [
  {
   "cell_type": "code",
   "execution_count": 1,
   "metadata": {},
   "outputs": [],
   "source": [
    "import os\n",
    "import pandas as pd\n",
    "from pyproj import Transformer\n",
    "import sys\n",
    "import geopandas as gpd\n",
    "from shapely.geometry import Point\n",
    "import numpy as np\n",
    "\n",
    "# Add the parent directory to sys.path\n",
    "sys.path.append(os.path.dirname(os.path.realpath(os.path.abspath(\"\"))))\n",
    "\n",
    "from utils.parallel import paral"
   ]
  },
  {
   "cell_type": "code",
   "execution_count": 2,
   "metadata": {},
   "outputs": [],
   "source": [
    "tiles_dir = \"/net/scratch/jmoehring/tiles_1024/\"\n",
    "metadata_path = \"/net/scratch/jmoehring/metadata_manual_with_resolution.csv\""
   ]
  },
  {
   "cell_type": "code",
   "execution_count": 3,
   "metadata": {},
   "outputs": [],
   "source": [
    "ecoregion_gdf = gpd.read_file(\"/net/scratch/jmoehring/wwf_terr_ecos.shp\")\n",
    "metadata_df = pd.read_csv(metadata_path)\n",
    "metadata_dict = metadata_df.set_index(\"filename\").T.to_dict(\"dict\")"
   ]
  },
  {
   "cell_type": "code",
   "execution_count": 4,
   "metadata": {},
   "outputs": [],
   "source": [
    "# transform center_lat and center_lon to EPSG:4326 if crs is not EPSG:4326\n",
    "def transform_coordinates(row):\n",
    "    if row[\"crs\"] != \"EPSG:4326\":\n",
    "        transformer = Transformer.from_crs(row[\"crs\"], \"EPSG:4326\", always_xy=True)\n",
    "        return pd.Series(transformer.transform(row[\"center_lon\"], row[\"center_lat\"]))\n",
    "    else:\n",
    "        return pd.Series([row[\"center_lon\"], row[\"center_lat\"]])"
   ]
  },
  {
   "cell_type": "code",
   "execution_count": 5,
   "metadata": {},
   "outputs": [],
   "source": [
    "# find corresponding ecoregion for each image and add the biome value as new column\n",
    "def find_ecoregion(row):\n",
    "    point = Point(row[\"center_lon\"], row[\"center_lat\"])\n",
    "    ecoregions = ecoregion_gdf[ecoregion_gdf.geometry.contains(point)]\n",
    "    if len(ecoregions) == 1:\n",
    "        return ecoregions[\"BIOME\"].iloc[0]\n",
    "    else:\n",
    "        raise ValueError(f\"Point {point} is in {len(ecoregions)} ecoregions\")"
   ]
  },
  {
   "cell_type": "code",
   "execution_count": 6,
   "metadata": {
    "metadata": {}
   },
   "outputs": [],
   "source": [
    "def process_file(path):\n",
    "    file, root = path\n",
    "    file_name = file.split(\"/\")[-1]\n",
    "    if file_name.endswith(\".tif\") and not \"mask\" in file_name:\n",
    "        # get folder name two above the file\n",
    "        base_file_folder = root.split(\"/\")[-2]\n",
    "        base_file_name = f\"{base_file_folder}.tif\"\n",
    "        resolution = root.split(\"/\")[-1]\n",
    "        base_file_meta = metadata_dict[base_file_name]\n",
    "        # extract x and y from file name with format \"x_y.tif\"\n",
    "        x, y = file_name.split(\".\")[0].split(\"_\")\n",
    "        # get absolute path of the file\n",
    "        file_path = os.path.join(root, file_name)\n",
    "        register_row = {\n",
    "            \"base_file_name\": base_file_name,\n",
    "            \"file_path\": file_path,\n",
    "            \"global_file_path\": file_path.replace(tiles_dir, \"/\"),\n",
    "            \"resolution\": resolution,\n",
    "            \"x\": x,\n",
    "            \"y\": y,\n",
    "            \"label_quality\": base_file_meta[\"label_quality\"],\n",
    "        }\n",
    "        return register_row"
   ]
  },
  {
   "cell_type": "code",
   "execution_count": 7,
   "metadata": {},
   "outputs": [],
   "source": [
    "# add column with EPSG:4326 lat and long of the center of the image. If the image is not in EPSG:4326, the center of the image is calculated in the original projection\n",
    "metadata_df[\"center_lat\"] = (metadata_df[\"north\"] + metadata_df[\"south\"]) / 2\n",
    "metadata_df[\"center_lon\"] = (metadata_df[\"east\"] + metadata_df[\"west\"]) / 2\n",
    "\n",
    "# apply transforma_coordinates to the metadata_df\n",
    "metadata_df[[\"center_lon\", \"center_lat\"]] = metadata_df.apply(\n",
    "    transform_coordinates, axis=1\n",
    ")\n",
    "metadata_df[\"biome\"] = metadata_df.apply(find_ecoregion, axis=1)"
   ]
  },
  {
   "cell_type": "code",
   "execution_count": 8,
   "metadata": {
    "metadata": {}
   },
   "outputs": [],
   "source": [
    "paths = [(file, root) for root, _, files in os.walk(tiles_dir) for file in files]"
   ]
  },
  {
   "cell_type": "code",
   "execution_count": 9,
   "metadata": {
    "metadata": {}
   },
   "outputs": [
    {
     "name": "stderr",
     "output_type": "stream",
     "text": [
      "process_file: 100%|██████████| 400375/400375 [03:17<00:00, 2025.23jobs/s]\n"
     ]
    }
   ],
   "source": [
    "register_rows = paral(process_file, [paths], num_cores=20)\n",
    "register_rows = [row for row in register_rows if row is not None]"
   ]
  },
  {
   "cell_type": "code",
   "execution_count": 10,
   "metadata": {
    "metadata": {}
   },
   "outputs": [],
   "source": [
    "register_df = pd.DataFrame(register_rows)"
   ]
  },
  {
   "cell_type": "code",
   "execution_count": 11,
   "metadata": {
    "metadata": {}
   },
   "outputs": [],
   "source": [
    "resolution_bins = np.arange(0, 0.21, 0.02)\n",
    "register_df[\"resolution_bin\"] = resolution_bins[\n",
    "    np.digitize(register_df[\"resolution\"].astype(float), resolution_bins) - 1\n",
    "]"
   ]
  },
  {
   "cell_type": "code",
   "execution_count": 12,
   "metadata": {
    "metadata": {}
   },
   "outputs": [],
   "source": [
    "# add boolean column \"original\" which is true for all tiles with the lowest resolution in the same base_file_name\n",
    "register_df[\"original\"] = register_df.groupby(\"base_file_name\")[\"resolution\"].transform(\n",
    "    lambda x: x == x.min()\n",
    ")"
   ]
  },
  {
   "cell_type": "code",
   "execution_count": 13,
   "metadata": {
    "metadata": {}
   },
   "outputs": [],
   "source": [
    "# add biome column to register_df joined on the filename\n",
    "register_df = register_df.merge(\n",
    "    right=metadata_df[[\"filename\", \"biome\"]],\n",
    "    left_on=\"base_file_name\",\n",
    "    right_on=\"filename\",\n",
    ").drop(columns=\"filename\")"
   ]
  },
  {
   "cell_type": "code",
   "execution_count": 14,
   "metadata": {
    "metadata": {}
   },
   "outputs": [
    {
     "data": {
      "text/plain": [
       "<Axes: >"
      ]
     },
     "execution_count": 14,
     "metadata": {},
     "output_type": "execute_result"
    },
    {
     "data": {
      "image/png": "[encoded data removed]",
      "text/plain": [
       "<Figure size 640x480 with 1 Axes>"
      ]
     },
     "metadata": {},
     "output_type": "display_data"
    }
   ],
   "source": [
    "register_df[\"resolution_bin\"].hist()"
   ]
  },
  {
   "cell_type": "code",
   "execution_count": 15,
   "metadata": {
    "metadata": {}
   },
   "outputs": [],
   "source": [
    "register_df.to_csv(\"/net/scratch/jmoehring/tiles_register_1024_biome.csv\", index=False)"
   ]
  }
 ],
 "metadata": {
  "kernelspec": {
   "display_name": "venv",
   "language": "python",
   "name": "python3"
  },
  "language_info": {
   "codemirror_mode": {
    "name": "ipython",
    "version": 3
   },
   "file_extension": ".py",
   "mimetype": "text/x-python",
   "name": "python",
   "nbconvert_exporter": "python",
   "pygments_lexer": "ipython3",
   "version": "3.8.19"
  }
 },
 "nbformat": 4,
 "nbformat_minor": 2
}
