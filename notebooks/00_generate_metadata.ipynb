{
 "cells": [
  {
   "cell_type": "code",
   "execution_count": 1,
   "metadata": {},
   "outputs": [],
   "source": [
    "import os\n",
    "import pandas as pd\n",
    "import rasterio\n",
    "from tqdm import tqdm"
   ]
  },
  {
   "cell_type": "code",
   "execution_count": 2,
   "metadata": {},
   "outputs": [],
   "source": [
    "input_dir = \"/net/data_ssd/tree_mortality_orthophotos/orthophotos/\"\n",
    "output_file = \"~/scratch/images_meta.csv\""
   ]
  },
  {
   "cell_type": "code",
   "execution_count": 3,
   "metadata": {},
   "outputs": [],
   "source": [
    "# Initialize an empty DataFrame\n",
    "df = pd.DataFrame(\n",
    "    columns=[\"filename\", \"left\", \"right\", \"bottom\", \"top\", \"width\", \"height\", \"crs\"]\n",
    ")"
   ]
  },
  {
   "cell_type": "code",
   "execution_count": 4,
   "metadata": {},
   "outputs": [
    {
     "name": "stderr",
     "output_type": "stream",
     "text": [
      "100%|██████████| 228/228 [00:00<00:00, 355.62it/s]\n"
     ]
    }
   ],
   "source": [
    "# Iterate over all GeoTIFF files in the directory\n",
    "for filename in tqdm(os.listdir(input_dir)):\n",
    "    if filename.endswith(\".tif\"):\n",
    "        filepath = os.path.join(input_dir, filename)\n",
    "\n",
    "        # Read the image\n",
    "        with rasterio.open(filepath) as src:\n",
    "            # Extract the bounds and resolution\n",
    "            bounds = src.bounds\n",
    "            meta = src.meta\n",
    "\n",
    "        # Add a new row to the DataFrame\n",
    "        df = pd.concat(\n",
    "            [\n",
    "                df,\n",
    "                pd.DataFrame(\n",
    "                    [\n",
    "                        {\n",
    "                            \"filename\": filename,\n",
    "                            \"left\": bounds.left,\n",
    "                            \"right\": bounds.right,\n",
    "                            \"bottom\": bounds.bottom,\n",
    "                            \"top\": bounds.top,\n",
    "                            \"width\": meta[\"width\"],\n",
    "                            \"height\": meta[\"height\"],\n",
    "                            \"crs\": meta[\"crs\"],\n",
    "                        }\n",
    "                    ]\n",
    "                ),\n",
    "            ],\n",
    "            axis=0,\n",
    "            ignore_index=True,\n",
    "        )"
   ]
  },
  {
   "cell_type": "code",
   "execution_count": 5,
   "metadata": {},
   "outputs": [],
   "source": [
    "# Save the DataFrame to a CSV file\n",
    "df.to_csv(output_file, index=False)"
   ]
  }
 ],
 "metadata": {
  "kernelspec": {
   "display_name": "venv",
   "language": "python",
   "name": "python3"
  },
  "language_info": {
   "codemirror_mode": {
    "name": "ipython",
    "version": 3
   },
   "file_extension": ".py",
   "mimetype": "text/x-python",
   "name": "python",
   "nbconvert_exporter": "python",
   "pygments_lexer": "ipython3",
   "version": "3.8.10"
  }
 },
 "nbformat": 4,
 "nbformat_minor": 2
}
