{
 "cells": [
  {
   "cell_type": "code",
   "execution_count": 3,
   "metadata": {
    "metadata": {}
   },
   "outputs": [],
   "source": [
    "import os\n",
    "\n",
    "import pandas as pd\n",
    "import rasterio\n",
    "from tqdm import tqdm"
   ]
  },
  {
   "cell_type": "code",
   "execution_count": 4,
   "metadata": {
    "metadata": {}
   },
   "outputs": [],
   "source": [
    "input_dir = \"/net/data_ssd/tree_mortality_orthophotos/orthophotos/\"\n",
    "input_meta_file = \"/net/home/jmoehring/scratch/metadata_manual.database.v2.expanded.csv\"\n",
    "output_file = \"/net/home/jmoehring/scratch/metadata_manual_with_resolution.csv\""
   ]
  },
  {
   "cell_type": "code",
   "execution_count": 5,
   "metadata": {
    "metadata": {}
   },
   "outputs": [],
   "source": [
    "# read existing metadata file\n",
    "meta_df = pd.read_csv(input_meta_file)"
   ]
  },
  {
   "cell_type": "code",
   "execution_count": 6,
   "metadata": {
    "metadata": {}
   },
   "outputs": [],
   "source": [
    "# Initialize an empty DataFrame\n",
    "update_df = pd.DataFrame(\n",
    "    columns=[\n",
    "        \"filename\",\n",
    "        \"west\",\n",
    "        \"east\",\n",
    "        \"south\",\n",
    "        \"north\",\n",
    "        \"width\",\n",
    "        \"height\",\n",
    "        \"crs\",\n",
    "        \"has_labels\",\n",
    "        \"label_quality\",\n",
    "    ]\n",
    ")"
   ]
  },
  {
   "cell_type": "code",
   "execution_count": 7,
   "metadata": {
    "metadata": {}
   },
   "outputs": [
    {
     "name": "stderr",
     "output_type": "stream",
     "text": [
      "100%|██████████| 263/263 [00:01<00:00, 135.31it/s]\n"
     ]
    }
   ],
   "source": [
    "# Iterate over all GeoTIFF files in the directory\n",
    "for filename in tqdm(os.listdir(input_dir)):\n",
    "    # find corresponding row in metadata file\n",
    "    meta_row = meta_df[meta_df[\"filename\"] == filename]\n",
    "    if filename.endswith(\".tif\"):\n",
    "        filepath = os.path.join(input_dir, filename)\n",
    "        # Read the image\n",
    "        with rasterio.open(filepath) as src:\n",
    "            # Extract the bounds and resolution\n",
    "            bounds = src.bounds\n",
    "            file_meta = src.meta\n",
    "        # Add a new row to the DataFrame\n",
    "        update_df = pd.concat(\n",
    "            [\n",
    "                update_df,\n",
    "                pd.DataFrame(\n",
    "                    [\n",
    "                        {\n",
    "                            \"filename\": filename,\n",
    "                            \"west\": bounds.left,\n",
    "                            \"east\": bounds.right,\n",
    "                            \"south\": bounds.bottom,\n",
    "                            \"north\": bounds.top,\n",
    "                            \"width\": file_meta[\"width\"],\n",
    "                            \"height\": file_meta[\"height\"],\n",
    "                            \"crs\": file_meta[\"crs\"],\n",
    "                            \"has_labels\": meta_row[\"has_labels\"].values[0],\n",
    "                            \"label_quality\": meta_row[\"label_quality\"].values[0],\n",
    "                        }\n",
    "                    ]\n",
    "                ),\n",
    "            ],\n",
    "            axis=0,\n",
    "            ignore_index=True,\n",
    "        )"
   ]
  },
  {
   "cell_type": "code",
   "execution_count": 8,
   "metadata": {
    "metadata": {}
   },
   "outputs": [],
   "source": [
    "# Save the DataFrame to a CSV file\n",
    "update_df.to_csv(output_file, index=False)"
   ]
  }
 ],
 "metadata": {
  "kernelspec": {
   "display_name": "venv",
   "language": "python",
   "name": "python3"
  },
  "language_info": {
   "codemirror_mode": {
    "name": "ipython",
    "version": 3
   },
   "file_extension": ".py",
   "mimetype": "text/x-python",
   "name": "python",
   "nbconvert_exporter": "python",
   "pygments_lexer": "ipython3",
   "version": "3.8.19"
  }
 },
 "nbformat": 4,
 "nbformat_minor": 2
}
