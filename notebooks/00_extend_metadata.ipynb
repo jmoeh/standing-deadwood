{
 "cells": [
  {
   "cell_type": "code",
   "execution_count": 9,
   "metadata": {},
   "outputs": [],
   "source": [
    "import os\n",
    "\n",
    "import pandas as pd\n",
    "import rasterio\n",
    "from tqdm import tqdm"
   ]
  },
  {
   "cell_type": "code",
   "execution_count": 10,
   "metadata": {},
   "outputs": [],
   "source": [
    "input_dir = \"/net/data_ssd/tree_mortality_orthophotos/orthophotos/\"\n",
    "input_meta_file = \"/net/home/jmoehring/scratch/metadata_manual.csv\"\n",
    "output_file = \"/net/home/jmoehring/scratch/metadata_manual_with_resolution.csv\""
   ]
  },
  {
   "cell_type": "code",
   "execution_count": 11,
   "metadata": {},
   "outputs": [],
   "source": [
    "# read existing metadata file\n",
    "meta_df = pd.read_csv(input_meta_file)"
   ]
  },
  {
   "cell_type": "code",
   "execution_count": 12,
   "metadata": {},
   "outputs": [],
   "source": [
    "# Initialize an empty DataFrame\n",
    "update_df = pd.DataFrame(\n",
    "    columns=[\n",
    "        \"filename\",\n",
    "        \"west\",\n",
    "        \"east\",\n",
    "        \"south\",\n",
    "        \"north\",\n",
    "        \"width\",\n",
    "        \"height\",\n",
    "        \"crs\",\n",
    "        \"has_labels\",\n",
    "        \"label_quality\",\n",
    "    ]\n",
    ")"
   ]
  },
  {
   "cell_type": "code",
   "execution_count": 13,
   "metadata": {},
   "outputs": [
    {
     "name": "stderr",
     "output_type": "stream",
     "text": [
      "  0%|          | 0/262 [00:00<?, ?it/s]"
     ]
    },
    {
     "name": "stderr",
     "output_type": "stream",
     "text": [
      "100%|██████████| 262/262 [00:01<00:00, 160.50it/s]\n"
     ]
    }
   ],
   "source": [
    "# Iterate over all GeoTIFF files in the directory\n",
    "for filename in tqdm(os.listdir(input_dir)):\n",
    "    # find corresponding row in metadata file\n",
    "    meta_row = meta_df[meta_df[\"filename\"] == filename]\n",
    "    if filename.endswith(\".tif\"):\n",
    "        filepath = os.path.join(input_dir, filename)\n",
    "        # Read the image\n",
    "        with rasterio.open(filepath) as src:\n",
    "            # Extract the bounds and resolution\n",
    "            bounds = src.bounds\n",
    "            file_meta = src.meta\n",
    "        # Add a new row to the DataFrame\n",
    "        update_df = pd.concat(\n",
    "            [\n",
    "                update_df,\n",
    "                pd.DataFrame(\n",
    "                    [\n",
    "                        {\n",
    "                            \"filename\": filename,\n",
    "                            \"west\": bounds.left,\n",
    "                            \"east\": bounds.right,\n",
    "                            \"south\": bounds.bottom,\n",
    "                            \"north\": bounds.top,\n",
    "                            \"width\": file_meta[\"width\"],\n",
    "                            \"height\": file_meta[\"height\"],\n",
    "                            \"crs\": file_meta[\"crs\"],\n",
    "                            \"has_labels\": meta_row[\"has_labels\"].values[0],\n",
    "                            \"label_quality\": meta_row[\"label_quality\"].values[0],\n",
    "                        }\n",
    "                    ]\n",
    "                ),\n",
    "            ],\n",
    "            axis=0,\n",
    "            ignore_index=True,\n",
    "        )"
   ]
  },
  {
   "cell_type": "code",
   "execution_count": 14,
   "metadata": {},
   "outputs": [
    {
     "data": {
      "text/html": [
       "<div>\n",
       "<style scoped>\n",
       "    .dataframe tbody tr th:only-of-type {\n",
       "        vertical-align: middle;\n",
       "    }\n",
       "\n",
       "    .dataframe tbody tr th {\n",
       "        vertical-align: top;\n",
       "    }\n",
       "\n",
       "    .dataframe thead th {\n",
       "        text-align: right;\n",
       "    }\n",
       "</style>\n",
       "<table border=\"1\" class=\"dataframe\">\n",
       "  <thead>\n",
       "    <tr style=\"text-align: right;\">\n",
       "      <th></th>\n",
       "      <th>filename</th>\n",
       "      <th>west</th>\n",
       "      <th>east</th>\n",
       "      <th>south</th>\n",
       "      <th>north</th>\n",
       "      <th>width</th>\n",
       "      <th>height</th>\n",
       "      <th>crs</th>\n",
       "      <th>has_labels</th>\n",
       "      <th>label_quality</th>\n",
       "    </tr>\n",
       "  </thead>\n",
       "  <tbody>\n",
       "    <tr>\n",
       "      <th>16</th>\n",
       "      <td>californiapratima_Upper_2018_rgb_training_area...</td>\n",
       "      <td>-119.068856</td>\n",
       "      <td>-119.034182</td>\n",
       "      <td>37.001161</td>\n",
       "      <td>37.037778</td>\n",
       "      <td>34961</td>\n",
       "      <td>36921</td>\n",
       "      <td>(init)</td>\n",
       "      <td>1</td>\n",
       "      <td>1.0</td>\n",
       "    </tr>\n",
       "  </tbody>\n",
       "</table>\n",
       "</div>"
      ],
      "text/plain": [
       "                                             filename        west        east  \\\n",
       "16  californiapratima_Upper_2018_rgb_training_area... -119.068856 -119.034182   \n",
       "\n",
       "        south      north  width height     crs has_labels  label_quality  \n",
       "16  37.001161  37.037778  34961  36921  (init)          1            1.0  "
      ]
     },
     "execution_count": 14,
     "metadata": {},
     "output_type": "execute_result"
    }
   ],
   "source": [
    "update_df[update_df[\"filename\"] == \"californiapratima_Upper_2018_rgb_training_area.tif\"]"
   ]
  },
  {
   "cell_type": "code",
   "execution_count": 15,
   "metadata": {},
   "outputs": [],
   "source": [
    "# Save the DataFrame to a CSV file\n",
    "update_df.to_csv(output_file, index=False)"
   ]
  }
 ],
 "metadata": {
  "kernelspec": {
   "display_name": "venv",
   "language": "python",
   "name": "python3"
  },
  "language_info": {
   "codemirror_mode": {
    "name": "ipython",
    "version": 3
   },
   "file_extension": ".py",
   "mimetype": "text/x-python",
   "name": "python",
   "nbconvert_exporter": "python",
   "pygments_lexer": "ipython3",
   "version": "3.8.19"
  }
 },
 "nbformat": 4,
 "nbformat_minor": 2
}
