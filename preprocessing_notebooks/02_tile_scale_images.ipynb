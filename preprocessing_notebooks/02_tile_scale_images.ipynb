{
 "cells": [
  {
   "cell_type": "code",
   "execution_count": 1,
   "metadata": {},
   "outputs": [],
   "source": [
    "import os\n",
    "import sys\n",
    "\n",
    "import geopandas as gpd\n",
    "import pandas as pd\n",
    "import numpy as np\n",
    "import rasterio\n",
    "from rasterio import windows\n",
    "from rasterio.features import geometry_window\n",
    "import utm\n",
    "from pyproj import Transformer\n",
    "from tqdm import tqdm\n",
    "\n",
    "# Add the parent directory to sys.path\n",
    "sys.path.append(os.path.dirname(os.path.realpath(os.path.abspath(\"\"))))\n",
    "\n",
    "from utils.parallel import paral\n",
    "\n",
    "\n",
    "os.environ[\"GDAL_PAM_ENABLED\"] = \"NO\""
   ]
  },
  {
   "cell_type": "code",
   "execution_count": 2,
   "metadata": {
    "metadata": {}
   },
   "outputs": [],
   "source": [
    "tile_width = 1024\n",
    "tile_height = 1024\n",
    "tile_overlap = 512\n",
    "\n",
    "cell_widths = np.arange(0.02, 0.28, 0.02)\n",
    "\n",
    "images_dir = \"/net/data_ssd/tree_mortality_orthophotos/orthophotos/\"\n",
    "masks_dir = \"/net/scratch/cmosig/segmentation_meta/masks/\"\n",
    "labels_dir = \"/net/data_ssd/tree_mortality_orthophotos/labels_and_aois/\"\n",
    "metadata_path = \"/net/scratch/cmosig/segmentation_meta/metadata_manual_with_resolution.csv\"\n",
    "tiles_out_dir = \"/net/scratch/cmosig/segmentation_meta/tiles_2025/\"\n",
    "\n",
    "cores = 128"
   ]
  },
  {
   "cell_type": "code",
   "execution_count": 3,
   "metadata": {
    "metadata": {}
   },
   "outputs": [],
   "source": [
    "def shorten_list(arr, target):\n",
    "    index = next((i for i, x in enumerate(arr) if x > target), None)\n",
    "    if index is not None:\n",
    "        shortened_list = arr[index:]\n",
    "        return shortened_list\n",
    "    else:\n",
    "        return []"
   ]
  },
  {
   "cell_type": "code",
   "execution_count": 4,
   "metadata": {
    "metadata": {}
   },
   "outputs": [],
   "source": [
    "def get_utm_crs(dr):\n",
    "    # Define UTM ranges for WGS84 and ETRS89\n",
    "    utm_northern_wgs84_range = range(32601, 32661)\n",
    "    utm_southern_wgs84_range = range(32701, 32761)\n",
    "    utm_northern_etrs89_range = range(25801, 25861)\n",
    "    epsg_code = dr.crs.to_epsg()\n",
    "\n",
    "    if epsg_code in utm_northern_wgs84_range or epsg_code in utm_southern_wgs84_range:\n",
    "        return dr.crs\n",
    "    if epsg_code in utm_northern_etrs89_range:\n",
    "        return dr.crs\n",
    "\n",
    "    # Extract the lat and lon from the dataset transform (assuming affine transform)\n",
    "    lon, lat = dr.transform[2], dr.transform[5]\n",
    "    if epsg_code != 4326:\n",
    "        transformer = Transformer.from_crs(\n",
    "            f\"epsg:{epsg_code}\", \"epsg:4326\", always_xy=True\n",
    "        )\n",
    "        lon, lat = transformer.transform(dr.transform[2], dr.transform[5])\n",
    "\n",
    "    _, _, zone_number, zone_letter = utm.from_latlon(lat, lon)\n",
    "    # Determine if the point is in the northern or southern hemisphere\n",
    "    if zone_letter >= \"N\":\n",
    "        # Northern hemisphere\n",
    "        utm_code = 32600 + zone_number  # Default to WGS84 Northern Hemisphere\n",
    "    else:\n",
    "        # Southern hemisphere\n",
    "        utm_code = 32700 + zone_number  # WGS84 Southern Hemisphere\n",
    "    utm_crs = f\"EPSG:{utm_code}\"\n",
    "    return utm_crs"
   ]
  },
  {
   "cell_type": "code",
   "execution_count": 5,
   "metadata": {
    "metadata": {}
   },
   "outputs": [],
   "source": [
    "def reproject_dataset_to_utm(dataset, resampling_method):\n",
    "    utm_crs = get_utm_crs(dataset)\n",
    "    default_transform, width, height = rasterio.warp.calculate_default_transform(\n",
    "        dataset.crs, utm_crs, dataset.width, dataset.height, *dataset.bounds\n",
    "    )\n",
    "    kwargs = dataset.meta.copy()\n",
    "    kwargs.update(\n",
    "        {\n",
    "            \"crs\": utm_crs,\n",
    "            \"transform\": default_transform,\n",
    "            \"width\": width,\n",
    "            \"height\": height,\n",
    "        }\n",
    "    )\n",
    "    memfile = rasterio.io.MemoryFile()\n",
    "    with memfile.open(**kwargs, compress=\"DEFLATE\") as dst:\n",
    "        for i in range(1, dataset.count + 1):\n",
    "            rasterio.warp.reproject(\n",
    "                source=rasterio.band(dataset, i),\n",
    "                destination=rasterio.band(dst, i),\n",
    "                src_transform=dataset.transform,\n",
    "                src_crs=dataset.crs,\n",
    "                dst_transform=default_transform,\n",
    "                dst_crs=utm_crs,\n",
    "                resampling=resampling_method,\n",
    "            )\n",
    "    return memfile"
   ]
  },
  {
   "cell_type": "code",
   "execution_count": 6,
   "metadata": {
    "metadata": {}
   },
   "outputs": [],
   "source": [
    "def rescale_dataset_to_cell_width(dataset, cell_width, resampling_method):\n",
    "    kwargs = dataset.meta.copy()\n",
    "    kwargs.update(\n",
    "        {\n",
    "            \"width\": int(\n",
    "                np.ceil(dataset.width * abs(dataset.transform.a) / cell_width)\n",
    "            ),\n",
    "            \"height\": int(\n",
    "                np.ceil(dataset.height * abs(dataset.transform.e) / cell_width)\n",
    "            ),\n",
    "            \"transform\": rasterio.Affine(\n",
    "                cell_width,\n",
    "                0.0,\n",
    "                dataset.transform.c,\n",
    "                0.0,\n",
    "                -cell_width,\n",
    "                dataset.transform.f,\n",
    "            ),\n",
    "        }\n",
    "    )\n",
    "    memfile = rasterio.io.MemoryFile()\n",
    "    with memfile.open(\n",
    "        **kwargs,\n",
    "        compress=\"DEFLATE\",\n",
    "        tiled=True,\n",
    "        blockxsize=tile_overlap,\n",
    "        blockysize=tile_overlap\n",
    "    ) as dst:\n",
    "        for i in range(1, dataset.count + 1):\n",
    "            rasterio.warp.reproject(\n",
    "                source=rasterio.band(dataset, i),\n",
    "                destination=rasterio.band(dst, i),\n",
    "                src_transform=dataset.transform,\n",
    "                src_crs=dataset.crs,\n",
    "                dst_transform=kwargs[\"transform\"],\n",
    "                dst_crs=dataset.crs,\n",
    "                resampling=resampling_method,\n",
    "            )\n",
    "    return memfile"
   ]
  },
  {
   "cell_type": "code",
   "execution_count": 7,
   "metadata": {
    "metadata": {}
   },
   "outputs": [],
   "source": [
    "metadata_df = pd.read_csv(metadata_path)"
   ]
  },
  {
   "cell_type": "code",
   "execution_count": 8,
   "metadata": {
    "metadata": {}
   },
   "outputs": [],
   "source": [
    "def process_file(mask_filename):\n",
    "    image_filename = mask_filename.replace(\"_mask.tif\", \".tif\")\n",
    "    mask_filepath = os.path.join(masks_dir, mask_filename)\n",
    "\n",
    "    register_rows = []\n",
    "    image_filepath = os.path.join(images_dir, image_filename)\n",
    "\n",
    "    file_meta = metadata_df[metadata_df[\"filename\"] == image_filename].to_dict(\n",
    "        \"records\"\n",
    "    )[0]\n",
    "\n",
    "    label_filename = image_filename.replace(\".tif\", \"_polygons.gpkg\")\n",
    "    label_filepath = os.path.join(labels_dir, label_filename)\n",
    "    image_out_dir = os.path.join(tiles_out_dir, image_filename.replace(\".tif\", \"\"))\n",
    "    if os.path.exists(image_out_dir):\n",
    "        return\n",
    "\n",
    "    with rasterio.open(image_filepath) as idr, rasterio.open(mask_filepath) as mdr:\n",
    "        metric_transform = rasterio.warp.calculate_default_transform(\n",
    "            src_crs=idr.crs,\n",
    "            dst_crs=\"EPSG:8857\",\n",
    "            width=idr.width,\n",
    "            height=idr.height,\n",
    "            left=idr.bounds[0],\n",
    "            bottom=idr.bounds[1],\n",
    "            right=idr.bounds[2],\n",
    "            top=idr.bounds[3],\n",
    "        )\n",
    "        if metric_transform[0][0] > max(cell_widths):\n",
    "            print(f\"Skipping {image_filename} due to resolution\")\n",
    "            return\n",
    "        image_memfile = reproject_dataset_to_utm(\n",
    "            idr, rasterio.enums.Resampling.bilinear\n",
    "        )\n",
    "        idr.close()\n",
    "        mask_memfile = reproject_dataset_to_utm(mdr, rasterio.enums.Resampling.nearest)\n",
    "        mdr.close()\n",
    "        image_repojected = rasterio.open(image_memfile, \"r+\")\n",
    "        mask_repojected = rasterio.open(mask_memfile, \"r+\")\n",
    "\n",
    "        gdf_label = gpd.read_file(label_filepath, layer=\"aoi\")\n",
    "        gdf_label = gdf_label.to_crs(image_repojected.crs)\n",
    "\n",
    "        for cell_width in sorted(\n",
    "            np.insert(\n",
    "                shorten_list(cell_widths, abs(image_repojected.transform[0])),\n",
    "                0,\n",
    "                abs(image_repojected.transform[0]),\n",
    "            )\n",
    "        ):\n",
    "            cell_width = round(cell_width, 3)\n",
    "\n",
    "            resolution_out_dir = os.path.join(image_out_dir, str(cell_width))\n",
    "            image_rescaled_memfile = rescale_dataset_to_cell_width(\n",
    "                image_repojected, cell_width, rasterio.enums.Resampling.bilinear\n",
    "            )\n",
    "            mask_rescaled_memfile = rescale_dataset_to_cell_width(\n",
    "                mask_repojected, cell_width, rasterio.enums.Resampling.nearest\n",
    "            )\n",
    "            image_rescaled = rasterio.open(image_rescaled_memfile, \"r+\")\n",
    "            mask_rescaled = rasterio.open(mask_rescaled_memfile, \"r+\")\n",
    "\n",
    "            for _, aoi_row in gdf_label.iterrows():\n",
    "                aoi_window = geometry_window(image_rescaled, [aoi_row.geometry])\n",
    "                xmin, ymin = aoi_window.col_off, aoi_window.row_off\n",
    "                xmax, ymax = xmin + aoi_window.width, ymin + aoi_window.height\n",
    "\n",
    "                for window in get_windows(\n",
    "                    xmin, ymin, xmax, ymax, tile_width, tile_height, tile_overlap\n",
    "                ):\n",
    "                    window_transform = windows.transform(\n",
    "                        window, image_rescaled.transform\n",
    "                    )\n",
    "                    image_tile_metadata = image_rescaled.meta.copy()\n",
    "                    image_tile_metadata.update(\n",
    "                        {\n",
    "                            \"transform\": window_transform,\n",
    "                            \"width\": window.width,\n",
    "                            \"height\": window.height,\n",
    "                        }\n",
    "                    )\n",
    "                    mask_tile_metadata = mask_rescaled.meta.copy()\n",
    "                    mask_tile_metadata.update(\n",
    "                        {\n",
    "                            \"transform\": window_transform,\n",
    "                            \"width\": window.width,\n",
    "                            \"height\": window.height,\n",
    "                        }\n",
    "                    )\n",
    "                    image_tile_name = f\"{window.col_off}_{window.row_off}.tif\"\n",
    "                    mask_tile_name = f\"{window.col_off}_{window.row_off}_mask.tif\"\n",
    "                    image_tile_path = os.path.join(resolution_out_dir, image_tile_name)\n",
    "                    mask_tile_path = os.path.join(resolution_out_dir, mask_tile_name)\n",
    "\n",
    "                    if os.path.exists(image_tile_path) or os.path.exists(\n",
    "                        mask_tile_path\n",
    "                    ):\n",
    "                        continue\n",
    "                    out_image = image_rescaled.read(window=window)\n",
    "                    out_mask = mask_rescaled.read(window=window)\n",
    "                    filled_fraction = 0\n",
    "                    if mask_tile_metadata[\"nodata\"] is None:\n",
    "                        filled_fraction = np.count_nonzero(out_mask) / out_mask.size\n",
    "                    else:\n",
    "                        filled_fraction = (\n",
    "                            np.count_nonzero(out_mask != mask_tile_metadata[\"nodata\"])\n",
    "                            / out_mask.size\n",
    "                        )\n",
    "\n",
    "                    if filled_fraction >= 0.3:\n",
    "                        os.makedirs(image_tile_path.rsplit(\"/\", 1)[0], exist_ok=True)\n",
    "                        with rasterio.open(\n",
    "                            image_tile_path,\n",
    "                            \"w\",\n",
    "                            **image_tile_metadata,\n",
    "                            compress=\"DEFLATE\",\n",
    "                        ) as dst:\n",
    "                            dst.write(out_image)\n",
    "                            dst.close()\n",
    "                        with rasterio.open(\n",
    "                            mask_tile_path,\n",
    "                            \"w\",\n",
    "                            **mask_tile_metadata,\n",
    "                            compress=\"DEFLATE\",\n",
    "                        ) as dst:\n",
    "                            dst.write(out_mask)\n",
    "                            dst.close()\n",
    "                        register_rows.append(\n",
    "                            {\n",
    "                                \"base_image_name\": image_filename,\n",
    "                                \"image_path\": image_tile_path,\n",
    "                                \"mask_path\": mask_tile_path,\n",
    "                                \"resolution\": cell_width,\n",
    "                                \"x\": window.col_off,\n",
    "                                \"y\": window.row_off,\n",
    "                                \"label_quality\": file_meta[\"label_quality\"],\n",
    "                            }\n",
    "                        )\n",
    "\n",
    "            image_rescaled.close()\n",
    "            mask_rescaled.close()\n",
    "            image_rescaled_memfile.close()\n",
    "            mask_rescaled_memfile.close()\n",
    "\n",
    "        image_repojected.close()\n",
    "        mask_repojected.close()\n",
    "        image_memfile.close()\n",
    "        mask_memfile.close()\n",
    "\n",
    "    return register_rows"
   ]
  },
  {
   "cell_type": "code",
   "execution_count": 9,
   "metadata": {
    "metadata": {}
   },
   "outputs": [
    {
     "name": "stderr",
     "output_type": "stream",
     "text": [
      "process_file:  19%|█▉        | 90/463 [00:09<00:24, 15.00jobs/s] "
     ]
    },
    {
     "name": "stdout",
     "output_type": "stream",
     "text": [
      "Skipping california_cropped_18_2020_8_5.tif due to resolution\n",
      "Skipping california_cropped_7_2020_7_26.tif due to resolution\n",
      "Skipping resampled_swissimage-dop10_2018_2590-1136_0.tif due to resolution\n",
      "Skipping california_cropped_15_2020_8_2.tif due to resolution\n",
      "Skipping california_cropped_1_2020_8_5.tif due to resolution\n",
      "Skipping california_cropped_13_2020_8_2.tif due to resolution\n"
     ]
    },
    {
     "name": "stderr",
     "output_type": "stream",
     "text": [
      "process_file:  32%|███▏      | 146/463 [00:09<00:09, 32.75jobs/s]"
     ]
    },
    {
     "name": "stdout",
     "output_type": "stream",
     "text": [
      "Skipping california_cropped_14_2020_8_2.tif due to resolution\n",
      "Skipping resampled_swissimage-dop10_2018_2692-1179_0.tif due to resolution\n",
      "Skipping resampled_swissimage-dop10_2022_2696-1215_0.tif due to resolution\n",
      "Skipping california_cropped_19_2020_8_5.tif due to resolution\n",
      "Skipping resampled_swissimage-dop10_2020_2576-1114_0.tif due to resolution\n",
      "Skipping california_cropped_0_2020_8_5.tif due to resolution\n",
      "Skipping resampled_swissimage-dop10_2022_2766-1213_0.tif due to resolution\n"
     ]
    },
    {
     "name": "stderr",
     "output_type": "stream",
     "text": [
      "process_file:  50%|████▉     | 231/463 [00:10<00:02, 83.01jobs/s]"
     ]
    },
    {
     "name": "stdout",
     "output_type": "stream",
     "text": [
      "Skipping california_cropped_6_2020_8_2.tif due to resolution\n",
      "Skipping california_cropped_12_2020_8_2.tif due to resolution\n",
      "Skipping california_cropped_11_2020_8_5.tif due to resolution\n",
      "Skipping california_cropped_8_2020_8_2.tif due to resolution\n"
     ]
    },
    {
     "name": "stderr",
     "output_type": "stream",
     "text": [
      "process_file:  62%|██████▏   | 286/463 [00:10<00:01, 125.93jobs/s]"
     ]
    },
    {
     "name": "stdout",
     "output_type": "stream",
     "text": [
      "Skipping california_cropped_3_2020_8_2.tif due to resolution\n",
      "Skipping california_cropped_5_2020_8_2.tif due to resolution\n",
      "Skipping california_cropped_4_2020_8_3.tif due to resolution\n",
      "Skipping california_cropped_17_2020_8_5.tif due to resolution\n"
     ]
    },
    {
     "name": "stderr",
     "output_type": "stream",
     "text": [
      "process_file:  82%|████████▏ | 381/463 [00:10<00:00, 215.14jobs/s]"
     ]
    },
    {
     "name": "stdout",
     "output_type": "stream",
     "text": [
      "Skipping california_cropped_16_2020_8_2.tif due to resolution\n",
      "Skipping california_cropped_9_2020_8_2.tif due to resolution\n",
      "Skipping california_cropped_10_2020_8_2.tif due to resolution\n",
      "Skipping resampled_swissimage-dop10_2020_2587-1131_0.tif due to resolution\n",
      "Skipping resampled_swissimage-dop10_2018_2594-1151_0.tif due to resolution\n",
      "Skipping resampled_swissimage-dop10_2021_2686-1139_0.tif due to resolution\n",
      "Skipping resampled_swissimage-dop10_2021_2633-1157_0.tif due to resolution\n",
      "Skipping california_cropped_2_2020_8_5.tif due to resolution\n"
     ]
    },
    {
     "name": "stderr",
     "output_type": "stream",
     "text": [
      "process_file: 100%|█████████▉| 462/463 [00:21<00:00, 174.15jobs/s]"
     ]
    }
   ],
   "source": [
    "results = paral(process_file, [os.listdir(masks_dir)], num_cores=cores)"
   ]
  }
 ],
 "metadata": {
  "kernelspec": {
   "display_name": "Python 3 (ipykernel)",
   "language": "python",
   "name": "python3"
  },
  "language_info": {
   "codemirror_mode": {
    "name": "ipython",
    "version": 3
   },
   "file_extension": ".py",
   "mimetype": "text/x-python",
   "name": "python",
   "nbconvert_exporter": "python",
   "pygments_lexer": "ipython3",
   "version": "3.12.3"
  }
 },
 "nbformat": 4,
 "nbformat_minor": 4
}
