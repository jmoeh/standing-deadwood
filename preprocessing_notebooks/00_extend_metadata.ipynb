{
 "cells": [
  {
   "cell_type": "code",
   "execution_count": 1,
   "metadata": {
    "metadata": {}
   },
   "outputs": [],
   "source": [
    "import os\n",
    "\n",
    "import pandas as pd\n",
    "import rasterio\n",
    "from tqdm import tqdm"
   ]
  },
  {
   "cell_type": "code",
   "execution_count": 10,
   "metadata": {
    "metadata": {}
   },
   "outputs": [],
   "source": [
    "input_dir = \"/net/data_ssd/tree_mortality_orthophotos/orthophotos/\"\n",
    "input_meta_file = \"/net/data_ssd/tree_mortality_orthophotos/metadata_manual.copy.csv\"\n",
    "output_file = \"/net/scratch/cmosig/segmentation_meta/metadata_manual_with_resolution_2025.csv\""
   ]
  },
  {
   "cell_type": "code",
   "execution_count": 3,
   "metadata": {
    "metadata": {}
   },
   "outputs": [],
   "source": [
    "# read existing metadata file\n",
    "meta_df = pd.read_csv(input_meta_file)\n",
    "meta_df.filename = meta_df.filename.astype(str)"
   ]
  },
  {
   "cell_type": "code",
   "execution_count": 4,
   "metadata": {},
   "outputs": [
    {
     "name": "stdout",
     "output_type": "stream",
     "text": [
      "<class 'pandas.core.frame.DataFrame'>\n",
      "RangeIndex: 2665 entries, 0 to 2664\n",
      "Data columns (total 18 columns):\n",
      " #   Column                     Non-Null Count  Dtype  \n",
      "---  ------                     --------------  -----  \n",
      " 0   filename                   2665 non-null   object \n",
      " 1   project_id                 2665 non-null   object \n",
      " 2   authors_image              2665 non-null   object \n",
      " 3   acquisition_date_month     2576 non-null   float64\n",
      " 4   acquisition_date_day       2553 non-null   float64\n",
      " 5   acquisition_date_year      2665 non-null   float64\n",
      " 6   acquisition_date_precise   839 non-null    float64\n",
      " 7   email                      0 non-null      float64\n",
      " 8   label_type                 1168 non-null   object \n",
      " 9   label_source               1168 non-null   object \n",
      " 10  image_platform             2665 non-null   object \n",
      " 11  image_spectral_properties  1983 non-null   object \n",
      " 12  citation_doi               358 non-null    object \n",
      " 13  label_quality              1179 non-null   float64\n",
      " 14  has_labels                 2665 non-null   int64  \n",
      " 15  license                    2665 non-null   object \n",
      " 16  public                     2665 non-null   int64  \n",
      " 17  additional_information     85 non-null     object \n",
      "dtypes: float64(6), int64(2), object(10)\n",
      "memory usage: 374.9+ KB\n"
     ]
    }
   ],
   "source": [
    "meta_df.info()"
   ]
  },
  {
   "cell_type": "code",
   "execution_count": 5,
   "metadata": {
    "metadata": {}
   },
   "outputs": [
    {
     "name": "stderr",
     "output_type": "stream",
     "text": [
      "100%|███████████████████████████████████████████████████████████████████████████████████████████████████████████████████████| 475/475 [00:00<00:00, 606.01it/s]\n"
     ]
    }
   ],
   "source": [
    "# Initialize an empty DataFrame\n",
    "extended_metadata_df = pd.DataFrame()\n",
    "# Iterate over all GeoTIFF files in the directory\n",
    "for filename in tqdm(os.listdir(input_dir)):\n",
    "    # find corresponding row in metadata file\n",
    "    if filename.endswith(\".tif\"):\n",
    "        filepath = os.path.join(input_dir, filename)\n",
    "        # Read the image\n",
    "        with rasterio.open(filepath) as src:\n",
    "            # Extract the bounds and resolution\n",
    "            bounds = src.bounds\n",
    "            file_meta = src.meta\n",
    "\n",
    "            raster_data = pd.DataFrame(\n",
    "                [\n",
    "                    {\n",
    "                        \"filename\": filename,\n",
    "                        \"west\": bounds.left,\n",
    "                        \"east\": bounds.right,\n",
    "                        \"south\": bounds.bottom,\n",
    "                        \"north\": bounds.top,\n",
    "                        \"width\": file_meta[\"width\"],\n",
    "                        \"height\": file_meta[\"height\"],\n",
    "                        \"crs\": file_meta[\"crs\"],\n",
    "                    },\n",
    "                ]\n",
    "            )\n",
    "            # Create a DataFrame from the row\n",
    "            raster_df = pd.DataFrame(raster_data)\n",
    "            # Append the row to the DataFrame\n",
    "            extended_metadata_df = pd.concat([extended_metadata_df, raster_df])"
   ]
  },
  {
   "cell_type": "code",
   "execution_count": 6,
   "metadata": {},
   "outputs": [],
   "source": [
    "# join extended metadata with existing metadata\n",
    "extended_metadata_df = extended_metadata_df.reset_index(drop=True)\n",
    "meta_df = meta_df.reset_index(drop=True)\n",
    "meta_df.filename = meta_df.filename.astype(str)\n",
    "extended_metadata_df.filename = extended_metadata_df.filename.astype(str)\n",
    "merged_df = pd.merge(meta_df, extended_metadata_df, on=\"filename\", how=\"inner\")\n",
    "\n",
    "# drop all rows with missing label_quality\n",
    "merged_df = merged_df.dropna(subset=[\"label_quality\"])"
   ]
  },
  {
   "cell_type": "code",
   "execution_count": 11,
   "metadata": {
    "metadata": {}
   },
   "outputs": [],
   "source": [
    "# Save the DataFrame to a CSV file\n",
    "merged_df.to_csv(output_file, index=False)"
   ]
  }
 ],
 "metadata": {
  "kernelspec": {
   "display_name": "Python 3 (ipykernel)",
   "language": "python",
   "name": "python3"
  },
  "language_info": {
   "codemirror_mode": {
    "name": "ipython",
    "version": 3
   },
   "file_extension": ".py",
   "mimetype": "text/x-python",
   "name": "python",
   "nbconvert_exporter": "python",
   "pygments_lexer": "ipython3",
   "version": "3.12.3"
  }
 },
 "nbformat": 4,
 "nbformat_minor": 4
}
