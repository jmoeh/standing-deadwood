{
 "cells": [
  {
   "cell_type": "code",
   "execution_count": null,
   "metadata": {},
   "outputs": [],
   "source": [
    "import os\n",
    "\n",
    "import fiona\n",
    "import geopandas as gpd\n",
    "import numpy as np\n",
    "import pandas as pd\n",
    "import rasterio\n",
    "from rasterio.features import geometry_mask, rasterize\n",
    "from rasterio.transform import from_bounds\n",
    "from shapely.geometry import mapping"
   ]
  },
  {
   "cell_type": "code",
   "execution_count": null,
   "metadata": {},
   "outputs": [],
   "source": [
    "labels_dir = \"../data/labels\"\n",
    "masks_dir = \"../data/masks\"\n",
    "metadata_file = \"../data/metadata.csv\"\n",
    "df_meta = pd.read_csv(metadata_file)\n",
    "df_meta.info()"
   ]
  },
  {
   "cell_type": "code",
   "execution_count": null,
   "metadata": {},
   "outputs": [],
   "source": [
    "# add new filename map column to find metadata for each image\n",
    "df_meta[\"filename_map\"] = df_meta[\"filename\"].str.replace(\"_ortho.tif\", \"\")\n",
    "df_meta.head()"
   ]
  },
  {
   "cell_type": "code",
   "execution_count": null,
   "metadata": {},
   "outputs": [],
   "source": [
    "# assert there is metadata for all gpkg files in given directory\n",
    "for filename in os.listdir(labels_dir):\n",
    "    assert filename.endswith(\".gpkg\")\n",
    "    assert (\n",
    "        filename.replace(\"_ortho_polygons.gpkg\", \"\") in df_meta[\"filename_map\"].values\n",
    "    )"
   ]
  },
  {
   "cell_type": "code",
   "execution_count": null,
   "metadata": {},
   "outputs": [],
   "source": [
    "# iterate over all gpkg files in given directory\n",
    "for filename in os.listdir(labels_dir):\n",
    "    if filename.endswith(\".gpkg\"):\n",
    "        filepath = os.path.join(labels_dir, filename)\n",
    "\n",
    "        # Get metadata for current gpkg file\n",
    "        filename_map = filename.replace(\"_ortho_polygons.gpkg\", \"\")\n",
    "        file_meta = df_meta.loc[df_meta[\"filename_map\"] == filename_map].to_dict(\n",
    "            \"records\"\n",
    "        )[0]\n",
    "        out_image = np.zeros((file_meta[\"height\"], file_meta[\"width\"]), dtype=np.uint8)\n",
    "\n",
    "        # crop the image based on the extend of the aoi layer\n",
    "        gdf_aoi = gpd.read_file(filepath, layer=\"aoi\")\n",
    "\n",
    "        # Read in gpkg file and determine if standing deadwood is present\n",
    "        layers = fiona.listlayers(filepath)\n",
    "        if \"standing_deadwood\" in layers:\n",
    "            gdf_label = gpd.read_file(filepath, layer=\"standing_deadwood\")\n",
    "\n",
    "            # Create transform from metadata\n",
    "            transform = from_bounds(\n",
    "                west=file_meta[\"left\"],\n",
    "                east=file_meta[\"right\"],\n",
    "                north=file_meta[\"top\"],\n",
    "                south=file_meta[\"bottom\"],\n",
    "                width=file_meta[\"width\"],\n",
    "                height=file_meta[\"height\"],\n",
    "            )\n",
    "\n",
    "            # Rasterize polygons\n",
    "            for _, row in gdf_label.iterrows():\n",
    "                geom = mapping(row[\"geometry\"])\n",
    "                mask = geometry_mask(\n",
    "                    [geom], transform=transform, invert=True, out_shape=out_image.shape\n",
    "                )\n",
    "                out_image[mask] = 1\n",
    "\n",
    "            # Save image\n",
    "            with rasterio.open(\n",
    "                os.path.join(masks_dir, filename_map + \"ortho_mask.tif\"),\n",
    "                \"w\",\n",
    "                driver=\"GTiff\",\n",
    "                height=out_image.shape[0],\n",
    "                width=out_image.shape[1],\n",
    "                count=1,\n",
    "                dtype=\"uint8\",\n",
    "                crs=\"EPSG:4326\",\n",
    "                transform=transform,\n",
    "            ) as dst:\n",
    "                dst.write(out_image, 1)"
   ]
  }
 ],
 "metadata": {
  "kernelspec": {
   "display_name": ".venv",
   "language": "python",
   "name": "python3"
  },
  "language_info": {
   "codemirror_mode": {
    "name": "ipython",
    "version": 3
   },
   "file_extension": ".py",
   "mimetype": "text/x-python",
   "name": "python",
   "nbconvert_exporter": "python",
   "pygments_lexer": "ipython3",
   "version": "3.8.18"
  }
 },
 "nbformat": 4,
 "nbformat_minor": 2
}
