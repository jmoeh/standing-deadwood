{
 "cells": [
  {
   "cell_type": "code",
   "execution_count": 87,
   "metadata": {},
   "outputs": [],
   "source": [
    "import os\n",
    "\n",
    "import geopandas as gpd\n",
    "import numpy as np\n",
    "import rasterio\n",
    "from rasterio import windows\n",
    "from rasterio.features import geometry_window\n",
    "from shapely.geometry import mapping"
   ]
  },
  {
   "cell_type": "code",
   "execution_count": 81,
   "metadata": {},
   "outputs": [],
   "source": [
    "os.environ[\"GDAL_PAM_ENABLED\"] = \"NO\""
   ]
  },
  {
   "cell_type": "code",
   "execution_count": 84,
   "metadata": {},
   "outputs": [],
   "source": [
    "def get_windows(xmin, ymin, xmax, ymax, tile_width, tile_height, overlap):\n",
    "    xstep = tile_width - overlap\n",
    "    ystep = tile_height - overlap\n",
    "    for x in range(xmin, xmax, xstep):\n",
    "        if x + tile_width > xmax:\n",
    "            x = xmax - tile_width\n",
    "        for y in range(ymin, ymax, ystep):\n",
    "            if y + tile_height > ymax:\n",
    "                y = ymax - tile_height\n",
    "            window = windows.Window(x, y, tile_width, tile_height)\n",
    "            yield window"
   ]
  },
  {
   "cell_type": "code",
   "execution_count": 91,
   "metadata": {},
   "outputs": [],
   "source": [
    "tile_width = 512\n",
    "tile_height = 512\n",
    "tile_overlap = 256\n",
    "\n",
    "filepath = \"data/images/uavforsat_DDH001_ortho_8857.tif\"\n",
    "out_path = \"data/tiles/\"\n",
    "label_path = \"data/labels\"\n",
    "out_filename = \"{}_{}_{}.tif\"\n",
    "\n",
    "metadata = src.meta.copy()\n",
    "filename = os.path.basename(filepath)\n",
    "\n",
    "label_filename = filename.replace(\"_8857.tif\", \"_polygons.gpkg\")\n",
    "gdf_label = gpd.read_file(os.path.join(label_path, label_filename), layer=\"aoi\")\n",
    "gdf_label = gdf_label.to_crs(\"EPSG:8857\")\n",
    "\n",
    "with rasterio.open(filepath) as src:\n",
    "    metadata = src.meta.copy()\n",
    "\n",
    "    for _, row in gdf_label.iterrows():\n",
    "        aoi_window = geometry_window(src, [row.geometry])\n",
    "        xmin, ymin = aoi_window.col_off, aoi_window.row_off\n",
    "        xmax, ymax = xmin + aoi_window.width, ymin + aoi_window.height\n",
    "\n",
    "        for window in get_windows(\n",
    "            xmin, ymin, xmax, ymax, tile_width, tile_height, tile_overlap\n",
    "        ):\n",
    "            transform = windows.transform(window, src.transform)\n",
    "            metadata[\"transform\"] = transform\n",
    "            metadata[\"width\"], metadata[\"height\"] = window.width, window.height\n",
    "            out_filepath = os.path.join(\n",
    "                out_path,\n",
    "                out_filename.format(filename[:-4], window.col_off, window.row_off),\n",
    "            )\n",
    "            out_image = src.read(window=window)\n",
    "            if np.count_nonzero(out_image == 255) / out_image.size < 0.01:\n",
    "                with rasterio.open(out_filepath, \"w\", **metadata) as dst:\n",
    "                    dst.write(out_image)"
   ]
  }
 ],
 "metadata": {
  "kernelspec": {
   "display_name": "venv",
   "language": "python",
   "name": "python3"
  },
  "language_info": {
   "codemirror_mode": {
    "name": "ipython",
    "version": 3
   },
   "file_extension": ".py",
   "mimetype": "text/x-python",
   "name": "python",
   "nbconvert_exporter": "python",
   "pygments_lexer": "ipython3",
   "version": "3.8.18"
  }
 },
 "nbformat": 4,
 "nbformat_minor": 2
}
